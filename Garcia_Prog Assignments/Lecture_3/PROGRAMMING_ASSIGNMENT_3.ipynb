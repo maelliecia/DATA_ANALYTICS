{
 "cells": [
  {
   "cell_type": "markdown",
   "metadata": {},
   "source": [
    "## Programming Assignment\n",
    "#### Submitted by Maria Eloisa H. Garcia\n",
    "\n",
    "----\n",
    "\n",
    "#### Instructions:\n",
    "\n",
    "1. Read the article: https://www.sciencedirect.com/science/article/abs/pii/S0031320322001753\n",
    "2. Replicate the study using the same dataset."
   ]
  },
  {
   "cell_type": "code",
   "execution_count": 1,
   "metadata": {},
   "outputs": [],
   "source": [
    "from ucimlrepo import fetch_ucirepo \n",
    "import pandas as pd\n",
    "import numpy as np\n",
    "from sklearn.metrics.cluster import adjusted_rand_score, normalized_mutual_info_score, fowlkes_mallows_score\n",
    "from sklearn.cluster import KMeans\n",
    "from sklearn.manifold import SpectralEmbedding\n",
    "from sklearn.preprocessing import OneHotEncoder\n",
    "import networkx as nx\n",
    "import itertools\n",
    "import warnings\n",
    "from sklearn.cluster import AgglomerativeClustering\n",
    "from kmodes.kmodes import KModes\n",
    "from sklearn.preprocessing import LabelEncoder "
   ]
  },
  {
   "cell_type": "code",
   "execution_count": 2,
   "metadata": {},
   "outputs": [],
   "source": [
    "# fetch datasets\n",
    "soybean= fetch_ucirepo(id=91) \n",
    "zoo = fetch_ucirepo(id=111) \n",
    "heart_disease = fetch_ucirepo(id=45) \n",
    "dermatology = fetch_ucirepo(id=33)\n",
    "breast_cancer = fetch_ucirepo(id=15)\n",
    "mushroom = fetch_ucirepo(id=73) "
   ]
  },
  {
   "cell_type": "code",
   "execution_count": 3,
   "metadata": {},
   "outputs": [],
   "source": [
    "# convert to dataframes\n",
    "X = soybean.data.features\n",
    "y = soybean.data.targets \n",
    "soybean_df = pd.merge(X, y, left_index=True, right_index=True)\n",
    "\n",
    "X = zoo.data.features\n",
    "y = zoo.data.targets \n",
    "zoo_df = pd.merge(X, y, left_index=True, right_index=True)\n",
    "\n",
    "X = heart_disease.data.features\n",
    "y = heart_disease.data.targets \n",
    "heart_disease_df = pd.merge(X, y, left_index=True, right_index=True)\n",
    "\n",
    "X = dermatology.data.features\n",
    "y = dermatology.data.targets \n",
    "dermatology_df = pd.merge(X, y, left_index=True, right_index=True)\n",
    "\n",
    "X = breast_cancer.data.features\n",
    "y = breast_cancer.data.targets \n",
    "breast_cancer_df = pd.merge(X, y, left_index=True, right_index=True)\n",
    "\n",
    "X = mushroom.data.features\n",
    "y = mushroom.data.targets \n",
    "mushroom_df = pd.merge(X, y, left_index=True, right_index=True)\n",
    "\n",
    "soybean_df = soybean_df.dropna()\n",
    "zoo_df = zoo_df.dropna()\n",
    "heart_disease_df = heart_disease_df.dropna()\n",
    "dermatology_df = dermatology_df.dropna()\n",
    "breast_cancer_df = breast_cancer_df.dropna()\n",
    "mushroom_df = mushroom_df.dropna()"
   ]
  },
  {
   "cell_type": "code",
   "execution_count": 4,
   "metadata": {},
   "outputs": [],
   "source": [
    "def jaccard_coefficient(set1, set2):\n",
    "    intersection = len(set1.intersection(set2))\n",
    "    union = len(set1.union(set2))\n",
    "    return intersection / union\n",
    "\n",
    "def ochiai_coefficient(set1, set2):\n",
    "    intersection = len(set1.intersection(set2))\n",
    "    denominator = np.sqrt(len(set1) * len(set2))\n",
    "    return intersection / denominator\n",
    "\n",
    "def overlap_coefficient(set1, set2):\n",
    "    intersection = len(set1.intersection(set2))\n",
    "    min_length = min(len(set1), len(set2))\n",
    "    return intersection / min_length\n",
    "\n",
    "def dice_coefficient(set1, set2):\n",
    "    intersection = len(set1.intersection(set2))\n",
    "    denominator = len(set1) + len(set2)\n",
    "    return 2 * intersection / denominator\n",
    "\n",
    "def graph_based_representation(data):\n",
    "    num_samples, num_features = data.shape\n",
    "    similarity_matrix = np.zeros((num_features, num_features))\n",
    "    for i, j in itertools.combinations(range(num_features), 2):\n",
    "        similarity_matrix[i, j] = jaccard_coefficient(set(data[:, i]), set(data[:, j]))\n",
    "        similarity_matrix[j, i] = similarity_matrix[i, j]\n",
    "    G = nx.from_numpy_array(similarity_matrix)\n",
    "    embedding = SpectralEmbedding(n_components=p)\n",
    "    representation_matrix = embedding.fit_transform(similarity_matrix)\n",
    "    return representation_matrix\n",
    "\n",
    "def joint_operation(data, representation_matrix):\n",
    "    return np.dot(data, representation_matrix)\n",
    "\n",
    "def mean_operation(data, representation_matrix):\n",
    "    return np.mean(np.dot(data, representation_matrix), axis=1)\n",
    "\n",
    "def perform_clustering(data, k):\n",
    "    kmeans = KMeans(n_clusters=k)\n",
    "    return kmeans.fit_predict(data)"
   ]
  },
  {
   "cell_type": "markdown",
   "metadata": {},
   "source": [
    "3. Read articles about Adjusted Rand Index, Normalized Mutual Information, and Folkes-Mallows Index (only use paper published in IEEE, sciencedirect, springerlink, Taylor Francis).\n",
    "4. Aside from the Adjusted Rand Index (ARI), and Normalized Mutual Information (NMI), use the Folkes-Mallows Index (FMI), and compare the result of each performance index."
   ]
  },
  {
   "cell_type": "code",
   "execution_count": 5,
   "metadata": {},
   "outputs": [
    {
     "name": "stdout",
     "output_type": "stream",
     "text": [
      "            Dataset       ARI       NMI       FMI\n",
      "0        soybean_df  0.427922  0.615203  0.602283\n",
      "1            zoo_df  0.714645  0.734450  0.809650\n",
      "2  heart_disease_df  0.305414  0.373894  0.545601\n",
      "3    dermatology_df  0.442272  0.586775  0.620302\n",
      "4  breast_cancer_df  0.716976  0.640601  0.859445\n",
      "5       mushroom_df  0.289424  0.344347  0.600922\n"
     ]
    }
   ],
   "source": [
    "# define parameters\n",
    "p = 10\n",
    "q = 10 \n",
    "k = 3\n",
    "\n",
    "results = []\n",
    "\n",
    "# data preprocessing and clustering\n",
    "datasets = [\"soybean_df\", \"zoo_df\", \"heart_disease_df\", \"dermatology_df\", \"breast_cancer_df\", \"mushroom_df\"]\n",
    "for dataset_name in datasets:\n",
    "    dataset = globals()[dataset_name]\n",
    "    with warnings.catch_warnings():\n",
    "        warnings.filterwarnings(\"ignore\", category=UserWarning)\n",
    "        try:\n",
    "            X = dataset\n",
    "            enc = OneHotEncoder()\n",
    "            X_encoded = enc.fit_transform(X)\n",
    "            representation_matrix = graph_based_representation(X_encoded.toarray())\n",
    "            integrated_data = joint_operation(X_encoded.toarray(), representation_matrix)\n",
    "            labels = perform_clustering(integrated_data, k)\n",
    "\n",
    "            true_labels = dataset.iloc[:, -1] \n",
    "            ARI = adjusted_rand_score(true_labels, labels)\n",
    "            NMI = normalized_mutual_info_score(true_labels, labels)\n",
    "            FMI = fowlkes_mallows_score(true_labels, labels)\n",
    "            results.append([dataset_name, ARI, NMI, FMI])\n",
    "        except UserWarning as e:\n",
    "            print(f\"Warning: {e}\")\n",
    "\n",
    "results_df = pd.DataFrame(results, columns=[\"Dataset\", \"ARI\", \"NMI\", \"FMI\"])\n",
    "print(results_df)"
   ]
  },
  {
   "cell_type": "markdown",
   "metadata": {},
   "source": [
    "\n",
    "5. Compare and contrast each performance index, what are the advantages and disadvantages of ARI, NMI, and FMI, and when to use each?\n",
    "    \n",
    "    = The Adjusted Rand Index (ARI), Normalized Mutual Information (NMI), and Fowlkes-Mallows Index (FMI) are commonly used performance metrics in clustering analysis. ARI is advantageous as it corrects for chance, making it suitable for evaluating the agreement between clusterings even if the cluster sizes vary. NMI quantifies the amount of information shared by two clusterings, normalizing the mutual information score to provide a value between 0 and 1, where 1 indicates identical clusterings. FMI evaluates the similarity between two clusterings by calculating the geometric mean of precision and recall. \n",
    "    \n",
    "    In practice, ARI is preferred when comparing clusterings with varying cluster sizes and when a reference clustering is available. NMI is suitable for comparing clusterings without a reference and handling varying cluster sizes. FMI is valuable when precision and recall are essential for evaluating clustering results."
   ]
  },
  {
   "cell_type": "markdown",
   "metadata": {},
   "source": [
    "6. Using Kmodes and Hierarchical Clustering, use the same dataset and perform categorical data clustering, use FMI, ARI, and NMI for the comparison of performance."
   ]
  },
  {
   "cell_type": "code",
   "execution_count": 6,
   "metadata": {},
   "outputs": [
    {
     "name": "stdout",
     "output_type": "stream",
     "text": [
      "                            Dataset       ARI       NMI       FMI\n",
      "0               soybean_df (Kmodes)  0.653689  0.837666  0.783908\n",
      "1         soybean_df (Hierarchical)  0.653689  0.837666  0.783908\n",
      "2                   zoo_df (Kmodes)  0.721570  0.714510  0.812035\n",
      "3             zoo_df (Hierarchical)  0.461701  0.585056  0.645736\n",
      "4         heart_disease_df (Kmodes)  0.152201  0.173102  0.443410\n",
      "5   heart_disease_df (Hierarchical)  0.009543  0.010944  0.353434\n",
      "6           dermatology_df (Kmodes)  0.283247  0.348970  0.480600\n",
      "7     dermatology_df (Hierarchical)  0.032201  0.078147  0.293614\n",
      "8         breast_cancer_df (Kmodes)  0.368440  0.447053  0.659501\n",
      "9   breast_cancer_df (Hierarchical)  0.781678  0.688725  0.893555\n",
      "10             mushroom_df (Kmodes)  0.325039  0.369164  0.650832\n",
      "11       mushroom_df (Hierarchical)  0.298722  0.431275  0.610515\n"
     ]
    }
   ],
   "source": [
    "results_categorical = []\n",
    "\n",
    "for dataset_name in datasets:\n",
    "    dataset = globals()[dataset_name]\n",
    "    with warnings.catch_warnings():\n",
    "        warnings.filterwarnings(\"ignore\", category=UserWarning)\n",
    "        try:\n",
    "            X_cat = dataset.iloc[:, :-1]\n",
    "            true_labels_cat = dataset.iloc[:, -1]\n",
    "\n",
    "            encoder = LabelEncoder()\n",
    "            X_cat_encoded = X_cat.apply(encoder.fit_transform)\n",
    "\n",
    "            km = KModes(n_clusters=k, init='Huang', n_init=5, verbose=0)\n",
    "            km_labels = km.fit_predict(X_cat_encoded)\n",
    "            ARI_km = adjusted_rand_score(true_labels_cat, km_labels)\n",
    "            NMI_km = normalized_mutual_info_score(true_labels_cat, km_labels)\n",
    "            FMI_km = fowlkes_mallows_score(true_labels_cat, km_labels)\n",
    "\n",
    "            ac = AgglomerativeClustering(n_clusters=k, linkage='ward')\n",
    "            ac_labels = ac.fit_predict(X_cat_encoded)\n",
    "            ARI_ac = adjusted_rand_score(true_labels_cat, ac_labels)\n",
    "            NMI_ac = normalized_mutual_info_score(true_labels_cat, ac_labels)\n",
    "            FMI_ac = fowlkes_mallows_score(true_labels_cat, ac_labels)\n",
    "            \n",
    "            results_categorical.append([dataset_name + \" (Kmodes)\", ARI_km, NMI_km, FMI_km])\n",
    "            results_categorical.append([dataset_name + \" (Hierarchical)\", ARI_ac, NMI_ac, FMI_ac])\n",
    "        except UserWarning as e:\n",
    "            print(f\"Warning: {e}\")\n",
    "\n",
    "results_categorical_df = pd.DataFrame(results_categorical, columns=[\"Dataset\", \"ARI\", \"NMI\", \"FMI\"])\n",
    "print(results_categorical_df)"
   ]
  },
  {
   "cell_type": "markdown",
   "metadata": {},
   "source": [
    "7. Write your report using Latex. Your report should be focused on the \"why's and the what's\" of each performance metrices (i.e. why is FMI always greater than ARI and NMI? What's the problem with ARI and NMI?).\n",
    "\n",
    "    = The ARI, NMI, and FMI metrics are critical in evaluating clustering performance in various domains. For example, in the analysis of single-cell RNA sequencing data, ARI is used as one of the benchmark metrics to evaluate the effectiveness of batch-effect correction methods. Both NMI and ARI are utilized in deep image clustering to evaluate clustering methods' performance. Similarly, in network-guided sparse subspace clustering, NMI and ARI are exploited to evaluate different clustering techniques.\n",
    "\n",
    "    The selection of these metrics is justified by their ability to provide quantitative insights into the quality of clustering results. For task-oriented clustering in dialogues, NMI and ARI are used along with other metrics to evaluate clustering algorithms' performance. ARI is essential for achieving better clustering performance by considering pairwise and cardinality constraints in constrained clustering.\n",
    "    \n",
    "    FMI consistently performs better than ARI and NMI. ARI's accuracy in evaluating clustering results can be affected by its bias towards clustering with a higher number of clusters. NMI is widely used but has been criticized for its sensitivity to the number of clusters and cluster size imbalances, which could lead to misleading results. Due to its scoring range's emphasis on accurate classification, FMI provides a more robust metric for evaluating clustering performance.\n",
    "\n",
    "    Moreover, the comprehensive analysis of performance metrics in different studies highlights the significance of FMI in providing a reliable and consistent evaluation of clustering and fusion algorithms. Its ability to capture accurate classification results and its consistent performance across various applications make FMI a preferred metric for assessing the quality and effectiveness of clustering and fusion techniques."
   ]
  }
 ],
 "metadata": {
  "kernelspec": {
   "display_name": "Python 3",
   "language": "python",
   "name": "python3"
  },
  "language_info": {
   "codemirror_mode": {
    "name": "ipython",
    "version": 3
   },
   "file_extension": ".py",
   "mimetype": "text/x-python",
   "name": "python",
   "nbconvert_exporter": "python",
   "pygments_lexer": "ipython3",
   "version": "3.12.2"
  }
 },
 "nbformat": 4,
 "nbformat_minor": 2
}
