{
 "cells": [
  {
   "cell_type": "markdown",
   "metadata": {},
   "source": [
    "$\\textbf{PROGRAMMING ASSIGNMENT}$\n",
    "\n",
    "##### Submitted by Maria Eloisa H. Garcia\n",
    "---\n",
    "\n",
    "#### Data: https://archive.ics.uci.edu\n",
    "\n",
    "#### Instructions: Choose a dataset of your liking and perform the following:\n",
    "\n",
    "#### 1. Create a Correlation Plot"
   ]
  },
  {
   "cell_type": "code",
   "execution_count": 8,
   "metadata": {},
   "outputs": [
    {
     "data": {
      "text/html": [
       "<div>\n",
       "<style scoped>\n",
       "    .dataframe tbody tr th:only-of-type {\n",
       "        vertical-align: middle;\n",
       "    }\n",
       "\n",
       "    .dataframe tbody tr th {\n",
       "        vertical-align: top;\n",
       "    }\n",
       "\n",
       "    .dataframe thead th {\n",
       "        text-align: right;\n",
       "    }\n",
       "</style>\n",
       "<table border=\"1\" class=\"dataframe\">\n",
       "  <thead>\n",
       "    <tr style=\"text-align: right;\">\n",
       "      <th></th>\n",
       "      <th>MDEC-23</th>\n",
       "      <th>MATS2v</th>\n",
       "      <th>ATSC8s</th>\n",
       "      <th>VE3_Dt</th>\n",
       "      <th>CrippenMR</th>\n",
       "      <th>SpMax7_Bhe</th>\n",
       "      <th>SpMin1_Bhs</th>\n",
       "      <th>C1SP2</th>\n",
       "      <th>GATS8e</th>\n",
       "      <th>GATS8s</th>\n",
       "      <th>SpMax5_Bhv</th>\n",
       "      <th>VE3_Dzi</th>\n",
       "      <th>VPC-4</th>\n",
       "    </tr>\n",
       "  </thead>\n",
       "  <tbody>\n",
       "    <tr>\n",
       "      <th>0</th>\n",
       "      <td>60.1757</td>\n",
       "      <td>-0.0231</td>\n",
       "      <td>-0.6667</td>\n",
       "      <td>-167.1241</td>\n",
       "      <td>0.0000</td>\n",
       "      <td>3.4009</td>\n",
       "      <td>2.3109</td>\n",
       "      <td>4</td>\n",
       "      <td>1.0229</td>\n",
       "      <td>1.0575</td>\n",
       "      <td>3.5545</td>\n",
       "      <td>-15.5940</td>\n",
       "      <td>4.1692</td>\n",
       "    </tr>\n",
       "    <tr>\n",
       "      <th>1</th>\n",
       "      <td>44.5031</td>\n",
       "      <td>-0.1236</td>\n",
       "      <td>-16.5096</td>\n",
       "      <td>-16.2080</td>\n",
       "      <td>172.2000</td>\n",
       "      <td>3.3611</td>\n",
       "      <td>2.1117</td>\n",
       "      <td>2</td>\n",
       "      <td>1.7155</td>\n",
       "      <td>1.7013</td>\n",
       "      <td>3.6066</td>\n",
       "      <td>-14.3317</td>\n",
       "      <td>2.0821</td>\n",
       "    </tr>\n",
       "    <tr>\n",
       "      <th>2</th>\n",
       "      <td>37.5488</td>\n",
       "      <td>0.0662</td>\n",
       "      <td>19.3467</td>\n",
       "      <td>-159.1796</td>\n",
       "      <td>173.4028</td>\n",
       "      <td>3.2705</td>\n",
       "      <td>2.0198</td>\n",
       "      <td>8</td>\n",
       "      <td>0.6992</td>\n",
       "      <td>0.7828</td>\n",
       "      <td>3.6441</td>\n",
       "      <td>-25.4493</td>\n",
       "      <td>2.8730</td>\n",
       "    </tr>\n",
       "    <tr>\n",
       "      <th>3</th>\n",
       "      <td>40.5929</td>\n",
       "      <td>0.0714</td>\n",
       "      <td>-9.5672</td>\n",
       "      <td>-21.4416</td>\n",
       "      <td>177.2726</td>\n",
       "      <td>3.2748</td>\n",
       "      <td>2.0191</td>\n",
       "      <td>6</td>\n",
       "      <td>0.9951</td>\n",
       "      <td>1.0298</td>\n",
       "      <td>3.6564</td>\n",
       "      <td>-19.6376</td>\n",
       "      <td>3.0444</td>\n",
       "    </tr>\n",
       "    <tr>\n",
       "      <th>4</th>\n",
       "      <td>52.7343</td>\n",
       "      <td>-0.0861</td>\n",
       "      <td>-11.8892</td>\n",
       "      <td>-2.0780</td>\n",
       "      <td>171.1315</td>\n",
       "      <td>3.4094</td>\n",
       "      <td>2.1664</td>\n",
       "      <td>2</td>\n",
       "      <td>0.7363</td>\n",
       "      <td>0.7427</td>\n",
       "      <td>3.5216</td>\n",
       "      <td>-8.2157</td>\n",
       "      <td>2.9469</td>\n",
       "    </tr>\n",
       "    <tr>\n",
       "      <th>...</th>\n",
       "      <td>...</td>\n",
       "      <td>...</td>\n",
       "      <td>...</td>\n",
       "      <td>...</td>\n",
       "      <td>...</td>\n",
       "      <td>...</td>\n",
       "      <td>...</td>\n",
       "      <td>...</td>\n",
       "      <td>...</td>\n",
       "      <td>...</td>\n",
       "      <td>...</td>\n",
       "      <td>...</td>\n",
       "      <td>...</td>\n",
       "    </tr>\n",
       "    <tr>\n",
       "      <th>166</th>\n",
       "      <td>13.6305</td>\n",
       "      <td>-0.1231</td>\n",
       "      <td>-3.1521</td>\n",
       "      <td>-2.9706</td>\n",
       "      <td>71.9807</td>\n",
       "      <td>2.4269</td>\n",
       "      <td>2.0708</td>\n",
       "      <td>1</td>\n",
       "      <td>1.0932</td>\n",
       "      <td>0.7954</td>\n",
       "      <td>2.8103</td>\n",
       "      <td>-4.3924</td>\n",
       "      <td>0.7136</td>\n",
       "    </tr>\n",
       "    <tr>\n",
       "      <th>167</th>\n",
       "      <td>33.1806</td>\n",
       "      <td>-0.0486</td>\n",
       "      <td>-7.2825</td>\n",
       "      <td>-4.0095</td>\n",
       "      <td>125.0777</td>\n",
       "      <td>3.0040</td>\n",
       "      <td>2.0701</td>\n",
       "      <td>3</td>\n",
       "      <td>1.0687</td>\n",
       "      <td>0.9850</td>\n",
       "      <td>3.2560</td>\n",
       "      <td>-4.4435</td>\n",
       "      <td>1.6616</td>\n",
       "    </tr>\n",
       "    <tr>\n",
       "      <th>168</th>\n",
       "      <td>28.3570</td>\n",
       "      <td>-0.0726</td>\n",
       "      <td>8.0017</td>\n",
       "      <td>-3.2338</td>\n",
       "      <td>133.7697</td>\n",
       "      <td>3.2468</td>\n",
       "      <td>1.9242</td>\n",
       "      <td>2</td>\n",
       "      <td>1.3249</td>\n",
       "      <td>0.9103</td>\n",
       "      <td>3.2822</td>\n",
       "      <td>-5.5907</td>\n",
       "      <td>1.9339</td>\n",
       "    </tr>\n",
       "    <tr>\n",
       "      <th>169</th>\n",
       "      <td>26.4286</td>\n",
       "      <td>0.0420</td>\n",
       "      <td>-32.5992</td>\n",
       "      <td>-7.0649</td>\n",
       "      <td>144.0674</td>\n",
       "      <td>3.2089</td>\n",
       "      <td>1.9162</td>\n",
       "      <td>4</td>\n",
       "      <td>1.3001</td>\n",
       "      <td>1.2687</td>\n",
       "      <td>3.2904</td>\n",
       "      <td>-3.5370</td>\n",
       "      <td>2.0526</td>\n",
       "    </tr>\n",
       "    <tr>\n",
       "      <th>170</th>\n",
       "      <td>9.8829</td>\n",
       "      <td>0.1044</td>\n",
       "      <td>59.0380</td>\n",
       "      <td>-2.5619</td>\n",
       "      <td>53.6910</td>\n",
       "      <td>2.2471</td>\n",
       "      <td>2.0006</td>\n",
       "      <td>1</td>\n",
       "      <td>0.2076</td>\n",
       "      <td>0.2720</td>\n",
       "      <td>2.5034</td>\n",
       "      <td>-3.2052</td>\n",
       "      <td>0.9563</td>\n",
       "    </tr>\n",
       "  </tbody>\n",
       "</table>\n",
       "<p>171 rows × 13 columns</p>\n",
       "</div>"
      ],
      "text/plain": [
       "     MDEC-23  MATS2v   ATSC8s    VE3_Dt  CrippenMR  SpMax7_Bhe  SpMin1_Bhs  \\\n",
       "0    60.1757 -0.0231  -0.6667 -167.1241     0.0000      3.4009      2.3109   \n",
       "1    44.5031 -0.1236 -16.5096  -16.2080   172.2000      3.3611      2.1117   \n",
       "2    37.5488  0.0662  19.3467 -159.1796   173.4028      3.2705      2.0198   \n",
       "3    40.5929  0.0714  -9.5672  -21.4416   177.2726      3.2748      2.0191   \n",
       "4    52.7343 -0.0861 -11.8892   -2.0780   171.1315      3.4094      2.1664   \n",
       "..       ...     ...      ...       ...        ...         ...         ...   \n",
       "166  13.6305 -0.1231  -3.1521   -2.9706    71.9807      2.4269      2.0708   \n",
       "167  33.1806 -0.0486  -7.2825   -4.0095   125.0777      3.0040      2.0701   \n",
       "168  28.3570 -0.0726   8.0017   -3.2338   133.7697      3.2468      1.9242   \n",
       "169  26.4286  0.0420 -32.5992   -7.0649   144.0674      3.2089      1.9162   \n",
       "170   9.8829  0.1044  59.0380   -2.5619    53.6910      2.2471      2.0006   \n",
       "\n",
       "     C1SP2  GATS8e  GATS8s  SpMax5_Bhv  VE3_Dzi   VPC-4  \n",
       "0        4  1.0229  1.0575      3.5545 -15.5940  4.1692  \n",
       "1        2  1.7155  1.7013      3.6066 -14.3317  2.0821  \n",
       "2        8  0.6992  0.7828      3.6441 -25.4493  2.8730  \n",
       "3        6  0.9951  1.0298      3.6564 -19.6376  3.0444  \n",
       "4        2  0.7363  0.7427      3.5216  -8.2157  2.9469  \n",
       "..     ...     ...     ...         ...      ...     ...  \n",
       "166      1  1.0932  0.7954      2.8103  -4.3924  0.7136  \n",
       "167      3  1.0687  0.9850      3.2560  -4.4435  1.6616  \n",
       "168      2  1.3249  0.9103      3.2822  -5.5907  1.9339  \n",
       "169      4  1.3001  1.2687      3.2904  -3.5370  2.0526  \n",
       "170      1  0.2076  0.2720      2.5034  -3.2052  0.9563  \n",
       "\n",
       "[171 rows x 13 columns]"
      ]
     },
     "execution_count": 8,
     "metadata": {},
     "output_type": "execute_result"
    }
   ],
   "source": [
    "import pandas as pd\n",
    "\n",
    "# Load the dataset\n",
    "df = pd.read_csv(\"Toxicity-13F.csv\", sep=',', header=0)\n",
    "\n",
    "# Exclude the last column (categorical)\n",
    "df = df.iloc[:, :-1]\n",
    "df"
   ]
  },
  {
   "cell_type": "code",
   "execution_count": 9,
   "metadata": {},
   "outputs": [
    {
     "data": {
      "application/vnd.plotly.v1+json": {
       "config": {
        "plotlyServerURL": "https://plot.ly"
       },
       "data": [
        {
         "coloraxis": "coloraxis",
         "hovertemplate": "x: %{x}<br>y: %{y}<br>color: %{z}<extra></extra>",
         "name": "0",
         "texttemplate": "%{z}",
         "type": "heatmap",
         "x": [
          "MDEC-23",
          "MATS2v",
          "ATSC8s",
          "VE3_Dt",
          "CrippenMR",
          "SpMax7_Bhe",
          "SpMin1_Bhs",
          "C1SP2",
          "GATS8e",
          "GATS8s",
          "SpMax5_Bhv",
          "VE3_Dzi"
         ],
         "xaxis": "x",
         "y": [
          "MATS2v",
          "ATSC8s",
          "VE3_Dt",
          "CrippenMR",
          "SpMax7_Bhe",
          "SpMin1_Bhs",
          "C1SP2",
          "GATS8e",
          "GATS8s",
          "SpMax5_Bhv",
          "VE3_Dzi",
          "VPC-4"
         ],
         "yaxis": "y",
         "z": [
          [
           -0.3,
           null,
           null,
           null,
           null,
           null,
           null,
           null,
           null,
           null,
           null,
           null
          ],
          [
           0,
           -0.2,
           null,
           null,
           null,
           null,
           null,
           null,
           null,
           null,
           null,
           null
          ],
          [
           -0.2,
           0.2,
           0,
           null,
           null,
           null,
           null,
           null,
           null,
           null,
           null,
           null
          ],
          [
           0.5,
           -0.1,
           -0.1,
           0,
           null,
           null,
           null,
           null,
           null,
           null,
           null,
           null
          ],
          [
           0.7,
           -0.1,
           -0.1,
           -0.1,
           0.6,
           null,
           null,
           null,
           null,
           null,
           null,
           null
          ],
          [
           0.4,
           0,
           0,
           -0.1,
           0,
           0.2,
           null,
           null,
           null,
           null,
           null,
           null
          ],
          [
           0.1,
           -0.1,
           0.1,
           -0.1,
           0.2,
           0.3,
           -0.1,
           null,
           null,
           null,
           null,
           null
          ],
          [
           -0.1,
           0.2,
           -0.4,
           0.1,
           -0.1,
           -0.3,
           0,
           -0.2,
           null,
           null,
           null,
           null
          ],
          [
           -0.1,
           0.2,
           -0.4,
           0.1,
           -0.1,
           -0.2,
           0.1,
           -0.2,
           0.9,
           null,
           null,
           null
          ],
          [
           0.7,
           -0.2,
           -0.1,
           -0.2,
           0.7,
           0.8,
           0.1,
           0.3,
           -0.2,
           -0.2,
           null,
           null
          ],
          [
           -0.2,
           0.2,
           0.1,
           0.7,
           -0.1,
           -0.1,
           0,
           0,
           0,
           0.1,
           -0.1,
           null
          ],
          [
           0.4,
           0.3,
           -0.1,
           -0.1,
           0.2,
           0.4,
           0.1,
           0.1,
           -0.1,
           0,
           0.3,
           -0.1
          ]
         ]
        }
       ],
       "layout": {
        "coloraxis": {
         "colorscale": [
          [
           0,
           "#0d0887"
          ],
          [
           0.1111111111111111,
           "#46039f"
          ],
          [
           0.2222222222222222,
           "#7201a8"
          ],
          [
           0.3333333333333333,
           "#9c179e"
          ],
          [
           0.4444444444444444,
           "#bd3786"
          ],
          [
           0.5555555555555556,
           "#d8576b"
          ],
          [
           0.6666666666666666,
           "#ed7953"
          ],
          [
           0.7777777777777778,
           "#fb9f3a"
          ],
          [
           0.8888888888888888,
           "#fdca26"
          ],
          [
           1,
           "#f0f921"
          ]
         ]
        },
        "height": 900,
        "margin": {
         "t": 60
        },
        "template": {
         "data": {
          "bar": [
           {
            "error_x": {
             "color": "#2a3f5f"
            },
            "error_y": {
             "color": "#2a3f5f"
            },
            "marker": {
             "line": {
              "color": "#E5ECF6",
              "width": 0.5
             },
             "pattern": {
              "fillmode": "overlay",
              "size": 10,
              "solidity": 0.2
             }
            },
            "type": "bar"
           }
          ],
          "barpolar": [
           {
            "marker": {
             "line": {
              "color": "#E5ECF6",
              "width": 0.5
             },
             "pattern": {
              "fillmode": "overlay",
              "size": 10,
              "solidity": 0.2
             }
            },
            "type": "barpolar"
           }
          ],
          "carpet": [
           {
            "aaxis": {
             "endlinecolor": "#2a3f5f",
             "gridcolor": "white",
             "linecolor": "white",
             "minorgridcolor": "white",
             "startlinecolor": "#2a3f5f"
            },
            "baxis": {
             "endlinecolor": "#2a3f5f",
             "gridcolor": "white",
             "linecolor": "white",
             "minorgridcolor": "white",
             "startlinecolor": "#2a3f5f"
            },
            "type": "carpet"
           }
          ],
          "choropleth": [
           {
            "colorbar": {
             "outlinewidth": 0,
             "ticks": ""
            },
            "type": "choropleth"
           }
          ],
          "contour": [
           {
            "colorbar": {
             "outlinewidth": 0,
             "ticks": ""
            },
            "colorscale": [
             [
              0,
              "#0d0887"
             ],
             [
              0.1111111111111111,
              "#46039f"
             ],
             [
              0.2222222222222222,
              "#7201a8"
             ],
             [
              0.3333333333333333,
              "#9c179e"
             ],
             [
              0.4444444444444444,
              "#bd3786"
             ],
             [
              0.5555555555555556,
              "#d8576b"
             ],
             [
              0.6666666666666666,
              "#ed7953"
             ],
             [
              0.7777777777777778,
              "#fb9f3a"
             ],
             [
              0.8888888888888888,
              "#fdca26"
             ],
             [
              1,
              "#f0f921"
             ]
            ],
            "type": "contour"
           }
          ],
          "contourcarpet": [
           {
            "colorbar": {
             "outlinewidth": 0,
             "ticks": ""
            },
            "type": "contourcarpet"
           }
          ],
          "heatmap": [
           {
            "colorbar": {
             "outlinewidth": 0,
             "ticks": ""
            },
            "colorscale": [
             [
              0,
              "#0d0887"
             ],
             [
              0.1111111111111111,
              "#46039f"
             ],
             [
              0.2222222222222222,
              "#7201a8"
             ],
             [
              0.3333333333333333,
              "#9c179e"
             ],
             [
              0.4444444444444444,
              "#bd3786"
             ],
             [
              0.5555555555555556,
              "#d8576b"
             ],
             [
              0.6666666666666666,
              "#ed7953"
             ],
             [
              0.7777777777777778,
              "#fb9f3a"
             ],
             [
              0.8888888888888888,
              "#fdca26"
             ],
             [
              1,
              "#f0f921"
             ]
            ],
            "type": "heatmap"
           }
          ],
          "heatmapgl": [
           {
            "colorbar": {
             "outlinewidth": 0,
             "ticks": ""
            },
            "colorscale": [
             [
              0,
              "#0d0887"
             ],
             [
              0.1111111111111111,
              "#46039f"
             ],
             [
              0.2222222222222222,
              "#7201a8"
             ],
             [
              0.3333333333333333,
              "#9c179e"
             ],
             [
              0.4444444444444444,
              "#bd3786"
             ],
             [
              0.5555555555555556,
              "#d8576b"
             ],
             [
              0.6666666666666666,
              "#ed7953"
             ],
             [
              0.7777777777777778,
              "#fb9f3a"
             ],
             [
              0.8888888888888888,
              "#fdca26"
             ],
             [
              1,
              "#f0f921"
             ]
            ],
            "type": "heatmapgl"
           }
          ],
          "histogram": [
           {
            "marker": {
             "pattern": {
              "fillmode": "overlay",
              "size": 10,
              "solidity": 0.2
             }
            },
            "type": "histogram"
           }
          ],
          "histogram2d": [
           {
            "colorbar": {
             "outlinewidth": 0,
             "ticks": ""
            },
            "colorscale": [
             [
              0,
              "#0d0887"
             ],
             [
              0.1111111111111111,
              "#46039f"
             ],
             [
              0.2222222222222222,
              "#7201a8"
             ],
             [
              0.3333333333333333,
              "#9c179e"
             ],
             [
              0.4444444444444444,
              "#bd3786"
             ],
             [
              0.5555555555555556,
              "#d8576b"
             ],
             [
              0.6666666666666666,
              "#ed7953"
             ],
             [
              0.7777777777777778,
              "#fb9f3a"
             ],
             [
              0.8888888888888888,
              "#fdca26"
             ],
             [
              1,
              "#f0f921"
             ]
            ],
            "type": "histogram2d"
           }
          ],
          "histogram2dcontour": [
           {
            "colorbar": {
             "outlinewidth": 0,
             "ticks": ""
            },
            "colorscale": [
             [
              0,
              "#0d0887"
             ],
             [
              0.1111111111111111,
              "#46039f"
             ],
             [
              0.2222222222222222,
              "#7201a8"
             ],
             [
              0.3333333333333333,
              "#9c179e"
             ],
             [
              0.4444444444444444,
              "#bd3786"
             ],
             [
              0.5555555555555556,
              "#d8576b"
             ],
             [
              0.6666666666666666,
              "#ed7953"
             ],
             [
              0.7777777777777778,
              "#fb9f3a"
             ],
             [
              0.8888888888888888,
              "#fdca26"
             ],
             [
              1,
              "#f0f921"
             ]
            ],
            "type": "histogram2dcontour"
           }
          ],
          "mesh3d": [
           {
            "colorbar": {
             "outlinewidth": 0,
             "ticks": ""
            },
            "type": "mesh3d"
           }
          ],
          "parcoords": [
           {
            "line": {
             "colorbar": {
              "outlinewidth": 0,
              "ticks": ""
             }
            },
            "type": "parcoords"
           }
          ],
          "pie": [
           {
            "automargin": true,
            "type": "pie"
           }
          ],
          "scatter": [
           {
            "fillpattern": {
             "fillmode": "overlay",
             "size": 10,
             "solidity": 0.2
            },
            "type": "scatter"
           }
          ],
          "scatter3d": [
           {
            "line": {
             "colorbar": {
              "outlinewidth": 0,
              "ticks": ""
             }
            },
            "marker": {
             "colorbar": {
              "outlinewidth": 0,
              "ticks": ""
             }
            },
            "type": "scatter3d"
           }
          ],
          "scattercarpet": [
           {
            "marker": {
             "colorbar": {
              "outlinewidth": 0,
              "ticks": ""
             }
            },
            "type": "scattercarpet"
           }
          ],
          "scattergeo": [
           {
            "marker": {
             "colorbar": {
              "outlinewidth": 0,
              "ticks": ""
             }
            },
            "type": "scattergeo"
           }
          ],
          "scattergl": [
           {
            "marker": {
             "colorbar": {
              "outlinewidth": 0,
              "ticks": ""
             }
            },
            "type": "scattergl"
           }
          ],
          "scattermapbox": [
           {
            "marker": {
             "colorbar": {
              "outlinewidth": 0,
              "ticks": ""
             }
            },
            "type": "scattermapbox"
           }
          ],
          "scatterpolar": [
           {
            "marker": {
             "colorbar": {
              "outlinewidth": 0,
              "ticks": ""
             }
            },
            "type": "scatterpolar"
           }
          ],
          "scatterpolargl": [
           {
            "marker": {
             "colorbar": {
              "outlinewidth": 0,
              "ticks": ""
             }
            },
            "type": "scatterpolargl"
           }
          ],
          "scatterternary": [
           {
            "marker": {
             "colorbar": {
              "outlinewidth": 0,
              "ticks": ""
             }
            },
            "type": "scatterternary"
           }
          ],
          "surface": [
           {
            "colorbar": {
             "outlinewidth": 0,
             "ticks": ""
            },
            "colorscale": [
             [
              0,
              "#0d0887"
             ],
             [
              0.1111111111111111,
              "#46039f"
             ],
             [
              0.2222222222222222,
              "#7201a8"
             ],
             [
              0.3333333333333333,
              "#9c179e"
             ],
             [
              0.4444444444444444,
              "#bd3786"
             ],
             [
              0.5555555555555556,
              "#d8576b"
             ],
             [
              0.6666666666666666,
              "#ed7953"
             ],
             [
              0.7777777777777778,
              "#fb9f3a"
             ],
             [
              0.8888888888888888,
              "#fdca26"
             ],
             [
              1,
              "#f0f921"
             ]
            ],
            "type": "surface"
           }
          ],
          "table": [
           {
            "cells": {
             "fill": {
              "color": "#EBF0F8"
             },
             "line": {
              "color": "white"
             }
            },
            "header": {
             "fill": {
              "color": "#C8D4E3"
             },
             "line": {
              "color": "white"
             }
            },
            "type": "table"
           }
          ]
         },
         "layout": {
          "annotationdefaults": {
           "arrowcolor": "#2a3f5f",
           "arrowhead": 0,
           "arrowwidth": 1
          },
          "autotypenumbers": "strict",
          "coloraxis": {
           "colorbar": {
            "outlinewidth": 0,
            "ticks": ""
           }
          },
          "colorscale": {
           "diverging": [
            [
             0,
             "#8e0152"
            ],
            [
             0.1,
             "#c51b7d"
            ],
            [
             0.2,
             "#de77ae"
            ],
            [
             0.3,
             "#f1b6da"
            ],
            [
             0.4,
             "#fde0ef"
            ],
            [
             0.5,
             "#f7f7f7"
            ],
            [
             0.6,
             "#e6f5d0"
            ],
            [
             0.7,
             "#b8e186"
            ],
            [
             0.8,
             "#7fbc41"
            ],
            [
             0.9,
             "#4d9221"
            ],
            [
             1,
             "#276419"
            ]
           ],
           "sequential": [
            [
             0,
             "#0d0887"
            ],
            [
             0.1111111111111111,
             "#46039f"
            ],
            [
             0.2222222222222222,
             "#7201a8"
            ],
            [
             0.3333333333333333,
             "#9c179e"
            ],
            [
             0.4444444444444444,
             "#bd3786"
            ],
            [
             0.5555555555555556,
             "#d8576b"
            ],
            [
             0.6666666666666666,
             "#ed7953"
            ],
            [
             0.7777777777777778,
             "#fb9f3a"
            ],
            [
             0.8888888888888888,
             "#fdca26"
            ],
            [
             1,
             "#f0f921"
            ]
           ],
           "sequentialminus": [
            [
             0,
             "#0d0887"
            ],
            [
             0.1111111111111111,
             "#46039f"
            ],
            [
             0.2222222222222222,
             "#7201a8"
            ],
            [
             0.3333333333333333,
             "#9c179e"
            ],
            [
             0.4444444444444444,
             "#bd3786"
            ],
            [
             0.5555555555555556,
             "#d8576b"
            ],
            [
             0.6666666666666666,
             "#ed7953"
            ],
            [
             0.7777777777777778,
             "#fb9f3a"
            ],
            [
             0.8888888888888888,
             "#fdca26"
            ],
            [
             1,
             "#f0f921"
            ]
           ]
          },
          "colorway": [
           "#636efa",
           "#EF553B",
           "#00cc96",
           "#ab63fa",
           "#FFA15A",
           "#19d3f3",
           "#FF6692",
           "#B6E880",
           "#FF97FF",
           "#FECB52"
          ],
          "font": {
           "color": "#2a3f5f"
          },
          "geo": {
           "bgcolor": "white",
           "lakecolor": "white",
           "landcolor": "#E5ECF6",
           "showlakes": true,
           "showland": true,
           "subunitcolor": "white"
          },
          "hoverlabel": {
           "align": "left"
          },
          "hovermode": "closest",
          "mapbox": {
           "style": "light"
          },
          "paper_bgcolor": "white",
          "plot_bgcolor": "#E5ECF6",
          "polar": {
           "angularaxis": {
            "gridcolor": "white",
            "linecolor": "white",
            "ticks": ""
           },
           "bgcolor": "#E5ECF6",
           "radialaxis": {
            "gridcolor": "white",
            "linecolor": "white",
            "ticks": ""
           }
          },
          "scene": {
           "xaxis": {
            "backgroundcolor": "#E5ECF6",
            "gridcolor": "white",
            "gridwidth": 2,
            "linecolor": "white",
            "showbackground": true,
            "ticks": "",
            "zerolinecolor": "white"
           },
           "yaxis": {
            "backgroundcolor": "#E5ECF6",
            "gridcolor": "white",
            "gridwidth": 2,
            "linecolor": "white",
            "showbackground": true,
            "ticks": "",
            "zerolinecolor": "white"
           },
           "zaxis": {
            "backgroundcolor": "#E5ECF6",
            "gridcolor": "white",
            "gridwidth": 2,
            "linecolor": "white",
            "showbackground": true,
            "ticks": "",
            "zerolinecolor": "white"
           }
          },
          "shapedefaults": {
           "line": {
            "color": "#2a3f5f"
           }
          },
          "ternary": {
           "aaxis": {
            "gridcolor": "white",
            "linecolor": "white",
            "ticks": ""
           },
           "baxis": {
            "gridcolor": "white",
            "linecolor": "white",
            "ticks": ""
           },
           "bgcolor": "#E5ECF6",
           "caxis": {
            "gridcolor": "white",
            "linecolor": "white",
            "ticks": ""
           }
          },
          "title": {
           "x": 0.05
          },
          "xaxis": {
           "automargin": true,
           "gridcolor": "white",
           "linecolor": "white",
           "ticks": "",
           "title": {
            "standoff": 15
           },
           "zerolinecolor": "white",
           "zerolinewidth": 2
          },
          "yaxis": {
           "automargin": true,
           "gridcolor": "white",
           "linecolor": "white",
           "ticks": "",
           "title": {
            "standoff": 15
           },
           "zerolinecolor": "white",
           "zerolinewidth": 2
          }
         }
        },
        "width": 900,
        "xaxis": {
         "anchor": "y",
         "autorange": true,
         "constrain": "domain",
         "domain": [
          0,
          1
         ],
         "range": [
          -0.5,
          11.5
         ],
         "scaleanchor": "y",
         "type": "category"
        },
        "yaxis": {
         "anchor": "x",
         "autorange": true,
         "constrain": "domain",
         "domain": [
          0.03750000000000003,
          0.9624999999999999
         ],
         "range": [
          11.5,
          -0.5
         ],
         "type": "category"
        }
       }
      },
      "image/png": "[encoded data removed]",
      "text/html": [
       "<div>                            <div id=\"7bf2e720-09e7-4732-97db-d6edc5f9bac6\" class=\"plotly-graph-div\" style=\"height:900px; width:900px;\"></div>            <script type=\"text/javascript\">                require([\"plotly\"], function(Plotly) {                    window.PLOTLYENV=window.PLOTLYENV || {};                                    if (document.getElementById(\"7bf2e720-09e7-4732-97db-d6edc5f9bac6\")) {                    Plotly.newPlot(                        \"7bf2e720-09e7-4732-97db-d6edc5f9bac6\",                        [{\"coloraxis\":\"coloraxis\",\"name\":\"0\",\"texttemplate\":\"%{z}\",\"x\":[\"MDEC-23\",\"MATS2v\",\"ATSC8s\",\"VE3_Dt\",\"CrippenMR\",\"SpMax7_Bhe\",\"SpMin1_Bhs\",\"C1SP2\",\"GATS8e\",\"GATS8s\",\"SpMax5_Bhv\",\"VE3_Dzi\"],\"y\":[\"MATS2v\",\"ATSC8s\",\"VE3_Dt\",\"CrippenMR\",\"SpMax7_Bhe\",\"SpMin1_Bhs\",\"C1SP2\",\"GATS8e\",\"GATS8s\",\"SpMax5_Bhv\",\"VE3_Dzi\",\"VPC-4\"],\"z\":[[-0.3,null,null,null,null,null,null,null,null,null,null,null],[-0.0,-0.2,null,null,null,null,null,null,null,null,null,null],[-0.2,0.2,0.0,null,null,null,null,null,null,null,null,null],[0.5,-0.1,-0.1,0.0,null,null,null,null,null,null,null,null],[0.7,-0.1,-0.1,-0.1,0.6,null,null,null,null,null,null,null],[0.4,-0.0,0.0,-0.1,-0.0,0.2,null,null,null,null,null,null],[0.1,-0.1,0.1,-0.1,0.2,0.3,-0.1,null,null,null,null,null],[-0.1,0.2,-0.4,0.1,-0.1,-0.3,0.0,-0.2,null,null,null,null],[-0.1,0.2,-0.4,0.1,-0.1,-0.2,0.1,-0.2,0.9,null,null,null],[0.7,-0.2,-0.1,-0.2,0.7,0.8,0.1,0.3,-0.2,-0.2,null,null],[-0.2,0.2,0.1,0.7,-0.1,-0.1,-0.0,0.0,0.0,0.1,-0.1,null],[0.4,0.3,-0.1,-0.1,0.2,0.4,0.1,0.1,-0.1,-0.0,0.3,-0.1]],\"type\":\"heatmap\",\"xaxis\":\"x\",\"yaxis\":\"y\",\"hovertemplate\":\"x: %{x}\\u003cbr\\u003ey: %{y}\\u003cbr\\u003ecolor: %{z}\\u003cextra\\u003e\\u003c\\u002fextra\\u003e\"}],                        {\"template\":{\"data\":{\"histogram2dcontour\":[{\"type\":\"histogram2dcontour\",\"colorbar\":{\"outlinewidth\":0,\"ticks\":\"\"},\"colorscale\":[[0.0,\"#0d0887\"],[0.1111111111111111,\"#46039f\"],[0.2222222222222222,\"#7201a8\"],[0.3333333333333333,\"#9c179e\"],[0.4444444444444444,\"#bd3786\"],[0.5555555555555556,\"#d8576b\"],[0.6666666666666666,\"#ed7953\"],[0.7777777777777778,\"#fb9f3a\"],[0.8888888888888888,\"#fdca26\"],[1.0,\"#f0f921\"]]}],\"choropleth\":[{\"type\":\"choropleth\",\"colorbar\":{\"outlinewidth\":0,\"ticks\":\"\"}}],\"histogram2d\":[{\"type\":\"histogram2d\",\"colorbar\":{\"outlinewidth\":0,\"ticks\":\"\"},\"colorscale\":[[0.0,\"#0d0887\"],[0.1111111111111111,\"#46039f\"],[0.2222222222222222,\"#7201a8\"],[0.3333333333333333,\"#9c179e\"],[0.4444444444444444,\"#bd3786\"],[0.5555555555555556,\"#d8576b\"],[0.6666666666666666,\"#ed7953\"],[0.7777777777777778,\"#fb9f3a\"],[0.8888888888888888,\"#fdca26\"],[1.0,\"#f0f921\"]]}],\"heatmap\":[{\"type\":\"heatmap\",\"colorbar\":{\"outlinewidth\":0,\"ticks\":\"\"},\"colorscale\":[[0.0,\"#0d0887\"],[0.1111111111111111,\"#46039f\"],[0.2222222222222222,\"#7201a8\"],[0.3333333333333333,\"#9c179e\"],[0.4444444444444444,\"#bd3786\"],[0.5555555555555556,\"#d8576b\"],[0.6666666666666666,\"#ed7953\"],[0.7777777777777778,\"#fb9f3a\"],[0.8888888888888888,\"#fdca26\"],[1.0,\"#f0f921\"]]}],\"heatmapgl\":[{\"type\":\"heatmapgl\",\"colorbar\":{\"outlinewidth\":0,\"ticks\":\"\"},\"colorscale\":[[0.0,\"#0d0887\"],[0.1111111111111111,\"#46039f\"],[0.2222222222222222,\"#7201a8\"],[0.3333333333333333,\"#9c179e\"],[0.4444444444444444,\"#bd3786\"],[0.5555555555555556,\"#d8576b\"],[0.6666666666666666,\"#ed7953\"],[0.7777777777777778,\"#fb9f3a\"],[0.8888888888888888,\"#fdca26\"],[1.0,\"#f0f921\"]]}],\"contourcarpet\":[{\"type\":\"contourcarpet\",\"colorbar\":{\"outlinewidth\":0,\"ticks\":\"\"}}],\"contour\":[{\"type\":\"contour\",\"colorbar\":{\"outlinewidth\":0,\"ticks\":\"\"},\"colorscale\":[[0.0,\"#0d0887\"],[0.1111111111111111,\"#46039f\"],[0.2222222222222222,\"#7201a8\"],[0.3333333333333333,\"#9c179e\"],[0.4444444444444444,\"#bd3786\"],[0.5555555555555556,\"#d8576b\"],[0.6666666666666666,\"#ed7953\"],[0.7777777777777778,\"#fb9f3a\"],[0.8888888888888888,\"#fdca26\"],[1.0,\"#f0f921\"]]}],\"surface\":[{\"type\":\"surface\",\"colorbar\":{\"outlinewidth\":0,\"ticks\":\"\"},\"colorscale\":[[0.0,\"#0d0887\"],[0.1111111111111111,\"#46039f\"],[0.2222222222222222,\"#7201a8\"],[0.3333333333333333,\"#9c179e\"],[0.4444444444444444,\"#bd3786\"],[0.5555555555555556,\"#d8576b\"],[0.6666666666666666,\"#ed7953\"],[0.7777777777777778,\"#fb9f3a\"],[0.8888888888888888,\"#fdca26\"],[1.0,\"#f0f921\"]]}],\"mesh3d\":[{\"type\":\"mesh3d\",\"colorbar\":{\"outlinewidth\":0,\"ticks\":\"\"}}],\"scatter\":[{\"fillpattern\":{\"fillmode\":\"overlay\",\"size\":10,\"solidity\":0.2},\"type\":\"scatter\"}],\"parcoords\":[{\"type\":\"parcoords\",\"line\":{\"colorbar\":{\"outlinewidth\":0,\"ticks\":\"\"}}}],\"scatterpolargl\":[{\"type\":\"scatterpolargl\",\"marker\":{\"colorbar\":{\"outlinewidth\":0,\"ticks\":\"\"}}}],\"bar\":[{\"error_x\":{\"color\":\"#2a3f5f\"},\"error_y\":{\"color\":\"#2a3f5f\"},\"marker\":{\"line\":{\"color\":\"#E5ECF6\",\"width\":0.5},\"pattern\":{\"fillmode\":\"overlay\",\"size\":10,\"solidity\":0.2}},\"type\":\"bar\"}],\"scattergeo\":[{\"type\":\"scattergeo\",\"marker\":{\"colorbar\":{\"outlinewidth\":0,\"ticks\":\"\"}}}],\"scatterpolar\":[{\"type\":\"scatterpolar\",\"marker\":{\"colorbar\":{\"outlinewidth\":0,\"ticks\":\"\"}}}],\"histogram\":[{\"marker\":{\"pattern\":{\"fillmode\":\"overlay\",\"size\":10,\"solidity\":0.2}},\"type\":\"histogram\"}],\"scattergl\":[{\"type\":\"scattergl\",\"marker\":{\"colorbar\":{\"outlinewidth\":0,\"ticks\":\"\"}}}],\"scatter3d\":[{\"type\":\"scatter3d\",\"line\":{\"colorbar\":{\"outlinewidth\":0,\"ticks\":\"\"}},\"marker\":{\"colorbar\":{\"outlinewidth\":0,\"ticks\":\"\"}}}],\"scattermapbox\":[{\"type\":\"scattermapbox\",\"marker\":{\"colorbar\":{\"outlinewidth\":0,\"ticks\":\"\"}}}],\"scatterternary\":[{\"type\":\"scatterternary\",\"marker\":{\"colorbar\":{\"outlinewidth\":0,\"ticks\":\"\"}}}],\"scattercarpet\":[{\"type\":\"scattercarpet\",\"marker\":{\"colorbar\":{\"outlinewidth\":0,\"ticks\":\"\"}}}],\"carpet\":[{\"aaxis\":{\"endlinecolor\":\"#2a3f5f\",\"gridcolor\":\"white\",\"linecolor\":\"white\",\"minorgridcolor\":\"white\",\"startlinecolor\":\"#2a3f5f\"},\"baxis\":{\"endlinecolor\":\"#2a3f5f\",\"gridcolor\":\"white\",\"linecolor\":\"white\",\"minorgridcolor\":\"white\",\"startlinecolor\":\"#2a3f5f\"},\"type\":\"carpet\"}],\"table\":[{\"cells\":{\"fill\":{\"color\":\"#EBF0F8\"},\"line\":{\"color\":\"white\"}},\"header\":{\"fill\":{\"color\":\"#C8D4E3\"},\"line\":{\"color\":\"white\"}},\"type\":\"table\"}],\"barpolar\":[{\"marker\":{\"line\":{\"color\":\"#E5ECF6\",\"width\":0.5},\"pattern\":{\"fillmode\":\"overlay\",\"size\":10,\"solidity\":0.2}},\"type\":\"barpolar\"}],\"pie\":[{\"automargin\":true,\"type\":\"pie\"}]},\"layout\":{\"autotypenumbers\":\"strict\",\"colorway\":[\"#636efa\",\"#EF553B\",\"#00cc96\",\"#ab63fa\",\"#FFA15A\",\"#19d3f3\",\"#FF6692\",\"#B6E880\",\"#FF97FF\",\"#FECB52\"],\"font\":{\"color\":\"#2a3f5f\"},\"hovermode\":\"closest\",\"hoverlabel\":{\"align\":\"left\"},\"paper_bgcolor\":\"white\",\"plot_bgcolor\":\"#E5ECF6\",\"polar\":{\"bgcolor\":\"#E5ECF6\",\"angularaxis\":{\"gridcolor\":\"white\",\"linecolor\":\"white\",\"ticks\":\"\"},\"radialaxis\":{\"gridcolor\":\"white\",\"linecolor\":\"white\",\"ticks\":\"\"}},\"ternary\":{\"bgcolor\":\"#E5ECF6\",\"aaxis\":{\"gridcolor\":\"white\",\"linecolor\":\"white\",\"ticks\":\"\"},\"baxis\":{\"gridcolor\":\"white\",\"linecolor\":\"white\",\"ticks\":\"\"},\"caxis\":{\"gridcolor\":\"white\",\"linecolor\":\"white\",\"ticks\":\"\"}},\"coloraxis\":{\"colorbar\":{\"outlinewidth\":0,\"ticks\":\"\"}},\"colorscale\":{\"sequential\":[[0.0,\"#0d0887\"],[0.1111111111111111,\"#46039f\"],[0.2222222222222222,\"#7201a8\"],[0.3333333333333333,\"#9c179e\"],[0.4444444444444444,\"#bd3786\"],[0.5555555555555556,\"#d8576b\"],[0.6666666666666666,\"#ed7953\"],[0.7777777777777778,\"#fb9f3a\"],[0.8888888888888888,\"#fdca26\"],[1.0,\"#f0f921\"]],\"sequentialminus\":[[0.0,\"#0d0887\"],[0.1111111111111111,\"#46039f\"],[0.2222222222222222,\"#7201a8\"],[0.3333333333333333,\"#9c179e\"],[0.4444444444444444,\"#bd3786\"],[0.5555555555555556,\"#d8576b\"],[0.6666666666666666,\"#ed7953\"],[0.7777777777777778,\"#fb9f3a\"],[0.8888888888888888,\"#fdca26\"],[1.0,\"#f0f921\"]],\"diverging\":[[0,\"#8e0152\"],[0.1,\"#c51b7d\"],[0.2,\"#de77ae\"],[0.3,\"#f1b6da\"],[0.4,\"#fde0ef\"],[0.5,\"#f7f7f7\"],[0.6,\"#e6f5d0\"],[0.7,\"#b8e186\"],[0.8,\"#7fbc41\"],[0.9,\"#4d9221\"],[1,\"#276419\"]]},\"xaxis\":{\"gridcolor\":\"white\",\"linecolor\":\"white\",\"ticks\":\"\",\"title\":{\"standoff\":15},\"zerolinecolor\":\"white\",\"automargin\":true,\"zerolinewidth\":2},\"yaxis\":{\"gridcolor\":\"white\",\"linecolor\":\"white\",\"ticks\":\"\",\"title\":{\"standoff\":15},\"zerolinecolor\":\"white\",\"automargin\":true,\"zerolinewidth\":2},\"scene\":{\"xaxis\":{\"backgroundcolor\":\"#E5ECF6\",\"gridcolor\":\"white\",\"linecolor\":\"white\",\"showbackground\":true,\"ticks\":\"\",\"zerolinecolor\":\"white\",\"gridwidth\":2},\"yaxis\":{\"backgroundcolor\":\"#E5ECF6\",\"gridcolor\":\"white\",\"linecolor\":\"white\",\"showbackground\":true,\"ticks\":\"\",\"zerolinecolor\":\"white\",\"gridwidth\":2},\"zaxis\":{\"backgroundcolor\":\"#E5ECF6\",\"gridcolor\":\"white\",\"linecolor\":\"white\",\"showbackground\":true,\"ticks\":\"\",\"zerolinecolor\":\"white\",\"gridwidth\":2}},\"shapedefaults\":{\"line\":{\"color\":\"#2a3f5f\"}},\"annotationdefaults\":{\"arrowcolor\":\"#2a3f5f\",\"arrowhead\":0,\"arrowwidth\":1},\"geo\":{\"bgcolor\":\"white\",\"landcolor\":\"#E5ECF6\",\"subunitcolor\":\"white\",\"showland\":true,\"showlakes\":true,\"lakecolor\":\"white\"},\"title\":{\"x\":0.05},\"mapbox\":{\"style\":\"light\"}}},\"xaxis\":{\"anchor\":\"y\",\"domain\":[0.0,1.0],\"scaleanchor\":\"y\",\"constrain\":\"domain\"},\"yaxis\":{\"anchor\":\"x\",\"domain\":[0.0,1.0],\"autorange\":\"reversed\",\"constrain\":\"domain\"},\"coloraxis\":{\"colorscale\":[[0.0,\"#0d0887\"],[0.1111111111111111,\"#46039f\"],[0.2222222222222222,\"#7201a8\"],[0.3333333333333333,\"#9c179e\"],[0.4444444444444444,\"#bd3786\"],[0.5555555555555556,\"#d8576b\"],[0.6666666666666666,\"#ed7953\"],[0.7777777777777778,\"#fb9f3a\"],[0.8888888888888888,\"#fdca26\"],[1.0,\"#f0f921\"]]},\"margin\":{\"t\":60},\"height\":900,\"width\":900},                        {\"responsive\": true}                    ).then(function(){\n",
       "                            \n",
       "var gd = document.getElementById('7bf2e720-09e7-4732-97db-d6edc5f9bac6');\n",
       "var x = new MutationObserver(function (mutations, observer) {{\n",
       "        var display = window.getComputedStyle(gd).display;\n",
       "        if (!display || display === 'none') {{\n",
       "            console.log([gd, 'removed!']);\n",
       "            Plotly.purge(gd);\n",
       "            observer.disconnect();\n",
       "        }}\n",
       "}});\n",
       "\n",
       "// Listen for the removal of the full notebook cells\n",
       "var notebookContainer = gd.closest('#notebook-container');\n",
       "if (notebookContainer) {{\n",
       "    x.observe(notebookContainer, {childList: true});\n",
       "}}\n",
       "\n",
       "// Listen for the clearing of the current output cell\n",
       "var outputEl = gd.closest('.output');\n",
       "if (outputEl) {{\n",
       "    x.observe(outputEl, {childList: true});\n",
       "}}\n",
       "\n",
       "                        })                };                });            </script>        </div>"
      ]
     },
     "metadata": {},
     "output_type": "display_data"
    }
   ],
   "source": [
    "import plotly.express as px\n",
    "import numpy as np\n",
    "\n",
    "# Correlation\n",
    "df_corr = df.corr().round(1)  \n",
    "\n",
    "# Mask to matrix\n",
    "mask = np.zeros_like(df_corr, dtype=bool)\n",
    "mask[np.triu_indices_from(mask)] = True\n",
    "\n",
    "# Viz\n",
    "df_corr_viz = df_corr.mask(mask).dropna(how='all', axis=0).dropna(axis=1, how='all')\n",
    "fig = px.imshow(df_corr_viz, text_auto=True)\n",
    "fig.update_layout(height = 900, width=900)\n",
    "fig.show()"
   ]
  },
  {
   "cell_type": "markdown",
   "metadata": {},
   "source": [
    "#### 2. Check the distribution of each column and determine which probability distribution it fits."
   ]
  },
  {
   "cell_type": "code",
   "execution_count": 10,
   "metadata": {},
   "outputs": [
    {
     "data": {
      "application/vnd.plotly.v1+json": {
       "config": {
        "plotlyServerURL": "https://plot.ly"
       },
       "data": [
        {
         "name": "MDEC-23",
         "type": "box",
         "y": [
          2.0860983436475338,
          0.5322238665904527,
          -0.15726666311094112,
          0.14454345745676697,
          1.348313832234458,
          1.313305404925087,
          1.6781525067539065,
          0.1507797363515827,
          -0.7123053993423865,
          -0.3406767160126863,
          -0.680192033141578,
          0.12472418637451452,
          -0.32671696929742305,
          -0.640553490977073,
          1.2773650058889865,
          0.5616404635394483,
          1.0254054581084548,
          -1.5552242532047895,
          0.5409387936946546,
          2.5737178485836734,
          1.1868447732822,
          -0.21918329538140954,
          0.8329235527603556,
          0.05400339566430549,
          -0.4308895962415085,
          -0.3228007051265931,
          -0.8836692219465146,
          0.8764486153171782,
          1.2237865461948927,
          0.07118538505177148,
          -0.2674078749432289,
          0.04972029155848615,
          1.5313074722370268,
          0.7133337339538872,
          2.0703242264429993,
          -0.24813390646704117,
          0.10344747014514317,
          1.3001983131938526,
          -0.9019120727675977,
          -0.4563205268698117,
          1.207030884299442,
          0.19602002346930053,
          0.1268558238345863,
          0.40678443800983316,
          0.8869481691321383,
          0.41943545847054,
          -0.05550328222637875,
          -0.7424061031971735,
          2.5897894035733335,
          1.8378964265524316,
          0.3315921659298915,
          -0.8967267407135617,
          0.04202656751655154,
          0.5397688717398242,
          -0.8565528105358292,
          0.395323168689631,
          -0.21519762906071657,
          0.21684066842814514,
          0.290634982917993,
          -0.8124527015944288,
          0.6074260532632316,
          0.35387025603585504,
          1.4403014245812014,
          -0.029695597070248967,
          0.395323168689631,
          -0.9270455656107741,
          0.38707422744879305,
          -0.33356795294816655,
          1.3387561647390651,
          -0.2719685876484995,
          0.6745280175877363,
          0.6984122717333819,
          1.3656445405144872,
          -0.8967267407135617,
          0.692919587301382,
          0.4834936427939188,
          0.12301887640645652,
          0.27625882330355245,
          -1.025913885386773,
          -1.0264591879928382,
          0.34080282267597084,
          0.9941546614845125,
          -0.6187215575487991,
          0.06874639521373545,
          -1.3016585413845754,
          0.11621746571990099,
          0.2114372153316834,
          0.3274478661237975,
          -0.4532965760543602,
          0.1683483948597124,
          -0.3683880029936245,
          -0.41841703845187705,
          0.49596620058355023,
          1.6820687709247366,
          0.179522140987626,
          0.4834936427939188,
          0.9263091026971918,
          -0.1591504357500745,
          1.5598317558306438,
          0.871421916748543,
          0.7660892824424643,
          1.362699906441736,
          0.9779343876022892,
          0.0989264158112226,
          0.746418730252775,
          0.046884718006948545,
          0.3529581134948009,
          -0.012662326575346864,
          0.7284435734383059,
          -0.8020423791150065,
          0.9769925012827222,
          -0.047065963721628225,
          -0.44031837403001406,
          0.30577456618092386,
          0.5071201175257881,
          0.4877569177140631,
          -0.2668328285586512,
          -0.42284886145025957,
          0.35387025603585504,
          0.6486509302817435,
          0.19662481363239112,
          0.0016741746677429378,
          0.20765975546057872,
          -0.38786026332656337,
          1.237210904896929,
          1.0913077566996163,
          0.16672240163435528,
          -0.5713992059351967,
          0.9769925012827222,
          -0.03158928430222023,
          0.9769925012827222,
          -0.05805133258562787,
          -1.3728552325509862,
          -0.15767316141728055,
          -0.02627506254129651,
          0.704281710693209,
          0.24764530837439797,
          -0.20197156221543133,
          1.1757800876755002,
          -1.539301417107692,
          -3.1006713263499575,
          -1.3841082954215997,
          -0.7086469145853324,
          -2.397796096317878,
          -2.397796096317878,
          -1.645318158319561,
          -0.6175516355939686,
          -1.4416426776578735,
          -0.6466807093506763,
          -0.8227837073311507,
          -1.490600937089671,
          -1.373450108121239,
          -0.4811764111135373,
          -0.4811764111135373,
          -0.5628726560949081,
          -0.5226987259171756,
          -1.165432035796707,
          -2.027714089470835,
          -0.7173023541325091,
          -1.4751341722631008,
          -0.778495221125837,
          -0.16837100708899172,
          -2.704018210698294,
          -0.7482557129713248,
          -0.6164511157890012,
          -0.7482557129713248,
          -2.5286687217734727,
          -0.590355907440583,
          -1.0685962075524047,
          -1.2597892158316228,
          -2.90022800295331
         ]
        },
        {
         "name": "MATS2v",
         "type": "box",
         "y": [
          -0.21671536387847593,
          -1.4459994137624734,
          0.8755738466154641,
          0.9391785934751338,
          -0.9873113354475489,
          -1.0166673724597042,
          -0.8576555053105303,
          -1.3016655651193771,
          -0.9542857938088745,
          -0.9249297567967193,
          0.639502382309383,
          -0.18613615865748095,
          -1.4888103010718663,
          0.22484835951269136,
          -0.9530626256000346,
          -0.9848649990298695,
          -0.8221836272541762,
          3.318240759668542,
          0.24686538727180776,
          -0.2962212974530628,
          1.1140916473392248,
          -0.054033992102782695,
          -0.428323464007761,
          -1.1426536979702033,
          0.1930459860828566,
          2.8852392137392533,
          -0.9334919342585978,
          -0.6827424514464391,
          -1.024006381712743,
          -1.0570319233514176,
          0.8988140425834203,
          0.6749742603657373,
          0.16002044444418206,
          0.5599964487347961,
          0.208947172797774,
          -1.3554849663083284,
          0.20283133175357498,
          -1.0166673724597042,
          0.6064768406707086,
          -1.0925038014077717,
          -1.0166673724597042,
          0.7936215766231977,
          0.9893284900375655,
          -0.8185141226276568,
          -1.2869875466132996,
          -0.7108753202497545,
          0.35328102144087026,
          0.7520338575226445,
          1.0040065085436432,
          -0.49437454728511016,
          0.08296084728727475,
          0.9367322570574541,
          -0.007553600166870354,
          0.403430918003302,
          0.5110697203812042,
          0.4939453654574471,
          0.17469846295025962,
          -0.2069300182077575,
          -1.3982958536177212,
          1.2119451040464089,
          -1.4643469368950703,
          1.3660642983602236,
          -1.2050352766210333,
          0.5991378314176697,
          0.08907668833147372,
          2.0412531496397923,
          1.3232534110508305,
          -0.8821188694873263,
          0.1062010432552309,
          -1.7481219613459036,
          -1.8019413625348548,
          -1.7077574104541902,
          0.08663035191379413,
          0.9367322570574541,
          -0.28521278357350466,
          -0.011223104793389749,
          -1.661277018518278,
          2.4277743036331687,
          0.20527766817125462,
          -0.8955737197845641,
          0.1233253981789881,
          0.48171368336904913,
          1.604582099083984,
          -1.2099279494563924,
          0.062166987736998164,
          0.7691582124464017,
          1.2890047012033161,
          -0.3610492125215721,
          -0.5702109762331776,
          0.5379794209756799,
          0.4878295244132481,
          -0.18858249507516053,
          -0.8221836272541762,
          -0.5163915750442266,
          -0.5555329577271001,
          -1.1402073615525237,
          0.9245005749690561,
          0.4927221972486073,
          -0.8576555053105303,
          1.2266231225524864,
          -0.29744446566190264,
          -0.2619725876055485,
          1.247416982102763,
          -0.9860881672387091,
          -0.7524630393503077,
          0.19059964966517703,
          -1.3787251622762844,
          -1.558530888975735,
          -1.5487455433050166,
          1.1544561982309383,
          -0.8588786735193701,
          0.366735871738108,
          0.09029985654031353,
          -0.2962212974530628,
          0.4107699272563407,
          -0.0014377591226713558,
          0.3080237977137977,
          -0.9946503447005878,
          0.021802436845284812,
          0.2774445924928027,
          -0.10173755224753485,
          -0.6374852277193667,
          -0.647270573390085,
          0.037703623560202196,
          -1.024006381712743,
          -1.0558087551425777,
          0.0364804553513624,
          0.3178091433845161,
          0.25053489189832717,
          -0.3586028761038925,
          -0.9567321302265539,
          0.5820134764939126,
          1.455355577605529,
          0.9685346304872889,
          0.22117885488617195,
          0.35083468502319065,
          -0.16289596268952478,
          -0.8772261966519671,
          -1.0166673724597042,
          0.22117885488617195,
          0.09763886579335232,
          -0.16778863552488396,
          -0.428323464007761,
          -0.4674648466906346,
          0.2566507329425261,
          1.896919300996696,
          -0.44055514609615903,
          0.35939686248506925,
          -0.0589266649381419,
          0.3190323115933558,
          -0.6130218635425706,
          1.4920506238707227,
          -0.02712429150830713,
          -0.021008450464108142,
          -0.06626567419118069,
          -0.024677955090627535,
          1.0382552183911575,
          3.5506427193481036,
          0.7654887078198823,
          1.8822412824906183,
          0.12577173459666768,
          -0.7646947214387056,
          2.3152428284199074,
          1.6681868459436537,
          0.2811140971193221,
          1.5752260620718288,
          -1.4398835727182744,
          -0.5286232571326245,
          -0.8221836272541762,
          0.579567140076233,
          1.3428241023922673
         ]
        },
        {
         "name": "ATSC8s",
         "type": "box",
         "y": [
          0.18642089629651534,
          -0.3407038006483283,
          0.8523063976779502,
          -0.10971638697596515,
          -0.1869739311317654,
          0.026831830601728234,
          -0.7213918467152617,
          0.6215186159026305,
          0.12293462583842646,
          0.16746584767224343,
          -0.3302331076484014,
          -0.03418565872959048,
          0.16097781101833256,
          0.4258494120155308,
          0.6834843567449054,
          -0.08963674533168202,
          -1.7581102328462535,
          -3.4779689706597994,
          -0.1838230743567635,
          -1.4183999608457645,
          -0.0002715266201989318,
          0.017159665189974947,
          1.0540477384334537,
          1.5019651530280398,
          0.7390984760629157,
          -0.3677738858874149,
          -0.7307512554883137,
          3.319806553108776,
          0.21785959288256856,
          0.7496024410456832,
          0.06506133888554151,
          0.16860707668367494,
          -0.09543937913907719,
          -0.2834161005934374,
          -1.4124941838915634,
          -1.108335025556222,
          -2.06244573269065,
          -0.7500789503204,
          0.3456273341886359,
          0.6521022225296811,
          -0.22733284631737502,
          -1.9173199979366582,
          0.1784655651993354,
          -0.22342338833360822,
          -1.3246594763907467,
          0.32336837766829557,
          0.38277550303013075,
          0.7132461453957939,
          -0.014189197042408773,
          0.8850260656033655,
          1.8828461765954485,
          -0.16566655332066524,
          0.2610832257907512,
          0.40197343712913874,
          -1.4400600216749744,
          0.8016830757860252,
          0.11813015151624837,
          0.06468536547944308,
          -0.3412594427617658,
          -0.2641848945115888,
          -0.8727361150621559,
          -0.5051805206223949,
          -1.123320726627614,
          0.548929130939362,
          -0.6449428117424874,
          -1.1845578110456803,
          -1.0141154245483,
          -0.7154328345885159,
          0.13096980969442376,
          0.43041765525954084,
          1.0746464230100496,
          0.12729325559054094,
          -0.26745220322653257,
          -0.13487998759828715,
          0.20051490822778018,
          1.2353168281471552,
          0.6560216621083,
          -3.810771979022586,
          -0.12205696541153206,
          2.395374454668135,
          0.8115881450776625,
          -0.5487701453418239,
          0.3894565171845169,
          1.004505755983847,
          -3.140657608622115,
          0.5756964411345994,
          -0.16584622202800436,
          0.16978490487623107,
          -0.43297699066007717,
          0.5792199441174156,
          0.1070539084286231,
          -0.642464049020865,
          -0.8159042411721806,
          0.006379542749630738,
          -0.8827775994834395,
          1.7590344740491248,
          0.05232482385417185,
          -0.4144478234161645,
          -1.1941301605089119,
          0.15164834702983712,
          -0.8085378241712788,
          -0.2145564049065967,
          0.006066786110929383,
          0.7819461355649999,
          0.08051284771670154,
          0.3916557952502785,
          1.2509446784873703,
          0.45012132349772555,
          1.1299976936636196,
          -0.2493988253372401,
          -0.8915614029533497,
          -0.04252694482772099,
          -0.9700100840948421,
          0.09314289240298136,
          0.12766922899663938,
          -0.1638465758592862,
          0.46407559310106006,
          -1.0409492787092185,
          -0.1916686079105696,
          -0.023322356332144835,
          -0.4741976502012575,
          0.8702666140152893,
          -0.26421483929614525,
          1.0869836742473324,
          -0.37276468331350016,
          -0.07755568836227159,
          0.2931241452662187,
          2.441968539438067,
          -1.0717325172333123,
          -0.3570436714213315,
          0.01059510297553076,
          -0.2684836346945903,
          -1.6760415599717071,
          0.04654215323648104,
          -0.4139054900958633,
          0.39856638608626455,
          0.4549124890267674,
          0.4321511255655344,
          2.546242933660409,
          -1.1640822328055946,
          0.3759813641340866,
          -0.49323255158434687,
          1.4540202257547805,
          -0.11512973858412569,
          0.08366703168998744,
          0.709622826464456,
          1.5328881338800644,
          0.6145148635146908,
          1.0956942793549933,
          3.288600760402607,
          -0.7069983869384316,
          0.09619726042774557,
          -0.27285557323984094,
          -1.0547837691743267,
          0.3563309310684468,
          -0.8655959475445699,
          -0.8580897882157377,
          1.8501098726786132,
          0.2517903609833804,
          -0.8876652537627191,
          0.4764361347263312,
          0.3613416916842364,
          -0.22048214505050198,
          -0.7727704426176676,
          -0.13111027194245076,
          -1.1158278760919178,
          0.10372671014456623,
          -0.033699887780118155,
          0.4748357523516999,
          -0.8760366957599404,
          2.1729146501978094
         ]
        },
        {
         "name": "VE3_Dt",
         "type": "box",
         "y": [
          -2.618030568953318,
          0.3127214645038345,
          -2.4637504124305853,
          0.21108629209809807,
          0.5871224477836142,
          -2.287609450042457,
          -2.365902090112574,
          0.5257385788487907,
          0.4911811443302933,
          -1.7798569384338385,
          -1.97196481437134,
          0.4848367139525506,
          0.29616419073565753,
          0.48301514196163464,
          0.5744316450537249,
          0.35684700691065085,
          0.4692446014631427,
          -1.985978101670327,
          0.5425172376990193,
          0.27741054391659997,
          0.41119316060551736,
          0.26754337197007083,
          0.22104279486720943,
          0.49506315116381266,
          0.5584530796579285,
          0.5266260611514012,
          0.09373277886669618,
          0.4405461037213976,
          0.5750938583254758,
          -2.0832632514111893,
          0.5057129387951383,
          -2.1714716127879345,
          0.5816577318108661,
          0.4598066058598891,
          0.48845267029272726,
          0.4339686364151794,
          0.5269348350816311,
          0.5251501606043903,
          0.4959622853128469,
          0.4379205543272414,
          -2.3393999654217095,
          0.5500016070518875,
          0.5694038733218681,
          -1.8957306671694218,
          0.5121913654067544,
          0.44959182049505086,
          0.4930260200140569,
          0.44688082422712044,
          -2.350684778683131,
          0.5043069493266701,
          0.48148292415690885,
          0.5294904733972446,
          -1.843914906122917,
          0.47718145085213387,
          0.5027824994195602,
          0.47656778694048196,
          0.4606474807768045,
          0.5026523871344947,
          0.5266066414073616,
          0.5125059652601961,
          0.43176643744108695,
          0.4503239448453444,
          0.4873302090872374,
          0.28033515736896625,
          0.47656778694048196,
          0.2852444686621812,
          0.46277588472354647,
          -2.0973911152000104,
          -1.7834146355418963,
          -1.9927769540585967,
          -1.9985077205246873,
          -2.0680090424680704,
          0.5855999398509082,
          0.5297254523001239,
          0.4887400825045135,
          0.37277508097194423,
          0.587334122993646,
          0.3186095308966461,
          0.43002060245192547,
          0.49366881354176817,
          0.5090550767443562,
          0.4670152148473947,
          0.49371153697865533,
          0.4107853459806854,
          0.5360757086010784,
          0.46307106483294863,
          0.3578704274215387,
          0.4457991444841138,
          0.29620885614694864,
          -2.630022260897781,
          0.3441134807438744,
          -2.008866211995419,
          -2.2485466349067686,
          -2.082309741978844,
          0.5198660482512107,
          0.37277508097194423,
          0.3918743992349069,
          -1.8864888109809683,
          -2.348402958758476,
          0.4024756375061336,
          -1.7798569384338385,
          0.5018503517056585,
          0.4034524506313263,
          -1.7567823985659665,
          0.26571014813273114,
          -1.7147075811297334,
          0.26700350308576953,
          -2.261520965899636,
          0.5283349986268874,
          0.508915254587271,
          0.464416853094894,
          0.49263762513326453,
          0.5307178012205483,
          0.4582180707974484,
          0.35325823821212976,
          0.4567149826087822,
          0.4630943685257961,
          -2.1011818492365433,
          0.4786068600646417,
          0.4996869922196453,
          0.5410005556895252,
          0.5038467013929312,
          0.39962481908111785,
          -1.8023391761085026,
          0.5778864175183727,
          0.5636633969837576,
          0.49520879924410977,
          0.5079112538204229,
          0.464416853094894,
          0.5182211959310552,
          0.464416853094894,
          0.5701359976721617,
          0.5061712447544732,
          0.5463273914795921,
          0.5190562449247588,
          0.4918919069621433,
          0.46219717635116586,
          0.30503124586414637,
          -2.365902090112574,
          0.44151126500016646,
          0.5554663230246355,
          0.5346231117469152,
          0.5369767847245167,
          0.5164889547627214,
          0.5164889547627214,
          0.4983819854201831,
          0.3752316785929557,
          0.46929315082324174,
          0.4789777771757984,
          0.4694854062892339,
          0.4829588247039197,
          0.5464206062509822,
          0.49651574801797593,
          0.4936746394649801,
          0.49198900568234133,
          0.4816984833157486,
          0.32258863645036356,
          0.5307042073997206,
          0.26370020462463084,
          0.428573831520974,
          0.4554954226830942,
          0.36114071231781003,
          0.49222981050843256,
          0.5437581593431507,
          0.550731789427777,
          0.5437581593431507,
          0.5697883842538526,
          0.5496132121710952,
          0.5646771076226256,
          0.49027812623245115,
          0.5777252336428438
         ]
        },
        {
         "name": "CrippenMR",
         "type": "box",
         "y": [
          -5.428741920935188,
          0.9638370306984306,
          1.0084885635847551,
          1.1521471119415017,
          0.9241711154265345,
          0.7096893259320034,
          0.8956049742924925,
          0.023177576253342057,
          -0.8811830181516341,
          -0.3994788066620717,
          -0.37663703065196547,
          0.27780416759628657,
          -0.30042353130409205,
          -0.42116605766987797,
          0.07377621220616795,
          0.4732344384033713,
          0.6911760906057561,
          -0.02254309875729601,
          0.9091919887889965,
          1.2614854556479265,
          1.274055300206714,
          0.1352407474571548,
          -0.4316718639608908,
          -0.2989274747898595,
          0.1107507106720631,
          0.6377561073804325,
          0.24207700160875922,
          -0.08591946801530366,
          0.6075862530599175,
          0.17157301818865112,
          -0.9251663372102606,
          1.167753617117267,
          0.7695724217907735,
          1.007586474917364,
          0.6649858208590806,
          -0.3108291055209502,
          0.486769480713276,
          0.8627696892592756,
          -0.12413758666052371,
          -0.8312451714284194,
          0.7096893259320034,
          0.6491974130302204,
          -0.06619602320111746,
          -0.21342580323699903,
          -0.16059978785851672,
          0.9963196473225853,
          0.6013310291728662,
          -0.21288751987579882,
          1.0149479639191576,
          1.0483289569116605,
          -0.16880396874301762,
          -0.2742147000622032,
          0.09968805952463668,
          0.5912335757765579,
          -0.39131174876799857,
          0.3613680190488261,
          0.6312150364670887,
          1.1611345879240247,
          0.3222589486333435,
          -0.6243216227849474,
          0.20628672653750496,
          0.5430479342015263,
          0.3788603721383141,
          0.646788130951469,
          0.5483565218326738,
          -0.06439555816537793,
          0.6587974183547991,
          0.2623201682889323,
          -0.26714277038574386,
          0.17879715212586342,
          0.41383765371920317,
          0.9969136151694277,
          0.8861571732286667,
          -0.2742147000622032,
          1.0174426288758933,
          0.5413031536514289,
          0.03979753906778082,
          0.26680833783162994,
          -0.27858036373648887,
          -0.4807261835119277,
          0.8013311401015889,
          1.1789833217216168,
          0.027001244267385715,
          -0.0381681654282757,
          -0.9609157769920442,
          0.7921320630736289,
          0.5612270626139245,
          0.20079994855230532,
          -0.3252773733953737,
          0.8437070336747006,
          -0.21817012141364725,
          -0.39217300214591805,
          0.009200770357348955,
          -5.428741920935188,
          0.40575597870311325,
          0.34718703670548073,
          0.9006722624858611,
          -0.3203585771637163,
          0.8956049742924925,
          1.1026584534024613,
          0.0865428086142221,
          0.7758833301634659,
          0.5266655585258236,
          -0.24418220080627068,
          0.21629137245774435,
          -0.5186881535231972,
          -0.14505639176647941,
          0.5559258995808627,
          0.3558998025588398,
          -0.2759334945190014,
          0.4882989479188935,
          0.676746384226546,
          -0.5808988608817784,
          0.4214627159530332,
          0.6779900044058709,
          0.4591870988255655,
          0.3119016343040418,
          0.02849730078161828,
          0.5499156874306333,
          0.8484216534590068,
          0.05751263009983442,
          -0.7100497445794164,
          -0.08484290129290324,
          -0.4805145824664907,
          0.6075862530599175,
          0.3718738253398379,
          0.8128949516197878,
          0.25908304352364525,
          0.4890042847370182,
          0.7917162855808396,
          0.2948881677910711,
          0.25618002567220616,
          -0.6189870490605007,
          0.5158182207228771,
          0.2604491695713811,
          0.7487909717493991,
          -0.0011936669623805497,
          0.020827690959274718,
          0.7096893259320034,
          -1.272908525442767,
          -2.907879269855356,
          -0.6283346180501718,
          -0.03567721277058299,
          -2.8800258901375235,
          -2.852391536063214,
          0.1583683704935525,
          -0.606662216238536,
          -0.5569471074578869,
          -0.44913080635899283,
          -0.8611774386101971,
          -0.6101629142358593,
          -0.8023337864834003,
          -0.06003360679013512,
          0.19474890111260526,
          -0.11628607418508517,
          0.3377466602397407,
          -0.22664158782922733,
          -0.8967189896455867,
          -1.047063388578345,
          -0.5842881899078184,
          -0.614105375819271,
          -0.11290045745808702,
          -2.880768349946076,
          -0.133024830568892,
          -0.5714844705093375,
          -0.3205701782091533,
          -2.756603083862865,
          -0.7854836611283106,
          -0.4628106283315658,
          -0.0805292098052158,
          -3.4355714418866357
         ]
        },
        {
         "name": "SpMax7_Bhe",
         "type": "box",
         "y": [
          0.9407743268107706,
          0.732877545457394,
          0.25962507333136803,
          0.28208628337708325,
          0.985174393180211,
          0.11597779978317943,
          0.7448916810632422,
          0.040758863816130086,
          -0.8138118253650855,
          -0.7281458149581668,
          -0.9449226095854313,
          0.1750037703684361,
          -1.3450455606323815,
          -0.4956984086710994,
          -0.5500231957584147,
          0.11597779978317943,
          0.7041480907477563,
          -0.0025964951093237505,
          0.5176678119961107,
          0.6445997664405075,
          0.8107082500344113,
          -0.3671993930607214,
          -0.18594265152900927,
          -0.6482256954931761,
          1.1345675576703254,
          0.29148865037296584,
          0.639376229220574,
          0.9251037151509677,
          0.9177907630430608,
          -0.1948226648028974,
          -1.1904288589223313,
          0.22514972767980232,
          0.8916730769433909,
          0.7673528911089598,
          0.7522046331711492,
          -0.6743433815928459,
          0.6001997000710693,
          0.7161622263536045,
          -0.767844697829666,
          -1.0650639656439134,
          0.03240120426423417,
          0.29932395620286495,
          -0.43823949925182626,
          -0.6732986741488592,
          0.24970035261349324,
          0.5192348731620896,
          0.1849284910863109,
          -0.3442158292930117,
          1.2714242328325969,
          0.3290981183564894,
          0.44349358347304574,
          0.15149785287873185,
          1.049423900985399,
          0.3975264559376263,
          -0.6586727699330431,
          0.3975264559376263,
          0.6884774790879535,
          0.7673528911089598,
          0.5019972003363079,
          -0.43823949925182626,
          0.3447687300162922,
          0.7673528911089598,
          -0.0913966278482025,
          0.7720540746068988,
          0.3975264559376263,
          -0.13945317027159534,
          0.3975264559376263,
          0.3191733976386146,
          0.7266093007934739,
          0.9841296857362221,
          0.6524350722704089,
          1.2385159483470125,
          0.9439084491427306,
          0.056429475475930586,
          0.7511599257271625,
          0.3118604455307077,
          -0.7422493654519884,
          -0.29981576292357115,
          0.07366714830171461,
          0.13634959494092355,
          0.7255645933494872,
          0.8107082500344113,
          -0.32488874157925657,
          0.027700020766295182,
          -0.9929791520088241,
          0.3593946342321083,
          0.4962513093943799,
          0.4931171870624198,
          -0.2339991939524021,
          0.3761099533358978,
          -0.5980797381818076,
          -0.3348134622971314,
          -0.2444462683922714,
          0.8765248190055803,
          0.3442463762943,
          0.1922414431942178,
          0.7396681438433088,
          -0.32750051018922216,
          0.5636349395315301,
          0.7673528911089598,
          0.7584728778350717,
          0.6900445402539347,
          0.13060370399899554,
          -0.10341076345405072,
          0.29984630992485944,
          -0.14206493888156324,
          -0.00416355627530264,
          0.49938543172634,
          0.5218466417720575,
          -0.17706263825512117,
          0.677508050926092,
          0.29827924875887823,
          0.1812720150323563,
          -0.10758959322999752,
          0.3484252060702468,
          0.3975264559376263,
          -0.3661546856167347,
          0.7255645933494872,
          0.3975264559376263,
          0.522368995494052,
          -0.43249360830989825,
          -0.4721924911813975,
          -0.24340156094828472,
          -0.12273785116780814,
          0.9167460555990741,
          0.789814101154675,
          0.6874327716439668,
          0.4847595275105262,
          0.7172069337975913,
          1.0431556563214788,
          0.6822092344240334,
          0.3792440756678579,
          0.025088252156327272,
          0.2053002862440527,
          0.33118753324446276,
          0.7569058166690905,
          -0.33167933996516896,
          -0.3671993930607214,
          0.25544624355541895,
          0.06322007386184529,
          -4.318805299940848,
          -0.42047947270405006,
          0.45968654885484306,
          -4.46454198837701,
          -3.9395764977736345,
          -0.49047487145116586,
          -0.27996632148782385,
          -0.14258729260355776,
          0.5672914155854848,
          0.2434321079495707,
          -0.029758888652980264,
          -0.42465830247999686,
          -0.10863430067398422,
          0.3364110704643986,
          -0.015655338159158656,
          0.4440159371950403,
          -0.4826395656212645,
          -1.0368568646562701,
          -0.9156708011537991,
          0.0485941696460315,
          -0.29406987198164547,
          -0.7824706020454798,
          -4.068597867106007,
          -0.39436178660437793,
          -0.7239669851822199,
          -0.39436178660437793,
          -4.146950925405019,
          -1.1324475957810636,
          0.13582724121892906,
          -0.06214481941657259,
          -5.0861429175491635
         ]
        },
        {
         "name": "SpMin1_Bhs",
         "type": "box",
         "y": [
          3.340820030240396,
          0.8670089402958315,
          -0.27427238081814864,
          -0.28296549207799576,
          1.5463134916008887,
          -0.3140123180060142,
          0.2721517555149878,
          1.0930298330518131,
          1.7052732403523456,
          -0.14387571192046902,
          -1.9284472662630054,
          0.7179841758413398,
          0.4845120448626398,
          -0.9150788679724637,
          0.22123496099303386,
          -0.5760475288384941,
          -0.6530436571399811,
          3.7953455618265948,
          -1.008219345756519,
          2.195813090015051,
          -0.15132695014319278,
          -1.0144287109421248,
          2.2715673452794176,
          0.6894210959875625,
          -0.10910326688108596,
          1.1538816118707267,
          -1.2267890002897741,
          2.799363386055742,
          1.6121327625682904,
          -0.4295065104582463,
          -0.4332321295696054,
          0.6409880475398554,
          1.6121327625682904,
          0.03371213238779991,
          -0.41584590704991664,
          -0.06563771058186127,
          -0.7635703574437307,
          -1.1560022371738903,
          0.6521649048739382,
          0.17652753165668578,
          -0.31649606408025543,
          -0.4605533363862647,
          2.2045062012748926,
          0.2609748981808994,
          -0.07433082184170842,
          -0.5723219097271321,
          -0.41584590704991664,
          -0.8281477553740089,
          1.255715200914629,
          1.5773603175289073,
          0.3503897568535956,
          0.3491478838164722,
          -1.1547603641367696,
          -0.007269677837183535,
          -0.5238888612794222,
          0.088354546021113,
          0.8136083996996418,
          -0.034590884653842836,
          -1.105085442651939,
          -0.5984012435066681,
          -0.07557269487882629,
          0.19267188113925668,
          1.8542980048068374,
          -1.2640451914033985,
          0.0399214975734058,
          0.43980461552629174,
          0.1156757528377723,
          0.20136499239910383,
          0.3764690906331315,
          0.026260894165076147,
          -0.31152857193177297,
          0.5018982673823286,
          1.5798440636031486,
          0.3454222647051131,
          -0.7039604516619324,
          -0.6443505458801367,
          0.5776525226466951,
          -1.0479592829443847,
          -0.1997599985909055,
          -0.7797147069262989,
          0.11195013372640766,
          -0.024655900356877824,
          0.488237663973999,
          -1.5347735134957254,
          -0.7697797226293339,
          0.32182667699981843,
          -0.5412750837991137,
          1.4655917441880397,
          0.8098827805882771,
          -0.8293896284111295,
          -0.12152199725229774,
          -1.1038435696148183,
          -0.25316053918709525,
          1.8108324485076126,
          0.5726850304982126,
          -0.8194546441141645,
          -0.07184707576746716,
          -0.8244221362626469,
          0.1814950238051738,
          -0.09544266347276183,
          0.1268526101718552,
          0.33672915344526594,
          1.563699714120583,
          0.5639919192383654,
          1.0470805306783417,
          -0.15505256925455743,
          -0.753635373146763,
          -1.4503261469715119,
          0.02129340201659364,
          -0.5959174974324268,
          -0.6753973718081552,
          0.8781857976299199,
          0.19639750025062133,
          0.47209331449142805,
          -0.6008849895809093,
          0.24234680262408728,
          0.5925549990921426,
          1.0992391982374135,
          0.10449889550368391,
          -0.051977107173531614,
          0.40130655137554405,
          0.3118916927028534,
          -0.2668211425954249,
          0.42738588515507997,
          1.6121327625682904,
          1.6767101604985684,
          0.06103333920445921,
          -0.42702276438400505,
          -0.5114701309082131,
          0.6248436980572845,
          -0.6753973718081552,
          0.17776940469380917,
          0.5913131260550247,
          0.8955720201496087,
          0.10698264157792516,
          0.44228836160053303,
          0.37771096367024937,
          -1.0554105211671083,
          -0.3686547316393273,
          -2.123421333090966,
          -1.6390908486138691,
          0.042405243647647056,
          -1.5409828786813287,
          0.2758773746263469,
          0.2758773746263469,
          -1.7843899939569963,
          0.5503313158300358,
          -0.8355989935967354,
          0.0399214975734058,
          0.44228836160053303,
          -1.9185122819660405,
          -0.15505256925455743,
          -1.3522181770389712,
          -1.3447669388162475,
          -1.1361322685799602,
          -1.5298060213472402,
          -1.1945003013246351,
          -0.1177963781409331,
          -0.30656107978329045,
          -0.2879329842264783,
          -1.7359569455092891,
          0.0051490525340227335,
          -0.753635373146763,
          -0.9039020106383754,
          -1.4267305592662172,
          -0.9088695027868606,
          0.35908286811344275,
          0.3503897568535956,
          -1.4615030043056003,
          -1.5608528472752614,
          -0.5127120039453366
         ]
        },
        {
         "name": "C1SP2",
         "type": "box",
         "y": [
          0.7991209868160812,
          -0.4900270202174081,
          3.3774170008830597,
          2.0882689938495704,
          -0.4900270202174081,
          -0.4900270202174081,
          0.7991209868160812,
          -1.1346010237341528,
          0.15454698329933655,
          0.7991209868160812,
          2.0882689938495704,
          2.0882689938495704,
          -1.1346010237341528,
          0.15454698329933655,
          0.7991209868160812,
          -1.1346010237341528,
          -0.4900270202174081,
          -1.7791750272508975,
          0.15454698329933655,
          0.15454698329933655,
          0.7991209868160812,
          0.15454698329933655,
          -0.4900270202174081,
          0.7991209868160812,
          0.15454698329933655,
          -0.4900270202174081,
          2.0882689938495704,
          1.443694990332826,
          -0.4900270202174081,
          -1.7791750272508975,
          -0.4900270202174081,
          -0.4900270202174081,
          0.15454698329933655,
          0.7991209868160812,
          -0.4900270202174081,
          1.443694990332826,
          -0.4900270202174081,
          0.15454698329933655,
          0.15454698329933655,
          0.7991209868160812,
          -0.4900270202174081,
          -1.7791750272508975,
          -1.1346010237341528,
          0.7991209868160812,
          -0.4900270202174081,
          0.7991209868160812,
          0.7991209868160812,
          0.15454698329933655,
          -1.7791750272508975,
          -1.1346010237341528,
          -0.4900270202174081,
          -1.1346010237341528,
          2.0882689938495704,
          0.7991209868160812,
          0.15454698329933655,
          0.7991209868160812,
          0.15454698329933655,
          0.15454698329933655,
          0.15454698329933655,
          -1.1346010237341528,
          0.15454698329933655,
          0.7991209868160812,
          0.15454698329933655,
          0.7991209868160812,
          0.7991209868160812,
          0.15454698329933655,
          0.7991209868160812,
          0.7991209868160812,
          -1.7791750272508975,
          2.0882689938495704,
          0.7991209868160812,
          0.15454698329933655,
          -0.4900270202174081,
          -1.1346010237341528,
          1.443694990332826,
          0.15454698329933655,
          -0.4900270202174081,
          1.443694990332826,
          -0.4900270202174081,
          -1.1346010237341528,
          0.7991209868160812,
          0.7991209868160812,
          -0.4900270202174081,
          2.0882689938495704,
          0.15454698329933655,
          -0.4900270202174081,
          0.15454698329933655,
          -0.4900270202174081,
          -1.7791750272508975,
          0.7991209868160812,
          -1.1346010237341528,
          -1.7791750272508975,
          0.7991209868160812,
          0.7991209868160812,
          0.7991209868160812,
          0.15454698329933655,
          0.15454698329933655,
          -1.7791750272508975,
          0.7991209868160812,
          0.7991209868160812,
          -0.4900270202174081,
          -0.4900270202174081,
          0.7991209868160812,
          0.7991209868160812,
          0.15454698329933655,
          -1.7791750272508975,
          0.15454698329933655,
          0.7991209868160812,
          0.15454698329933655,
          0.15454698329933655,
          -0.4900270202174081,
          -0.4900270202174081,
          -1.1346010237341528,
          0.7991209868160812,
          0.15454698329933655,
          0.7991209868160812,
          0.15454698329933655,
          -0.4900270202174081,
          0.7991209868160812,
          0.7991209868160812,
          -0.4900270202174081,
          -0.4900270202174081,
          -0.4900270202174081,
          -1.7791750272508975,
          -0.4900270202174081,
          -0.4900270202174081,
          0.7991209868160812,
          0.15454698329933655,
          -0.4900270202174081,
          0.7991209868160812,
          -0.4900270202174081,
          0.15454698329933655,
          0.15454698329933655,
          -1.1346010237341528,
          0.7991209868160812,
          0.15454698329933655,
          -0.4900270202174081,
          0.15454698329933655,
          -0.4900270202174081,
          -1.7791750272508975,
          0.15454698329933655,
          -0.4900270202174081,
          0.15454698329933655,
          -1.7791750272508975,
          -1.7791750272508975,
          1.443694990332826,
          0.15454698329933655,
          0.15454698329933655,
          0.7991209868160812,
          -0.4900270202174081,
          2.0882689938495704,
          -0.4900270202174081,
          -0.4900270202174081,
          -0.4900270202174081,
          0.7991209868160812,
          -0.4900270202174081,
          0.15454698329933655,
          0.15454698329933655,
          -1.7791750272508975,
          2.0882689938495704,
          0.15454698329933655,
          -1.7791750272508975,
          -1.7791750272508975,
          -1.1346010237341528,
          -1.1346010237341528,
          -1.1346010237341528,
          -1.1346010237341528,
          0.15454698329933655,
          -0.4900270202174081,
          0.7991209868160812,
          -1.1346010237341528
         ]
        },
        {
         "name": "GATS8e",
         "type": "box",
         "y": [
          -0.1475509298210482,
          1.3744877895845877,
          -0.8589051508311609,
          -0.20864344555809206,
          -0.7773752107648183,
          -0.40928181558658533,
          0.05220841120403446,
          -1.4010462886847133,
          1.384376865872958,
          0.25284678123252824,
          0.024738754847450025,
          -0.09964384913516469,
          -0.31588498397419795,
          -1.0384468247777974,
          -0.5881642177806639,
          0.20559897229920268,
          0.2407601324356309,
          1.0459506995598369,
          -0.9870236280782713,
          2.458989822542545,
          0.005839631274119998,
          0.04693423718357032,
          -0.8077017113824875,
          -1.3988487161761867,
          -1.2658955794103175,
          -0.3960963805354248,
          0.18582081972246203,
          -0.4989427739344774,
          -0.9516427106909904,
          -0.43543292843805387,
          0.10868602467317239,
          -0.42158822163433535,
          -0.8483568027902327,
          0.680494391391836,
          0.1746131999289753,
          -0.18798626397794058,
          1.1822001950884957,
          0.6154462451394441,
          0.16164752212866737,
          -0.23589334466382386,
          -0.2714940193019574,
          -0.10469826590477618,
          0.3086651229491077,
          -0.45696913902161623,
          0.8809130041694766,
          -0.3712638111890724,
          -0.8158327296640365,
          -0.8244032624472909,
          -1.1713999615436665,
          1.0571583193533232,
          -0.07503103703966474,
          -0.4121386598476703,
          -0.6184907183983333,
          -0.40642497132550065,
          1.0035375501452701,
          -0.3165442557267562,
          -0.5477288836237715,
          -0.35302395936830033,
          -0.8145141861589204,
          -0.5864061597738425,
          0.7831210275400357,
          0.05616404171938268,
          0.48403140912954357,
          -0.8035263236162865,
          -0.14974850232957473,
          1.6610512446964778,
          1.9262982464756575,
          0.4750213618445838,
          -0.17941573119468618,
          -1.263478249650938,
          -0.8747276728925538,
          -0.848796317291938,
          -0.7540809421744344,
          -0.5266321875419144,
          -0.2925907153838144,
          -0.8564878210717816,
          -1.6889282873017193,
          0.9237656680857487,
          0.7040084172330726,
          -0.4932290854123077,
          -0.8639595676007727,
          0.8314676227276245,
          -0.5108096654805219,
          -0.7518833696659077,
          1.522164662157586,
          0.3181146847357727,
          0.45766053902722237,
          2.7752205065195463,
          0.34932021435685323,
          -0.8940663109675892,
          0.45370490851187417,
          -0.20864344555809206,
          0.27548177807035384,
          -0.8982416987337901,
          0.773451708502518,
          -0.6894723104237477,
          0.010234776291173527,
          1.178244564573148,
          0.8846488774339721,
          0.040561276908842925,
          1.1604442272540811,
          0.6361034267195954,
          -0.6688151288435962,
          0.6055571688510734,
          -0.11480709944399915,
          -0.3279716327710953,
          -1.0553681330934537,
          0.26998784679903703,
          -0.37302186919589386,
          0.22120173710974292,
          0.36712055167592,
          -0.5508054851357089,
          0.3723947256963841,
          -0.2681976605391674,
          0.009355747287762919,
          0.4068966140802539,
          0.32778400377329087,
          -1.0977812825080202,
          0.4062373423276959,
          -0.06843831951408469,
          0.5189728120151191,
          -0.5174023830061021,
          1.1953856301396564,
          -0.2789657658309485,
          -0.7575970581880774,
          -0.9457092649179683,
          -0.38247143098255887,
          -1.4841145295070248,
          0.7998225786048392,
          0.3159171122272462,
          0.030672200620472607,
          -0.1598573358687977,
          1.927616789980774,
          -0.26973596129513594,
          0.23702425917113532,
          -0.20161121353080647,
          -0.4226870078885986,
          -0.5092713647245533,
          -0.8459394730308533,
          -0.14799044432275352,
          -0.8978021842320848,
          0.42052156363312027,
          -0.41609429036301854,
          4.713479459040151,
          0.14956087333177007,
          -0.3734613836975992,
          -0.5598155324206686,
          -0.8483568027902327,
          -0.03635376088959408,
          -0.8681349553669736,
          -0.029101771611455583,
          -0.1862282059711189,
          -0.04052914865579446,
          0.09835743388309676,
          -0.3752194417044206,
          -0.24182679043684618,
          0.6591779380591263,
          -1.177992679069247,
          -0.21237931882258765,
          -0.14974850232957473,
          0.42931185366722735,
          0.31701589848150946,
          7.053894180621153,
          0.3862394325001027,
          0.1434076703078953,
          0.32338885875623735,
          0.006938417528383259,
          -0.04690210893052235,
          0.5161159677540341,
          0.4616161695425706,
          -1.9392317960229175
         ]
        },
        {
         "name": "GATS8s",
         "type": "box",
         "y": [
          -0.14904308346008285,
          1.1421319532890155,
          -0.6999684991093177,
          -0.20459690222048996,
          -0.7803911753653583,
          -0.49700653309656734,
          -0.10632480405226111,
          -0.9697153808159873,
          1.1852513433016059,
          0.08761217335320307,
          -0.38910778041389965,
          -0.07303262385649384,
          -0.304072332203024,
          -0.7354667876313108,
          -0.9520665142061828,
          0.989108257569916,
          0.36598293306239055,
          0.9463899781620938,
          -0.7962350442537054,
          1.5929802730485638,
          0.23542143121031503,
          0.7025147304629787,
          -0.81970001463265,
          -1.2741583298351131,
          -1.262526122296833,
          -0.6167380486198993,
          -0.2601507209808971,
          -0.5056304110990854,
          -0.8981171378648488,
          -0.909749345403129,
          0.15921041630434146,
          -0.6149330508984421,
          -0.6406041296036121,
          0.784140738533324,
          0.3689912625981528,
          -0.15947195918405835,
          1.1331069646817293,
          0.44399894568982123,
          0.17806261472845042,
          0.06113887343849673,
          -0.39572610539257624,
          -0.03432545049635447,
          0.10626381647492833,
          -0.4392466060099349,
          0.8974544843803635,
          -0.7872100556464192,
          -0.8848804879074956,
          -0.912356564334123,
          0.30942633779006284,
          1.0097654537154825,
          -0.26315905051665933,
          -0.2328751998566538,
          -0.6724924226826906,
          0.46826613727830224,
          0.857744534508304,
          -0.06420819055159127,
          -0.7491045481934324,
          -0.7332606793050852,
          -0.5892619721932721,
          -0.547947579902139,
          0.6323203746285296,
          -0.09469259651398088,
          0.4313639616396204,
          -1.2506933594561684,
          0.29278024769217925,
          1.5885680563961126,
          2.211091714996486,
          -0.019885468724696587,
          -0.24651296041877568,
          -1.0094253306880472,
          -1.3022360721688928,
          -0.4506782582458308,
          -0.6343869152297038,
          -0.34478505858700453,
          -0.8393544342662956,
          -1.14179183026158,
          -1.26433112001829,
          0.803995713469354,
          0.6363314806762125,
          -0.5274909390589567,
          -1.1809001142264874,
          0.8362851171532006,
          -0.7507089906125055,
          -0.5714125502810836,
          1.3228322807371264,
          0.31905299230450146,
          0.13875377546115913,
          2.8261948274086457,
          -0.267370711866726,
          -0.7946306018346322,
          0.1309321186681776,
          -0.18594525909876514,
          0.004983388770937252,
          -0.6911440658044157,
          1.68142516139997,
          -0.8684349531119961,
          0.4837088955618812,
          0.8114162596575673,
          0.6359303700714442,
          0.2713208303370758,
          1.3809933184285272,
          0.7524530007566297,
          -0.8207027911445706,
          1.0761492588046333,
          -0.10411869572603535,
          -0.33856784421309616,
          -0.8644238470643133,
          -0.28161013833600024,
          -0.5629892275809497,
          0.10405770814870259,
          0.639941476119127,
          -0.3225234200223649,
          0.470472245604528,
          -0.3818877895280705,
          -0.29584956480527425,
          0.3760106981815974,
          0.7011108433462899,
          -0.7858061685297302,
          0.7217680394918563,
          0.8019901604455127,
          0.7143474933036431,
          0.24143809028183905,
          0.6036409663875976,
          -0.32753730258196834,
          -0.5788330964692969,
          -0.48758043388451267,
          -0.7547200966601884,
          -1.262526122296833,
          0.681456423712644,
          0.7614779893639163,
          0.04429222803822853,
          0.02022559175213161,
          2.141699580371573,
          -0.45529103020066597,
          -0.33896895481786443,
          -0.11916034340484603,
          -0.4835693278368298,
          -0.12778422140736403,
          -1.026472531390699,
          -0.22485298776128818,
          -1.8048276599435495,
          0.0015739486304067883,
          -0.6668768742159346,
          6.199535013509894,
          1.903038770534446,
          -0.44746937340768467,
          -0.5990891820100951,
          -0.6259635925295699,
          -0.1448314221100159,
          -0.9849575837971818,
          -0.045355992127482335,
          -0.202992459801417,
          0.164424854166329,
          0.1403582178802321,
          -0.24952128995453746,
          -0.058392086782451384,
          1.1375191813341803,
          -1.26433112001829,
          -0.27639570047401246,
          -0.3445845032846204,
          0.13755044364685398,
          -0.6400024636964597,
          5.225437909830123,
          0.6884758592960891,
          0.14938320648751832,
          0.4612467016948572,
          -0.6746985310089161,
          -0.29444567768858515,
          -0.4442604885695383,
          0.2745297151752222,
          -1.724404983687509
         ]
        },
        {
         "name": "SpMax5_Bhv",
         "type": "box",
         "y": [
          0.6505620834915246,
          0.9123602151979007,
          1.1007945710326255,
          1.1626010397464162,
          0.4852423419725257,
          1.2078252851467495,
          0.035009854431424806,
          0.4174059738720268,
          -0.5503928776951179,
          -0.6066719386377561,
          -0.7453596245321136,
          0.7329707084432439,
          0.6214175697890882,
          -0.6076769218688746,
          0.6988012785852131,
          0.6988012785852131,
          0.7314632335965674,
          -0.6609410331181574,
          0.7967871436192713,
          1.1736558552887186,
          0.7133735354364336,
          0.12395087038541494,
          -0.2946246453754524,
          -0.34185885723802256,
          -0.08408065845612014,
          -0.16146436725224733,
          0.8108569088549292,
          0.07420420044504761,
          0.4420280630344292,
          0.6224225530202067,
          -1.0870539231124141,
          0.5239341963705904,
          0.4651426773501551,
          0.7083486192808393,
          0.5666459836931266,
          -0.3036694944555204,
          0.3586144548515915,
          1.2123477096867834,
          -0.5252682969171553,
          -0.9724858347649009,
          1.207322793531189,
          0.4586102863478865,
          -0.2172409365793252,
          -0.5202433807615632,
          -0.34587879016249845,
          1.2344573407713908,
          0.5671484753086868,
          -0.4132126666474392,
          1.3384731051921572,
          1.1736558552887186,
          0.028477463429153964,
          0.34705714769372853,
          -0.31572929322894144,
          0.5299640957573009,
          0.01290022334681735,
          0.5430288777618426,
          1.3646026692012407,
          0.5596111010752977,
          0.7440255239855488,
          -0.7297823844497769,
          -0.3051769693021969,
          0.5123768892127275,
          0.5601135926908579,
          0.4470529791900213,
          0.5274516376795038,
          0.2530912155841463,
          0.5455413358396375,
          -0.4247699738053022,
          -0.45944189527889095,
          0.3887639517851485,
          1.1736558552887186,
          1.6912222193147626,
          0.4591127779634446,
          0.3686642871627779,
          1.3706325685879512,
          1.1309440679661824,
          0.6184026200957308,
          0.20183707079710023,
          -0.5534078273884732,
          0.2234442102661496,
          0.5108694143660487,
          0.7349806749054807,
          -0.1594544007900105,
          -0.5066761071414634,
          -0.9453512875247013,
          0.02897995504471429,
          -0.17000672471675501,
          -0.44738209650546995,
          -1.1096660458125795,
          1.129939084735064,
          -0.6081794134844348,
          0.5224267215239117,
          -0.14588712716991073,
          -0.061468535755954595,
          -0.30869441061111247,
          1.106321978803778,
          0.6505620834915246,
          0.5631285423842132,
          0.19731464625706846,
          0.688751446274029,
          -0.42326249895862345,
          0.5048395149793382,
          0.15912528347456406,
          -0.18407648995241513,
          -0.06699594352710478,
          -1.558391058507004,
          -0.3745208122493767,
          0.6977962953540947,
          -0.435824789347607,
          -0.059961060909275846,
          0.7209109096698206,
          0.55106874361079,
          -0.44135219711875723,
          0.8465338135596386,
          1.1857156540621419,
          0.5405164196840454,
          0.16314521639903776,
          0.7500554233722593,
          0.5199142634461167,
          0.5495612687641134,
          0.9003004164244797,
          -0.5735074920108438,
          0.24052892519516494,
          -1.1584077325218285,
          0.42996826426100815,
          0.3937888679407406,
          0.6249350110980015,
          -0.3096993938422309,
          0.7500554233722593,
          0.6691542732672164,
          0.7209109096698206,
          0.29178306998220876,
          -0.4704967108211958,
          0.9716542258338942,
          0.17620999840357943,
          0.38072408593619894,
          0.800807076543745,
          0.11942844584538094,
          1.2133526929179017,
          -1.439300545619459,
          -3.115110083509607,
          -0.7704842053100763,
          -0.6116968547933482,
          -4.56128095308917,
          -4.553241087240223,
          -0.26899757298192933,
          -1.00766024785405,
          -0.8694750535752529,
          -0.07302584291381753,
          -0.26950006459748965,
          -0.5197408891460028,
          -1.5789932147449348,
          -0.17503164087234713,
          -0.11774759669859053,
          -0.02629412266680546,
          -0.18106154025905985,
          0.007875307191225254,
          -0.7614393562300106,
          -1.2594085472492418,
          -0.4956212915991585,
          -0.709180228211846,
          -0.4549194707388592,
          -2.589503853634616,
          -0.7353097922209272,
          -1.054391968101062,
          -0.7353097922209272,
          -3.088980519500526,
          -0.8493753889528822,
          -0.7177225856763537,
          -0.6765182732004941,
          -4.631127287651909
         ]
        },
        {
         "name": "VE3_Dzi",
         "type": "box",
         "y": [
          0.19721813701844618,
          0.22711736483600153,
          -0.036217543810479896,
          0.10144017805222037,
          0.37198283051941167,
          -3.2037947487617777,
          -3.075381793291529,
          0.32549844915844167,
          0.3780560001402793,
          -2.4287526642010473,
          0.1366451390798941,
          0.2920604867802092,
          0.4822970773028234,
          0.3844631467176766,
          -2.6907587709141016,
          0.20297154146816826,
          0.5009216220488771,
          0.13335274213254386,
          0.3070231281589224,
          0.3114098325808595,
          0.47631628428695333,
          0.3932412928233457,
          0.24579638809269497,
          0.4426651451279571,
          0.3833001489470659,
          0.33567882475535626,
          0.2123181589892071,
          0.4401922944710984,
          0.4116194999560726,
          -2.7430628783899196,
          0.37131250797545473,
          -0.11575616934430777,
          0.4239553296695978,
          0.5036502848426524,
          0.394591412434849,
          0.3753249687156067,
          0.496705459051551,
          0.45301843078038007,
          0.37280000817900577,
          0.24021115643668647,
          -2.9215629028160444,
          0.4865582442871997,
          0.5125563370167796,
          -2.3634803025621043,
          0.304976631063591,
          0.40198390946555407,
          0.4754967379964618,
          0.47156007344502576,
          -0.21517234536890043,
          0.20667608019166164,
          0.47740822313064285,
          0.4279962139805183,
          -0.026506157131245402,
          0.4277546136289861,
          0.48310714906972535,
          0.45219177859719645,
          0.4604725122144168,
          0.454404079855344,
          0.2589565013585064,
          0.399508690177798,
          0.40497549028893776,
          0.47606284078093425,
          0.43031036636725295,
          0.4792154885053394,
          0.4508203413076167,
          0.42315946968808005,
          0.43296797023410694,
          -2.7231521670665915,
          -2.346890411756895,
          -2.534215954906636,
          0.02637115902173776,
          0.07235339063246435,
          0.40810208307347184,
          0.3903515631285491,
          0.421247984553899,
          0.273263031978647,
          0.36552357406227204,
          -3.175101154070986,
          0.3730202908524616,
          0.4523765318071916,
          0.45782438287115246,
          0.4984298223448395,
          0.4457893692815938,
          0.17395818160623086,
          0.44967155532239017,
          -0.05008350908370885,
          0.2822709352813613,
          0.25497483282002026,
          -2.3309139963541057,
          -0.15008947420174767,
          0.19312277419688606,
          -2.5109038896146783,
          -2.7525374019794167,
          -0.273805434602503,
          0.3109195259851031,
          0.29477256915770267,
          0.4879036266369082,
          -0.1366285448119698,
          -3.0170589947054824,
          0.4819394140373198,
          -2.4477798761996543,
          0.5158653143804114,
          0.23038607547437803,
          0.22379417568698545,
          0.4739997632693213,
          -2.299155393282111,
          0.25780060948058775,
          -0.2866031473410162,
          0.41117656597826363,
          0.4799663444998071,
          0.48030032145633683,
          0.45934267527636935,
          0.3987317792434592,
          0.34624528718854286,
          0.31759432785390374,
          0.4521136137775831,
          0.38849218787411033,
          -2.7664270535616193,
          0.4644778670618767,
          0.4390150849151034,
          0.14996868787762432,
          0.3765566567822413,
          0.33304016993568136,
          -2.4477798761996543,
          0.40028560111213674,
          0.4313407208076108,
          0.4728486086531974,
          0.4409715740363345,
          0.4767142142777122,
          0.25022335923988753,
          0.4751982905033927,
          0.4942870869053319,
          0.4765602532693829,
          0.44631757397170824,
          0.47157428523041006,
          0.41033570200969577,
          0.49404311792290234,
          0.37620609940942995,
          -3.079815870331414,
          0.5665824391549892,
          0.4889789850643162,
          0.4818636178486039,
          0.1255030993386455,
          0.4210158587259563,
          0.4321484239436154,
          0.4559697448785084,
          0.4353981855348129,
          0.40734648981720945,
          0.27665254279278956,
          0.34565312946419935,
          0.4572180133614246,
          0.3807254471616201,
          0.4412652842676089,
          0.4490296563492017,
          0.44011176102058763,
          0.43636932420273633,
          0.4046391447015107,
          0.3483107333310532,
          0.34675691146237575,
          0.4253907199934066,
          0.42844151658922464,
          0.39993504373932537,
          0.4402751965525065,
          0.47442137956905395,
          0.4786754406607381,
          0.47497327056814215,
          0.4625426956187219,
          0.4613323252301637,
          0.43415939157548616,
          0.48280396431486144,
          0.49066308163234923
         ]
        },
        {
         "name": "VPC-4",
         "type": "box",
         "y": [
          1.8832389881183964,
          -0.5723081173038962,
          0.3582137578714627,
          0.5598719313511141,
          0.44515972648375085,
          0.1700857418889868,
          0.4813970178674924,
          -0.16287378608500036,
          -3.0219725455535036,
          -0.131460289982861,
          -0.5005394557971358,
          -0.14934362858782385,
          -1.2096373621926202,
          -0.011806636290442096,
          0.6634070495903752,
          -0.4208880068789771,
          0.45221893909097344,
          1.568280452292826,
          0.6624658212427457,
          -3.0219725455535036,
          0.6062274274718743,
          -0.48324438490944105,
          0.11278846622703241,
          -0.6497241488964344,
          0.6141102148832724,
          1.6300485626060217,
          -0.5808968259760166,
          0.3030342459916743,
          0.22844189944202523,
          -0.10804723483557324,
          -0.5783084480200353,
          0.5244582147715486,
          0.3806855846711204,
          0.36574358465249956,
          1.6100474602188914,
          -0.47536159749804285,
          -0.07851619542869348,
          0.625522608598282,
          0.22008849785681173,
          -0.8047915191684187,
          0.185263048994515,
          0.44751279735282523,
          -0.12734241596198095,
          -0.059809282019553975,
          0.6251696479679206,
          -0.616428196099036,
          0.004076592075808258,
          0.16585021432465333,
          4.255369731232011,
          -3.0219725455535036,
          0.3812738523883886,
          -3.0219725455535036,
          -0.09710545529437851,
          1.452038751360565,
          -0.3345303059839572,
          1.5335726569739827,
          0.37268514371626826,
          -0.22734792789763078,
          -0.06792737651785956,
          0.6771725141744586,
          0.6219930022946707,
          1.8053523423520428,
          0.926598026296315,
          -0.10675304585758288,
          1.566986263314835,
          0.8909490026298422,
          1.8997104842019155,
          -0.2934692193186135,
          0.15502608832691256,
          -1.2077549054973609,
          -0.4301826368118196,
          -0.9373870626407451,
          0.4204524823584727,
          -3.0219725455535036,
          -0.05239710878197055,
          0.6772901677179125,
          -0.879501519261522,
          1.244380247164774,
          0.696938309474681,
          -0.5671313613919332,
          -0.08063395921085995,
          0.3629198996096104,
          0.2999752538618783,
          -0.4985393455584227,
          -0.8102035821672894,
          0.01995982044205861,
          0.1331425292445236,
          -0.22499485702855693,
          0.49163287614796497,
          0.6848199944989494,
          -0.7077273458191115,
          -0.21970044757313997,
          -0.12863660493997184,
          0.7876491914774885,
          0.445865647744473,
          0.3956275846897407,
          0.35068393109042534,
          0.197734324600608,
          0.4373945926158066,
          0.6091687660582169,
          0.016312560594993353,
          0.9854247980231676,
          0.4205701359019267,
          -0.20605263653251005,
          -0.3210001484867807,
          -0.10098802222835115,
          -0.8624417554607348,
          -0.5470126054613493,
          0.5141047029476227,
          -0.027925171743599837,
          0.4493952540480843,
          -3.0219725455535036,
          0.2698559467377293,
          -0.04557320326165584,
          0.8307103883815447,
          1.2893239007640898,
          -0.12204800650656451,
          0.5044571123844188,
          1.4034478379141844,
          1.4493327198611292,
          1.3954473969593322,
          -0.6321937709218324,
          -0.005100384313580825,
          0.12843638750637537,
          0.2479723876553403,
          0.03125456061361417,
          -0.19781688849075102,
          -0.3169999280093546,
          0.5599895848945681,
          0.09255205675299516,
          0.27820934832294275,
          0.1933811434928206,
          0.4784556792811498,
          0.599521175495013,
          -0.5565425424810998,
          0.2846802932128966,
          -0.26735013267189106,
          -1.0648058502011084,
          0.1206712536384306,
          -1.0384514564674785,
          -2.0560369537985794,
          -1.030686322599534,
          -1.2246970157546946,
          -1.7601382920125095,
          -1.7456669061677037,
          1.4513328300998423,
          -0.6976091410820928,
          0.22361810416042302,
          0.21349989942340442,
          0.5148106242083448,
          -1.2608166535949823,
          0.8524762939204802,
          -0.003100274074867786,
          0.11231785205321763,
          -0.09381115607767511,
          -0.032866620568655455,
          -0.12098912461548102,
          1.0583699949644656,
          -0.42818252657310657,
          1.0933130973702156,
          -0.7097274560578245,
          -0.3187647311611603,
          -1.1445749526627211,
          0.3186821672710172,
          -0.0636918489535261,
          0.15902630880433863,
          -2.1823968594678593,
          -1.067041267526729,
          -0.7466706687022883,
          -0.6070159126227395,
          -1.8968517095057154
         ]
        }
       ],
       "layout": {
        "height": 700,
        "showlegend": false,
        "template": {
         "data": {
          "bar": [
           {
            "error_x": {
             "color": "#2a3f5f"
            },
            "error_y": {
             "color": "#2a3f5f"
            },
            "marker": {
             "line": {
              "color": "#E5ECF6",
              "width": 0.5
             },
             "pattern": {
              "fillmode": "overlay",
              "size": 10,
              "solidity": 0.2
             }
            },
            "type": "bar"
           }
          ],
          "barpolar": [
           {
            "marker": {
             "line": {
              "color": "#E5ECF6",
              "width": 0.5
             },
             "pattern": {
              "fillmode": "overlay",
              "size": 10,
              "solidity": 0.2
             }
            },
            "type": "barpolar"
           }
          ],
          "carpet": [
           {
            "aaxis": {
             "endlinecolor": "#2a3f5f",
             "gridcolor": "white",
             "linecolor": "white",
             "minorgridcolor": "white",
             "startlinecolor": "#2a3f5f"
            },
            "baxis": {
             "endlinecolor": "#2a3f5f",
             "gridcolor": "white",
             "linecolor": "white",
             "minorgridcolor": "white",
             "startlinecolor": "#2a3f5f"
            },
            "type": "carpet"
           }
          ],
          "choropleth": [
           {
            "colorbar": {
             "outlinewidth": 0,
             "ticks": ""
            },
            "type": "choropleth"
           }
          ],
          "contour": [
           {
            "colorbar": {
             "outlinewidth": 0,
             "ticks": ""
            },
            "colorscale": [
             [
              0,
              "#0d0887"
             ],
             [
              0.1111111111111111,
              "#46039f"
             ],
             [
              0.2222222222222222,
              "#7201a8"
             ],
             [
              0.3333333333333333,
              "#9c179e"
             ],
             [
              0.4444444444444444,
              "#bd3786"
             ],
             [
              0.5555555555555556,
              "#d8576b"
             ],
             [
              0.6666666666666666,
              "#ed7953"
             ],
             [
              0.7777777777777778,
              "#fb9f3a"
             ],
             [
              0.8888888888888888,
              "#fdca26"
             ],
             [
              1,
              "#f0f921"
             ]
            ],
            "type": "contour"
           }
          ],
          "contourcarpet": [
           {
            "colorbar": {
             "outlinewidth": 0,
             "ticks": ""
            },
            "type": "contourcarpet"
           }
          ],
          "heatmap": [
           {
            "colorbar": {
             "outlinewidth": 0,
             "ticks": ""
            },
            "colorscale": [
             [
              0,
              "#0d0887"
             ],
             [
              0.1111111111111111,
              "#46039f"
             ],
             [
              0.2222222222222222,
              "#7201a8"
             ],
             [
              0.3333333333333333,
              "#9c179e"
             ],
             [
              0.4444444444444444,
              "#bd3786"
             ],
             [
              0.5555555555555556,
              "#d8576b"
             ],
             [
              0.6666666666666666,
              "#ed7953"
             ],
             [
              0.7777777777777778,
              "#fb9f3a"
             ],
             [
              0.8888888888888888,
              "#fdca26"
             ],
             [
              1,
              "#f0f921"
             ]
            ],
            "type": "heatmap"
           }
          ],
          "heatmapgl": [
           {
            "colorbar": {
             "outlinewidth": 0,
             "ticks": ""
            },
            "colorscale": [
             [
              0,
              "#0d0887"
             ],
             [
              0.1111111111111111,
              "#46039f"
             ],
             [
              0.2222222222222222,
              "#7201a8"
             ],
             [
              0.3333333333333333,
              "#9c179e"
             ],
             [
              0.4444444444444444,
              "#bd3786"
             ],
             [
              0.5555555555555556,
              "#d8576b"
             ],
             [
              0.6666666666666666,
              "#ed7953"
             ],
             [
              0.7777777777777778,
              "#fb9f3a"
             ],
             [
              0.8888888888888888,
              "#fdca26"
             ],
             [
              1,
              "#f0f921"
             ]
            ],
            "type": "heatmapgl"
           }
          ],
          "histogram": [
           {
            "marker": {
             "pattern": {
              "fillmode": "overlay",
              "size": 10,
              "solidity": 0.2
             }
            },
            "type": "histogram"
           }
          ],
          "histogram2d": [
           {
            "colorbar": {
             "outlinewidth": 0,
             "ticks": ""
            },
            "colorscale": [
             [
              0,
              "#0d0887"
             ],
             [
              0.1111111111111111,
              "#46039f"
             ],
             [
              0.2222222222222222,
              "#7201a8"
             ],
             [
              0.3333333333333333,
              "#9c179e"
             ],
             [
              0.4444444444444444,
              "#bd3786"
             ],
             [
              0.5555555555555556,
              "#d8576b"
             ],
             [
              0.6666666666666666,
              "#ed7953"
             ],
             [
              0.7777777777777778,
              "#fb9f3a"
             ],
             [
              0.8888888888888888,
              "#fdca26"
             ],
             [
              1,
              "#f0f921"
             ]
            ],
            "type": "histogram2d"
           }
          ],
          "histogram2dcontour": [
           {
            "colorbar": {
             "outlinewidth": 0,
             "ticks": ""
            },
            "colorscale": [
             [
              0,
              "#0d0887"
             ],
             [
              0.1111111111111111,
              "#46039f"
             ],
             [
              0.2222222222222222,
              "#7201a8"
             ],
             [
              0.3333333333333333,
              "#9c179e"
             ],
             [
              0.4444444444444444,
              "#bd3786"
             ],
             [
              0.5555555555555556,
              "#d8576b"
             ],
             [
              0.6666666666666666,
              "#ed7953"
             ],
             [
              0.7777777777777778,
              "#fb9f3a"
             ],
             [
              0.8888888888888888,
              "#fdca26"
             ],
             [
              1,
              "#f0f921"
             ]
            ],
            "type": "histogram2dcontour"
           }
          ],
          "mesh3d": [
           {
            "colorbar": {
             "outlinewidth": 0,
             "ticks": ""
            },
            "type": "mesh3d"
           }
          ],
          "parcoords": [
           {
            "line": {
             "colorbar": {
              "outlinewidth": 0,
              "ticks": ""
             }
            },
            "type": "parcoords"
           }
          ],
          "pie": [
           {
            "automargin": true,
            "type": "pie"
           }
          ],
          "scatter": [
           {
            "fillpattern": {
             "fillmode": "overlay",
             "size": 10,
             "solidity": 0.2
            },
            "type": "scatter"
           }
          ],
          "scatter3d": [
           {
            "line": {
             "colorbar": {
              "outlinewidth": 0,
              "ticks": ""
             }
            },
            "marker": {
             "colorbar": {
              "outlinewidth": 0,
              "ticks": ""
             }
            },
            "type": "scatter3d"
           }
          ],
          "scattercarpet": [
           {
            "marker": {
             "colorbar": {
              "outlinewidth": 0,
              "ticks": ""
             }
            },
            "type": "scattercarpet"
           }
          ],
          "scattergeo": [
           {
            "marker": {
             "colorbar": {
              "outlinewidth": 0,
              "ticks": ""
             }
            },
            "type": "scattergeo"
           }
          ],
          "scattergl": [
           {
            "marker": {
             "colorbar": {
              "outlinewidth": 0,
              "ticks": ""
             }
            },
            "type": "scattergl"
           }
          ],
          "scattermapbox": [
           {
            "marker": {
             "colorbar": {
              "outlinewidth": 0,
              "ticks": ""
             }
            },
            "type": "scattermapbox"
           }
          ],
          "scatterpolar": [
           {
            "marker": {
             "colorbar": {
              "outlinewidth": 0,
              "ticks": ""
             }
            },
            "type": "scatterpolar"
           }
          ],
          "scatterpolargl": [
           {
            "marker": {
             "colorbar": {
              "outlinewidth": 0,
              "ticks": ""
             }
            },
            "type": "scatterpolargl"
           }
          ],
          "scatterternary": [
           {
            "marker": {
             "colorbar": {
              "outlinewidth": 0,
              "ticks": ""
             }
            },
            "type": "scatterternary"
           }
          ],
          "surface": [
           {
            "colorbar": {
             "outlinewidth": 0,
             "ticks": ""
            },
            "colorscale": [
             [
              0,
              "#0d0887"
             ],
             [
              0.1111111111111111,
              "#46039f"
             ],
             [
              0.2222222222222222,
              "#7201a8"
             ],
             [
              0.3333333333333333,
              "#9c179e"
             ],
             [
              0.4444444444444444,
              "#bd3786"
             ],
             [
              0.5555555555555556,
              "#d8576b"
             ],
             [
              0.6666666666666666,
              "#ed7953"
             ],
             [
              0.7777777777777778,
              "#fb9f3a"
             ],
             [
              0.8888888888888888,
              "#fdca26"
             ],
             [
              1,
              "#f0f921"
             ]
            ],
            "type": "surface"
           }
          ],
          "table": [
           {
            "cells": {
             "fill": {
              "color": "#EBF0F8"
             },
             "line": {
              "color": "white"
             }
            },
            "header": {
             "fill": {
              "color": "#C8D4E3"
             },
             "line": {
              "color": "white"
             }
            },
            "type": "table"
           }
          ]
         },
         "layout": {
          "annotationdefaults": {
           "arrowcolor": "#2a3f5f",
           "arrowhead": 0,
           "arrowwidth": 1
          },
          "autotypenumbers": "strict",
          "coloraxis": {
           "colorbar": {
            "outlinewidth": 0,
            "ticks": ""
           }
          },
          "colorscale": {
           "diverging": [
            [
             0,
             "#8e0152"
            ],
            [
             0.1,
             "#c51b7d"
            ],
            [
             0.2,
             "#de77ae"
            ],
            [
             0.3,
             "#f1b6da"
            ],
            [
             0.4,
             "#fde0ef"
            ],
            [
             0.5,
             "#f7f7f7"
            ],
            [
             0.6,
             "#e6f5d0"
            ],
            [
             0.7,
             "#b8e186"
            ],
            [
             0.8,
             "#7fbc41"
            ],
            [
             0.9,
             "#4d9221"
            ],
            [
             1,
             "#276419"
            ]
           ],
           "sequential": [
            [
             0,
             "#0d0887"
            ],
            [
             0.1111111111111111,
             "#46039f"
            ],
            [
             0.2222222222222222,
             "#7201a8"
            ],
            [
             0.3333333333333333,
             "#9c179e"
            ],
            [
             0.4444444444444444,
             "#bd3786"
            ],
            [
             0.5555555555555556,
             "#d8576b"
            ],
            [
             0.6666666666666666,
             "#ed7953"
            ],
            [
             0.7777777777777778,
             "#fb9f3a"
            ],
            [
             0.8888888888888888,
             "#fdca26"
            ],
            [
             1,
             "#f0f921"
            ]
           ],
           "sequentialminus": [
            [
             0,
             "#0d0887"
            ],
            [
             0.1111111111111111,
             "#46039f"
            ],
            [
             0.2222222222222222,
             "#7201a8"
            ],
            [
             0.3333333333333333,
             "#9c179e"
            ],
            [
             0.4444444444444444,
             "#bd3786"
            ],
            [
             0.5555555555555556,
             "#d8576b"
            ],
            [
             0.6666666666666666,
             "#ed7953"
            ],
            [
             0.7777777777777778,
             "#fb9f3a"
            ],
            [
             0.8888888888888888,
             "#fdca26"
            ],
            [
             1,
             "#f0f921"
            ]
           ]
          },
          "colorway": [
           "#636efa",
           "#EF553B",
           "#00cc96",
           "#ab63fa",
           "#FFA15A",
           "#19d3f3",
           "#FF6692",
           "#B6E880",
           "#FF97FF",
           "#FECB52"
          ],
          "font": {
           "color": "#2a3f5f"
          },
          "geo": {
           "bgcolor": "white",
           "lakecolor": "white",
           "landcolor": "#E5ECF6",
           "showlakes": true,
           "showland": true,
           "subunitcolor": "white"
          },
          "hoverlabel": {
           "align": "left"
          },
          "hovermode": "closest",
          "mapbox": {
           "style": "light"
          },
          "paper_bgcolor": "white",
          "plot_bgcolor": "#E5ECF6",
          "polar": {
           "angularaxis": {
            "gridcolor": "white",
            "linecolor": "white",
            "ticks": ""
           },
           "bgcolor": "#E5ECF6",
           "radialaxis": {
            "gridcolor": "white",
            "linecolor": "white",
            "ticks": ""
           }
          },
          "scene": {
           "xaxis": {
            "backgroundcolor": "#E5ECF6",
            "gridcolor": "white",
            "gridwidth": 2,
            "linecolor": "white",
            "showbackground": true,
            "ticks": "",
            "zerolinecolor": "white"
           },
           "yaxis": {
            "backgroundcolor": "#E5ECF6",
            "gridcolor": "white",
            "gridwidth": 2,
            "linecolor": "white",
            "showbackground": true,
            "ticks": "",
            "zerolinecolor": "white"
           },
           "zaxis": {
            "backgroundcolor": "#E5ECF6",
            "gridcolor": "white",
            "gridwidth": 2,
            "linecolor": "white",
            "showbackground": true,
            "ticks": "",
            "zerolinecolor": "white"
           }
          },
          "shapedefaults": {
           "line": {
            "color": "#2a3f5f"
           }
          },
          "ternary": {
           "aaxis": {
            "gridcolor": "white",
            "linecolor": "white",
            "ticks": ""
           },
           "baxis": {
            "gridcolor": "white",
            "linecolor": "white",
            "ticks": ""
           },
           "bgcolor": "#E5ECF6",
           "caxis": {
            "gridcolor": "white",
            "linecolor": "white",
            "ticks": ""
           }
          },
          "title": {
           "x": 0.05
          },
          "xaxis": {
           "automargin": true,
           "gridcolor": "white",
           "linecolor": "white",
           "ticks": "",
           "title": {
            "standoff": 15
           },
           "zerolinecolor": "white",
           "zerolinewidth": 2
          },
          "yaxis": {
           "automargin": true,
           "gridcolor": "white",
           "linecolor": "white",
           "ticks": "",
           "title": {
            "standoff": 15
           },
           "zerolinecolor": "white",
           "zerolinewidth": 2
          }
         }
        },
        "width": 800,
        "xaxis": {
         "autorange": true,
         "range": [
          -0.5,
          12.5
         ],
         "type": "category"
        },
        "yaxis": {
         "autorange": true,
         "range": [
          -6.122221704354985,
          7.74737396404095
         ],
         "type": "linear"
        }
       }
      },
      "image/png": "[encoded data removed]",
      "text/html": [
       "<div>                            <div id=\"9766dbef-4e3d-438f-a760-462484bd1662\" class=\"plotly-graph-div\" style=\"height:700px; width:800px;\"></div>            <script type=\"text/javascript\">                require([\"plotly\"], function(Plotly) {                    window.PLOTLYENV=window.PLOTLYENV || {};                                    if (document.getElementById(\"9766dbef-4e3d-438f-a760-462484bd1662\")) {                    Plotly.newPlot(                        \"9766dbef-4e3d-438f-a760-462484bd1662\",                        [{\"name\":\"MDEC-23\",\"y\":[2.0860983436475338,0.5322238665904527,-0.15726666311094112,0.14454345745676697,1.348313832234458,1.313305404925087,1.6781525067539065,0.1507797363515827,-0.7123053993423865,-0.3406767160126863,-0.680192033141578,0.12472418637451452,-0.32671696929742305,-0.640553490977073,1.2773650058889865,0.5616404635394483,1.0254054581084548,-1.5552242532047895,0.5409387936946546,2.5737178485836734,1.1868447732822,-0.21918329538140954,0.8329235527603556,0.05400339566430549,-0.4308895962415085,-0.3228007051265931,-0.8836692219465146,0.8764486153171782,1.2237865461948927,0.07118538505177148,-0.2674078749432289,0.04972029155848615,1.5313074722370268,0.7133337339538872,2.0703242264429993,-0.24813390646704117,0.10344747014514317,1.3001983131938526,-0.9019120727675977,-0.4563205268698117,1.207030884299442,0.19602002346930053,0.1268558238345863,0.40678443800983316,0.8869481691321383,0.41943545847054,-0.05550328222637875,-0.7424061031971735,2.5897894035733335,1.8378964265524316,0.3315921659298915,-0.8967267407135617,0.04202656751655154,0.5397688717398242,-0.8565528105358292,0.395323168689631,-0.21519762906071657,0.21684066842814514,0.290634982917993,-0.8124527015944288,0.6074260532632316,0.35387025603585504,1.4403014245812014,-0.029695597070248967,0.395323168689631,-0.9270455656107741,0.38707422744879305,-0.33356795294816655,1.3387561647390651,-0.2719685876484995,0.6745280175877363,0.6984122717333819,1.3656445405144872,-0.8967267407135617,0.692919587301382,0.4834936427939188,0.12301887640645652,0.27625882330355245,-1.025913885386773,-1.0264591879928382,0.34080282267597084,0.9941546614845125,-0.6187215575487991,0.06874639521373545,-1.3016585413845754,0.11621746571990099,0.2114372153316834,0.3274478661237975,-0.4532965760543602,0.1683483948597124,-0.3683880029936245,-0.41841703845187705,0.49596620058355023,1.6820687709247366,0.179522140987626,0.4834936427939188,0.9263091026971918,-0.1591504357500745,1.5598317558306438,0.871421916748543,0.7660892824424643,1.362699906441736,0.9779343876022892,0.0989264158112226,0.746418730252775,0.046884718006948545,0.3529581134948009,-0.012662326575346864,0.7284435734383059,-0.8020423791150065,0.9769925012827222,-0.047065963721628225,-0.44031837403001406,0.30577456618092386,0.5071201175257881,0.4877569177140631,-0.2668328285586512,-0.42284886145025957,0.35387025603585504,0.6486509302817435,0.19662481363239112,0.0016741746677429378,0.20765975546057872,-0.38786026332656337,1.237210904896929,1.0913077566996163,0.16672240163435528,-0.5713992059351967,0.9769925012827222,-0.03158928430222023,0.9769925012827222,-0.05805133258562787,-1.3728552325509862,-0.15767316141728055,-0.02627506254129651,0.704281710693209,0.24764530837439797,-0.20197156221543133,1.1757800876755002,-1.539301417107692,-3.1006713263499575,-1.3841082954215997,-0.7086469145853324,-2.397796096317878,-2.397796096317878,-1.645318158319561,-0.6175516355939686,-1.4416426776578735,-0.6466807093506763,-0.8227837073311507,-1.490600937089671,-1.373450108121239,-0.4811764111135373,-0.4811764111135373,-0.5628726560949081,-0.5226987259171756,-1.165432035796707,-2.027714089470835,-0.7173023541325091,-1.4751341722631008,-0.778495221125837,-0.16837100708899172,-2.704018210698294,-0.7482557129713248,-0.6164511157890012,-0.7482557129713248,-2.5286687217734727,-0.590355907440583,-1.0685962075524047,-1.2597892158316228,-2.90022800295331],\"type\":\"box\"},{\"name\":\"MATS2v\",\"y\":[-0.21671536387847593,-1.4459994137624734,0.8755738466154641,0.9391785934751338,-0.9873113354475489,-1.0166673724597042,-0.8576555053105303,-1.3016655651193771,-0.9542857938088745,-0.9249297567967193,0.639502382309383,-0.18613615865748095,-1.4888103010718663,0.22484835951269136,-0.9530626256000346,-0.9848649990298695,-0.8221836272541762,3.318240759668542,0.24686538727180776,-0.2962212974530628,1.1140916473392248,-0.054033992102782695,-0.428323464007761,-1.1426536979702033,0.1930459860828566,2.8852392137392533,-0.9334919342585978,-0.6827424514464391,-1.024006381712743,-1.0570319233514176,0.8988140425834203,0.6749742603657373,0.16002044444418206,0.5599964487347961,0.208947172797774,-1.3554849663083284,0.20283133175357498,-1.0166673724597042,0.6064768406707086,-1.0925038014077717,-1.0166673724597042,0.7936215766231977,0.9893284900375655,-0.8185141226276568,-1.2869875466132996,-0.7108753202497545,0.35328102144087026,0.7520338575226445,1.0040065085436432,-0.49437454728511016,0.08296084728727475,0.9367322570574541,-0.007553600166870354,0.403430918003302,0.5110697203812042,0.4939453654574471,0.17469846295025962,-0.2069300182077575,-1.3982958536177212,1.2119451040464089,-1.4643469368950703,1.3660642983602236,-1.2050352766210333,0.5991378314176697,0.08907668833147372,2.0412531496397923,1.3232534110508305,-0.8821188694873263,0.1062010432552309,-1.7481219613459036,-1.8019413625348548,-1.7077574104541902,0.08663035191379413,0.9367322570574541,-0.28521278357350466,-0.011223104793389749,-1.661277018518278,2.4277743036331687,0.20527766817125462,-0.8955737197845641,0.1233253981789881,0.48171368336904913,1.604582099083984,-1.2099279494563924,0.062166987736998164,0.7691582124464017,1.2890047012033161,-0.3610492125215721,-0.5702109762331776,0.5379794209756799,0.4878295244132481,-0.18858249507516053,-0.8221836272541762,-0.5163915750442266,-0.5555329577271001,-1.1402073615525237,0.9245005749690561,0.4927221972486073,-0.8576555053105303,1.2266231225524864,-0.29744446566190264,-0.2619725876055485,1.247416982102763,-0.9860881672387091,-0.7524630393503077,0.19059964966517703,-1.3787251622762844,-1.558530888975735,-1.5487455433050166,1.1544561982309383,-0.8588786735193701,0.366735871738108,0.09029985654031353,-0.2962212974530628,0.4107699272563407,-0.0014377591226713558,0.3080237977137977,-0.9946503447005878,0.021802436845284812,0.2774445924928027,-0.10173755224753485,-0.6374852277193667,-0.647270573390085,0.037703623560202196,-1.024006381712743,-1.0558087551425777,0.0364804553513624,0.3178091433845161,0.25053489189832717,-0.3586028761038925,-0.9567321302265539,0.5820134764939126,1.455355577605529,0.9685346304872889,0.22117885488617195,0.35083468502319065,-0.16289596268952478,-0.8772261966519671,-1.0166673724597042,0.22117885488617195,0.09763886579335232,-0.16778863552488396,-0.428323464007761,-0.4674648466906346,0.2566507329425261,1.896919300996696,-0.44055514609615903,0.35939686248506925,-0.0589266649381419,0.3190323115933558,-0.6130218635425706,1.4920506238707227,-0.02712429150830713,-0.021008450464108142,-0.06626567419118069,-0.024677955090627535,1.0382552183911575,3.5506427193481036,0.7654887078198823,1.8822412824906183,0.12577173459666768,-0.7646947214387056,2.3152428284199074,1.6681868459436537,0.2811140971193221,1.5752260620718288,-1.4398835727182744,-0.5286232571326245,-0.8221836272541762,0.579567140076233,1.3428241023922673],\"type\":\"box\"},{\"name\":\"ATSC8s\",\"y\":[0.18642089629651534,-0.3407038006483283,0.8523063976779502,-0.10971638697596515,-0.1869739311317654,0.026831830601728234,-0.7213918467152617,0.6215186159026305,0.12293462583842646,0.16746584767224343,-0.3302331076484014,-0.03418565872959048,0.16097781101833256,0.4258494120155308,0.6834843567449054,-0.08963674533168202,-1.7581102328462535,-3.4779689706597994,-0.1838230743567635,-1.4183999608457645,-0.0002715266201989318,0.017159665189974947,1.0540477384334537,1.5019651530280398,0.7390984760629157,-0.3677738858874149,-0.7307512554883137,3.319806553108776,0.21785959288256856,0.7496024410456832,0.06506133888554151,0.16860707668367494,-0.09543937913907719,-0.2834161005934374,-1.4124941838915634,-1.108335025556222,-2.06244573269065,-0.7500789503204,0.3456273341886359,0.6521022225296811,-0.22733284631737502,-1.9173199979366582,0.1784655651993354,-0.22342338833360822,-1.3246594763907467,0.32336837766829557,0.38277550303013075,0.7132461453957939,-0.014189197042408773,0.8850260656033655,1.8828461765954485,-0.16566655332066524,0.2610832257907512,0.40197343712913874,-1.4400600216749744,0.8016830757860252,0.11813015151624837,0.06468536547944308,-0.3412594427617658,-0.2641848945115888,-0.8727361150621559,-0.5051805206223949,-1.123320726627614,0.548929130939362,-0.6449428117424874,-1.1845578110456803,-1.0141154245483,-0.7154328345885159,0.13096980969442376,0.43041765525954084,1.0746464230100496,0.12729325559054094,-0.26745220322653257,-0.13487998759828715,0.20051490822778018,1.2353168281471552,0.6560216621083,-3.810771979022586,-0.12205696541153206,2.395374454668135,0.8115881450776625,-0.5487701453418239,0.3894565171845169,1.004505755983847,-3.140657608622115,0.5756964411345994,-0.16584622202800436,0.16978490487623107,-0.43297699066007717,0.5792199441174156,0.1070539084286231,-0.642464049020865,-0.8159042411721806,0.006379542749630738,-0.8827775994834395,1.7590344740491248,0.05232482385417185,-0.4144478234161645,-1.1941301605089119,0.15164834702983712,-0.8085378241712788,-0.2145564049065967,0.006066786110929383,0.7819461355649999,0.08051284771670154,0.3916557952502785,1.2509446784873703,0.45012132349772555,1.1299976936636196,-0.2493988253372401,-0.8915614029533497,-0.04252694482772099,-0.9700100840948421,0.09314289240298136,0.12766922899663938,-0.1638465758592862,0.46407559310106006,-1.0409492787092185,-0.1916686079105696,-0.023322356332144835,-0.4741976502012575,0.8702666140152893,-0.26421483929614525,1.0869836742473324,-0.37276468331350016,-0.07755568836227159,0.2931241452662187,2.441968539438067,-1.0717325172333123,-0.3570436714213315,0.01059510297553076,-0.2684836346945903,-1.6760415599717071,0.04654215323648104,-0.4139054900958633,0.39856638608626455,0.4549124890267674,0.4321511255655344,2.546242933660409,-1.1640822328055946,0.3759813641340866,-0.49323255158434687,1.4540202257547805,-0.11512973858412569,0.08366703168998744,0.709622826464456,1.5328881338800644,0.6145148635146908,1.0956942793549933,3.288600760402607,-0.7069983869384316,0.09619726042774557,-0.27285557323984094,-1.0547837691743267,0.3563309310684468,-0.8655959475445699,-0.8580897882157377,1.8501098726786132,0.2517903609833804,-0.8876652537627191,0.4764361347263312,0.3613416916842364,-0.22048214505050198,-0.7727704426176676,-0.13111027194245076,-1.1158278760919178,0.10372671014456623,-0.033699887780118155,0.4748357523516999,-0.8760366957599404,2.1729146501978094],\"type\":\"box\"},{\"name\":\"VE3_Dt\",\"y\":[-2.618030568953318,0.3127214645038345,-2.4637504124305853,0.21108629209809807,0.5871224477836142,-2.287609450042457,-2.365902090112574,0.5257385788487907,0.4911811443302933,-1.7798569384338385,-1.97196481437134,0.4848367139525506,0.29616419073565753,0.48301514196163464,0.5744316450537249,0.35684700691065085,0.4692446014631427,-1.985978101670327,0.5425172376990193,0.27741054391659997,0.41119316060551736,0.26754337197007083,0.22104279486720943,0.49506315116381266,0.5584530796579285,0.5266260611514012,0.09373277886669618,0.4405461037213976,0.5750938583254758,-2.0832632514111893,0.5057129387951383,-2.1714716127879345,0.5816577318108661,0.4598066058598891,0.48845267029272726,0.4339686364151794,0.5269348350816311,0.5251501606043903,0.4959622853128469,0.4379205543272414,-2.3393999654217095,0.5500016070518875,0.5694038733218681,-1.8957306671694218,0.5121913654067544,0.44959182049505086,0.4930260200140569,0.44688082422712044,-2.350684778683131,0.5043069493266701,0.48148292415690885,0.5294904733972446,-1.843914906122917,0.47718145085213387,0.5027824994195602,0.47656778694048196,0.4606474807768045,0.5026523871344947,0.5266066414073616,0.5125059652601961,0.43176643744108695,0.4503239448453444,0.4873302090872374,0.28033515736896625,0.47656778694048196,0.2852444686621812,0.46277588472354647,-2.0973911152000104,-1.7834146355418963,-1.9927769540585967,-1.9985077205246873,-2.0680090424680704,0.5855999398509082,0.5297254523001239,0.4887400825045135,0.37277508097194423,0.587334122993646,0.3186095308966461,0.43002060245192547,0.49366881354176817,0.5090550767443562,0.4670152148473947,0.49371153697865533,0.4107853459806854,0.5360757086010784,0.46307106483294863,0.3578704274215387,0.4457991444841138,0.29620885614694864,-2.630022260897781,0.3441134807438744,-2.008866211995419,-2.2485466349067686,-2.082309741978844,0.5198660482512107,0.37277508097194423,0.3918743992349069,-1.8864888109809683,-2.348402958758476,0.4024756375061336,-1.7798569384338385,0.5018503517056585,0.4034524506313263,-1.7567823985659665,0.26571014813273114,-1.7147075811297334,0.26700350308576953,-2.261520965899636,0.5283349986268874,0.508915254587271,0.464416853094894,0.49263762513326453,0.5307178012205483,0.4582180707974484,0.35325823821212976,0.4567149826087822,0.4630943685257961,-2.1011818492365433,0.4786068600646417,0.4996869922196453,0.5410005556895252,0.5038467013929312,0.39962481908111785,-1.8023391761085026,0.5778864175183727,0.5636633969837576,0.49520879924410977,0.5079112538204229,0.464416853094894,0.5182211959310552,0.464416853094894,0.5701359976721617,0.5061712447544732,0.5463273914795921,0.5190562449247588,0.4918919069621433,0.46219717635116586,0.30503124586414637,-2.365902090112574,0.44151126500016646,0.5554663230246355,0.5346231117469152,0.5369767847245167,0.5164889547627214,0.5164889547627214,0.4983819854201831,0.3752316785929557,0.46929315082324174,0.4789777771757984,0.4694854062892339,0.4829588247039197,0.5464206062509822,0.49651574801797593,0.4936746394649801,0.49198900568234133,0.4816984833157486,0.32258863645036356,0.5307042073997206,0.26370020462463084,0.428573831520974,0.4554954226830942,0.36114071231781003,0.49222981050843256,0.5437581593431507,0.550731789427777,0.5437581593431507,0.5697883842538526,0.5496132121710952,0.5646771076226256,0.49027812623245115,0.5777252336428438],\"type\":\"box\"},{\"name\":\"CrippenMR\",\"y\":[-5.428741920935188,0.9638370306984306,1.0084885635847551,1.1521471119415017,0.9241711154265345,0.7096893259320034,0.8956049742924925,0.023177576253342057,-0.8811830181516341,-0.3994788066620717,-0.37663703065196547,0.27780416759628657,-0.30042353130409205,-0.42116605766987797,0.07377621220616795,0.4732344384033713,0.6911760906057561,-0.02254309875729601,0.9091919887889965,1.2614854556479265,1.274055300206714,0.1352407474571548,-0.4316718639608908,-0.2989274747898595,0.1107507106720631,0.6377561073804325,0.24207700160875922,-0.08591946801530366,0.6075862530599175,0.17157301818865112,-0.9251663372102606,1.167753617117267,0.7695724217907735,1.007586474917364,0.6649858208590806,-0.3108291055209502,0.486769480713276,0.8627696892592756,-0.12413758666052371,-0.8312451714284194,0.7096893259320034,0.6491974130302204,-0.06619602320111746,-0.21342580323699903,-0.16059978785851672,0.9963196473225853,0.6013310291728662,-0.21288751987579882,1.0149479639191576,1.0483289569116605,-0.16880396874301762,-0.2742147000622032,0.09968805952463668,0.5912335757765579,-0.39131174876799857,0.3613680190488261,0.6312150364670887,1.1611345879240247,0.3222589486333435,-0.6243216227849474,0.20628672653750496,0.5430479342015263,0.3788603721383141,0.646788130951469,0.5483565218326738,-0.06439555816537793,0.6587974183547991,0.2623201682889323,-0.26714277038574386,0.17879715212586342,0.41383765371920317,0.9969136151694277,0.8861571732286667,-0.2742147000622032,1.0174426288758933,0.5413031536514289,0.03979753906778082,0.26680833783162994,-0.27858036373648887,-0.4807261835119277,0.8013311401015889,1.1789833217216168,0.027001244267385715,-0.0381681654282757,-0.9609157769920442,0.7921320630736289,0.5612270626139245,0.20079994855230532,-0.3252773733953737,0.8437070336747006,-0.21817012141364725,-0.39217300214591805,0.009200770357348955,-5.428741920935188,0.40575597870311325,0.34718703670548073,0.9006722624858611,-0.3203585771637163,0.8956049742924925,1.1026584534024613,0.0865428086142221,0.7758833301634659,0.5266655585258236,-0.24418220080627068,0.21629137245774435,-0.5186881535231972,-0.14505639176647941,0.5559258995808627,0.3558998025588398,-0.2759334945190014,0.4882989479188935,0.676746384226546,-0.5808988608817784,0.4214627159530332,0.6779900044058709,0.4591870988255655,0.3119016343040418,0.02849730078161828,0.5499156874306333,0.8484216534590068,0.05751263009983442,-0.7100497445794164,-0.08484290129290324,-0.4805145824664907,0.6075862530599175,0.3718738253398379,0.8128949516197878,0.25908304352364525,0.4890042847370182,0.7917162855808396,0.2948881677910711,0.25618002567220616,-0.6189870490605007,0.5158182207228771,0.2604491695713811,0.7487909717493991,-0.0011936669623805497,0.020827690959274718,0.7096893259320034,-1.272908525442767,-2.907879269855356,-0.6283346180501718,-0.03567721277058299,-2.8800258901375235,-2.852391536063214,0.1583683704935525,-0.606662216238536,-0.5569471074578869,-0.44913080635899283,-0.8611774386101971,-0.6101629142358593,-0.8023337864834003,-0.06003360679013512,0.19474890111260526,-0.11628607418508517,0.3377466602397407,-0.22664158782922733,-0.8967189896455867,-1.047063388578345,-0.5842881899078184,-0.614105375819271,-0.11290045745808702,-2.880768349946076,-0.133024830568892,-0.5714844705093375,-0.3205701782091533,-2.756603083862865,-0.7854836611283106,-0.4628106283315658,-0.0805292098052158,-3.4355714418866357],\"type\":\"box\"},{\"name\":\"SpMax7_Bhe\",\"y\":[0.9407743268107706,0.732877545457394,0.25962507333136803,0.28208628337708325,0.985174393180211,0.11597779978317943,0.7448916810632422,0.040758863816130086,-0.8138118253650855,-0.7281458149581668,-0.9449226095854313,0.1750037703684361,-1.3450455606323815,-0.4956984086710994,-0.5500231957584147,0.11597779978317943,0.7041480907477563,-0.0025964951093237505,0.5176678119961107,0.6445997664405075,0.8107082500344113,-0.3671993930607214,-0.18594265152900927,-0.6482256954931761,1.1345675576703254,0.29148865037296584,0.639376229220574,0.9251037151509677,0.9177907630430608,-0.1948226648028974,-1.1904288589223313,0.22514972767980232,0.8916730769433909,0.7673528911089598,0.7522046331711492,-0.6743433815928459,0.6001997000710693,0.7161622263536045,-0.767844697829666,-1.0650639656439134,0.03240120426423417,0.29932395620286495,-0.43823949925182626,-0.6732986741488592,0.24970035261349324,0.5192348731620896,0.1849284910863109,-0.3442158292930117,1.2714242328325969,0.3290981183564894,0.44349358347304574,0.15149785287873185,1.049423900985399,0.3975264559376263,-0.6586727699330431,0.3975264559376263,0.6884774790879535,0.7673528911089598,0.5019972003363079,-0.43823949925182626,0.3447687300162922,0.7673528911089598,-0.0913966278482025,0.7720540746068988,0.3975264559376263,-0.13945317027159534,0.3975264559376263,0.3191733976386146,0.7266093007934739,0.9841296857362221,0.6524350722704089,1.2385159483470125,0.9439084491427306,0.056429475475930586,0.7511599257271625,0.3118604455307077,-0.7422493654519884,-0.29981576292357115,0.07366714830171461,0.13634959494092355,0.7255645933494872,0.8107082500344113,-0.32488874157925657,0.027700020766295182,-0.9929791520088241,0.3593946342321083,0.4962513093943799,0.4931171870624198,-0.2339991939524021,0.3761099533358978,-0.5980797381818076,-0.3348134622971314,-0.2444462683922714,0.8765248190055803,0.3442463762943,0.1922414431942178,0.7396681438433088,-0.32750051018922216,0.5636349395315301,0.7673528911089598,0.7584728778350717,0.6900445402539347,0.13060370399899554,-0.10341076345405072,0.29984630992485944,-0.14206493888156324,-0.00416355627530264,0.49938543172634,0.5218466417720575,-0.17706263825512117,0.677508050926092,0.29827924875887823,0.1812720150323563,-0.10758959322999752,0.3484252060702468,0.3975264559376263,-0.3661546856167347,0.7255645933494872,0.3975264559376263,0.522368995494052,-0.43249360830989825,-0.4721924911813975,-0.24340156094828472,-0.12273785116780814,0.9167460555990741,0.789814101154675,0.6874327716439668,0.4847595275105262,0.7172069337975913,1.0431556563214788,0.6822092344240334,0.3792440756678579,0.025088252156327272,0.2053002862440527,0.33118753324446276,0.7569058166690905,-0.33167933996516896,-0.3671993930607214,0.25544624355541895,0.06322007386184529,-4.318805299940848,-0.42047947270405006,0.45968654885484306,-4.46454198837701,-3.9395764977736345,-0.49047487145116586,-0.27996632148782385,-0.14258729260355776,0.5672914155854848,0.2434321079495707,-0.029758888652980264,-0.42465830247999686,-0.10863430067398422,0.3364110704643986,-0.015655338159158656,0.4440159371950403,-0.4826395656212645,-1.0368568646562701,-0.9156708011537991,0.0485941696460315,-0.29406987198164547,-0.7824706020454798,-4.068597867106007,-0.39436178660437793,-0.7239669851822199,-0.39436178660437793,-4.146950925405019,-1.1324475957810636,0.13582724121892906,-0.06214481941657259,-5.0861429175491635],\"type\":\"box\"},{\"name\":\"SpMin1_Bhs\",\"y\":[3.340820030240396,0.8670089402958315,-0.27427238081814864,-0.28296549207799576,1.5463134916008887,-0.3140123180060142,0.2721517555149878,1.0930298330518131,1.7052732403523456,-0.14387571192046902,-1.9284472662630054,0.7179841758413398,0.4845120448626398,-0.9150788679724637,0.22123496099303386,-0.5760475288384941,-0.6530436571399811,3.7953455618265948,-1.008219345756519,2.195813090015051,-0.15132695014319278,-1.0144287109421248,2.2715673452794176,0.6894210959875625,-0.10910326688108596,1.1538816118707267,-1.2267890002897741,2.799363386055742,1.6121327625682904,-0.4295065104582463,-0.4332321295696054,0.6409880475398554,1.6121327625682904,0.03371213238779991,-0.41584590704991664,-0.06563771058186127,-0.7635703574437307,-1.1560022371738903,0.6521649048739382,0.17652753165668578,-0.31649606408025543,-0.4605533363862647,2.2045062012748926,0.2609748981808994,-0.07433082184170842,-0.5723219097271321,-0.41584590704991664,-0.8281477553740089,1.255715200914629,1.5773603175289073,0.3503897568535956,0.3491478838164722,-1.1547603641367696,-0.007269677837183535,-0.5238888612794222,0.088354546021113,0.8136083996996418,-0.034590884653842836,-1.105085442651939,-0.5984012435066681,-0.07557269487882629,0.19267188113925668,1.8542980048068374,-1.2640451914033985,0.0399214975734058,0.43980461552629174,0.1156757528377723,0.20136499239910383,0.3764690906331315,0.026260894165076147,-0.31152857193177297,0.5018982673823286,1.5798440636031486,0.3454222647051131,-0.7039604516619324,-0.6443505458801367,0.5776525226466951,-1.0479592829443847,-0.1997599985909055,-0.7797147069262989,0.11195013372640766,-0.024655900356877824,0.488237663973999,-1.5347735134957254,-0.7697797226293339,0.32182667699981843,-0.5412750837991137,1.4655917441880397,0.8098827805882771,-0.8293896284111295,-0.12152199725229774,-1.1038435696148183,-0.25316053918709525,1.8108324485076126,0.5726850304982126,-0.8194546441141645,-0.07184707576746716,-0.8244221362626469,0.1814950238051738,-0.09544266347276183,0.1268526101718552,0.33672915344526594,1.563699714120583,0.5639919192383654,1.0470805306783417,-0.15505256925455743,-0.753635373146763,-1.4503261469715119,0.02129340201659364,-0.5959174974324268,-0.6753973718081552,0.8781857976299199,0.19639750025062133,0.47209331449142805,-0.6008849895809093,0.24234680262408728,0.5925549990921426,1.0992391982374135,0.10449889550368391,-0.051977107173531614,0.40130655137554405,0.3118916927028534,-0.2668211425954249,0.42738588515507997,1.6121327625682904,1.6767101604985684,0.06103333920445921,-0.42702276438400505,-0.5114701309082131,0.6248436980572845,-0.6753973718081552,0.17776940469380917,0.5913131260550247,0.8955720201496087,0.10698264157792516,0.44228836160053303,0.37771096367024937,-1.0554105211671083,-0.3686547316393273,-2.123421333090966,-1.6390908486138691,0.042405243647647056,-1.5409828786813287,0.2758773746263469,0.2758773746263469,-1.7843899939569963,0.5503313158300358,-0.8355989935967354,0.0399214975734058,0.44228836160053303,-1.9185122819660405,-0.15505256925455743,-1.3522181770389712,-1.3447669388162475,-1.1361322685799602,-1.5298060213472402,-1.1945003013246351,-0.1177963781409331,-0.30656107978329045,-0.2879329842264783,-1.7359569455092891,0.0051490525340227335,-0.753635373146763,-0.9039020106383754,-1.4267305592662172,-0.9088695027868606,0.35908286811344275,0.3503897568535956,-1.4615030043056003,-1.5608528472752614,-0.5127120039453366],\"type\":\"box\"},{\"name\":\"C1SP2\",\"y\":[0.7991209868160812,-0.4900270202174081,3.3774170008830597,2.0882689938495704,-0.4900270202174081,-0.4900270202174081,0.7991209868160812,-1.1346010237341528,0.15454698329933655,0.7991209868160812,2.0882689938495704,2.0882689938495704,-1.1346010237341528,0.15454698329933655,0.7991209868160812,-1.1346010237341528,-0.4900270202174081,-1.7791750272508975,0.15454698329933655,0.15454698329933655,0.7991209868160812,0.15454698329933655,-0.4900270202174081,0.7991209868160812,0.15454698329933655,-0.4900270202174081,2.0882689938495704,1.443694990332826,-0.4900270202174081,-1.7791750272508975,-0.4900270202174081,-0.4900270202174081,0.15454698329933655,0.7991209868160812,-0.4900270202174081,1.443694990332826,-0.4900270202174081,0.15454698329933655,0.15454698329933655,0.7991209868160812,-0.4900270202174081,-1.7791750272508975,-1.1346010237341528,0.7991209868160812,-0.4900270202174081,0.7991209868160812,0.7991209868160812,0.15454698329933655,-1.7791750272508975,-1.1346010237341528,-0.4900270202174081,-1.1346010237341528,2.0882689938495704,0.7991209868160812,0.15454698329933655,0.7991209868160812,0.15454698329933655,0.15454698329933655,0.15454698329933655,-1.1346010237341528,0.15454698329933655,0.7991209868160812,0.15454698329933655,0.7991209868160812,0.7991209868160812,0.15454698329933655,0.7991209868160812,0.7991209868160812,-1.7791750272508975,2.0882689938495704,0.7991209868160812,0.15454698329933655,-0.4900270202174081,-1.1346010237341528,1.443694990332826,0.15454698329933655,-0.4900270202174081,1.443694990332826,-0.4900270202174081,-1.1346010237341528,0.7991209868160812,0.7991209868160812,-0.4900270202174081,2.0882689938495704,0.15454698329933655,-0.4900270202174081,0.15454698329933655,-0.4900270202174081,-1.7791750272508975,0.7991209868160812,-1.1346010237341528,-1.7791750272508975,0.7991209868160812,0.7991209868160812,0.7991209868160812,0.15454698329933655,0.15454698329933655,-1.7791750272508975,0.7991209868160812,0.7991209868160812,-0.4900270202174081,-0.4900270202174081,0.7991209868160812,0.7991209868160812,0.15454698329933655,-1.7791750272508975,0.15454698329933655,0.7991209868160812,0.15454698329933655,0.15454698329933655,-0.4900270202174081,-0.4900270202174081,-1.1346010237341528,0.7991209868160812,0.15454698329933655,0.7991209868160812,0.15454698329933655,-0.4900270202174081,0.7991209868160812,0.7991209868160812,-0.4900270202174081,-0.4900270202174081,-0.4900270202174081,-1.7791750272508975,-0.4900270202174081,-0.4900270202174081,0.7991209868160812,0.15454698329933655,-0.4900270202174081,0.7991209868160812,-0.4900270202174081,0.15454698329933655,0.15454698329933655,-1.1346010237341528,0.7991209868160812,0.15454698329933655,-0.4900270202174081,0.15454698329933655,-0.4900270202174081,-1.7791750272508975,0.15454698329933655,-0.4900270202174081,0.15454698329933655,-1.7791750272508975,-1.7791750272508975,1.443694990332826,0.15454698329933655,0.15454698329933655,0.7991209868160812,-0.4900270202174081,2.0882689938495704,-0.4900270202174081,-0.4900270202174081,-0.4900270202174081,0.7991209868160812,-0.4900270202174081,0.15454698329933655,0.15454698329933655,-1.7791750272508975,2.0882689938495704,0.15454698329933655,-1.7791750272508975,-1.7791750272508975,-1.1346010237341528,-1.1346010237341528,-1.1346010237341528,-1.1346010237341528,0.15454698329933655,-0.4900270202174081,0.7991209868160812,-1.1346010237341528],\"type\":\"box\"},{\"name\":\"GATS8e\",\"y\":[-0.1475509298210482,1.3744877895845877,-0.8589051508311609,-0.20864344555809206,-0.7773752107648183,-0.40928181558658533,0.05220841120403446,-1.4010462886847133,1.384376865872958,0.25284678123252824,0.024738754847450025,-0.09964384913516469,-0.31588498397419795,-1.0384468247777974,-0.5881642177806639,0.20559897229920268,0.2407601324356309,1.0459506995598369,-0.9870236280782713,2.458989822542545,0.005839631274119998,0.04693423718357032,-0.8077017113824875,-1.3988487161761867,-1.2658955794103175,-0.3960963805354248,0.18582081972246203,-0.4989427739344774,-0.9516427106909904,-0.43543292843805387,0.10868602467317239,-0.42158822163433535,-0.8483568027902327,0.680494391391836,0.1746131999289753,-0.18798626397794058,1.1822001950884957,0.6154462451394441,0.16164752212866737,-0.23589334466382386,-0.2714940193019574,-0.10469826590477618,0.3086651229491077,-0.45696913902161623,0.8809130041694766,-0.3712638111890724,-0.8158327296640365,-0.8244032624472909,-1.1713999615436665,1.0571583193533232,-0.07503103703966474,-0.4121386598476703,-0.6184907183983333,-0.40642497132550065,1.0035375501452701,-0.3165442557267562,-0.5477288836237715,-0.35302395936830033,-0.8145141861589204,-0.5864061597738425,0.7831210275400357,0.05616404171938268,0.48403140912954357,-0.8035263236162865,-0.14974850232957473,1.6610512446964778,1.9262982464756575,0.4750213618445838,-0.17941573119468618,-1.263478249650938,-0.8747276728925538,-0.848796317291938,-0.7540809421744344,-0.5266321875419144,-0.2925907153838144,-0.8564878210717816,-1.6889282873017193,0.9237656680857487,0.7040084172330726,-0.4932290854123077,-0.8639595676007727,0.8314676227276245,-0.5108096654805219,-0.7518833696659077,1.522164662157586,0.3181146847357727,0.45766053902722237,2.7752205065195463,0.34932021435685323,-0.8940663109675892,0.45370490851187417,-0.20864344555809206,0.27548177807035384,-0.8982416987337901,0.773451708502518,-0.6894723104237477,0.010234776291173527,1.178244564573148,0.8846488774339721,0.040561276908842925,1.1604442272540811,0.6361034267195954,-0.6688151288435962,0.6055571688510734,-0.11480709944399915,-0.3279716327710953,-1.0553681330934537,0.26998784679903703,-0.37302186919589386,0.22120173710974292,0.36712055167592,-0.5508054851357089,0.3723947256963841,-0.2681976605391674,0.009355747287762919,0.4068966140802539,0.32778400377329087,-1.0977812825080202,0.4062373423276959,-0.06843831951408469,0.5189728120151191,-0.5174023830061021,1.1953856301396564,-0.2789657658309485,-0.7575970581880774,-0.9457092649179683,-0.38247143098255887,-1.4841145295070248,0.7998225786048392,0.3159171122272462,0.030672200620472607,-0.1598573358687977,1.927616789980774,-0.26973596129513594,0.23702425917113532,-0.20161121353080647,-0.4226870078885986,-0.5092713647245533,-0.8459394730308533,-0.14799044432275352,-0.8978021842320848,0.42052156363312027,-0.41609429036301854,4.713479459040151,0.14956087333177007,-0.3734613836975992,-0.5598155324206686,-0.8483568027902327,-0.03635376088959408,-0.8681349553669736,-0.029101771611455583,-0.1862282059711189,-0.04052914865579446,0.09835743388309676,-0.3752194417044206,-0.24182679043684618,0.6591779380591263,-1.177992679069247,-0.21237931882258765,-0.14974850232957473,0.42931185366722735,0.31701589848150946,7.053894180621153,0.3862394325001027,0.1434076703078953,0.32338885875623735,0.006938417528383259,-0.04690210893052235,0.5161159677540341,0.4616161695425706,-1.9392317960229175],\"type\":\"box\"},{\"name\":\"GATS8s\",\"y\":[-0.14904308346008285,1.1421319532890155,-0.6999684991093177,-0.20459690222048996,-0.7803911753653583,-0.49700653309656734,-0.10632480405226111,-0.9697153808159873,1.1852513433016059,0.08761217335320307,-0.38910778041389965,-0.07303262385649384,-0.304072332203024,-0.7354667876313108,-0.9520665142061828,0.989108257569916,0.36598293306239055,0.9463899781620938,-0.7962350442537054,1.5929802730485638,0.23542143121031503,0.7025147304629787,-0.81970001463265,-1.2741583298351131,-1.262526122296833,-0.6167380486198993,-0.2601507209808971,-0.5056304110990854,-0.8981171378648488,-0.909749345403129,0.15921041630434146,-0.6149330508984421,-0.6406041296036121,0.784140738533324,0.3689912625981528,-0.15947195918405835,1.1331069646817293,0.44399894568982123,0.17806261472845042,0.06113887343849673,-0.39572610539257624,-0.03432545049635447,0.10626381647492833,-0.4392466060099349,0.8974544843803635,-0.7872100556464192,-0.8848804879074956,-0.912356564334123,0.30942633779006284,1.0097654537154825,-0.26315905051665933,-0.2328751998566538,-0.6724924226826906,0.46826613727830224,0.857744534508304,-0.06420819055159127,-0.7491045481934324,-0.7332606793050852,-0.5892619721932721,-0.547947579902139,0.6323203746285296,-0.09469259651398088,0.4313639616396204,-1.2506933594561684,0.29278024769217925,1.5885680563961126,2.211091714996486,-0.019885468724696587,-0.24651296041877568,-1.0094253306880472,-1.3022360721688928,-0.4506782582458308,-0.6343869152297038,-0.34478505858700453,-0.8393544342662956,-1.14179183026158,-1.26433112001829,0.803995713469354,0.6363314806762125,-0.5274909390589567,-1.1809001142264874,0.8362851171532006,-0.7507089906125055,-0.5714125502810836,1.3228322807371264,0.31905299230450146,0.13875377546115913,2.8261948274086457,-0.267370711866726,-0.7946306018346322,0.1309321186681776,-0.18594525909876514,0.004983388770937252,-0.6911440658044157,1.68142516139997,-0.8684349531119961,0.4837088955618812,0.8114162596575673,0.6359303700714442,0.2713208303370758,1.3809933184285272,0.7524530007566297,-0.8207027911445706,1.0761492588046333,-0.10411869572603535,-0.33856784421309616,-0.8644238470643133,-0.28161013833600024,-0.5629892275809497,0.10405770814870259,0.639941476119127,-0.3225234200223649,0.470472245604528,-0.3818877895280705,-0.29584956480527425,0.3760106981815974,0.7011108433462899,-0.7858061685297302,0.7217680394918563,0.8019901604455127,0.7143474933036431,0.24143809028183905,0.6036409663875976,-0.32753730258196834,-0.5788330964692969,-0.48758043388451267,-0.7547200966601884,-1.262526122296833,0.681456423712644,0.7614779893639163,0.04429222803822853,0.02022559175213161,2.141699580371573,-0.45529103020066597,-0.33896895481786443,-0.11916034340484603,-0.4835693278368298,-0.12778422140736403,-1.026472531390699,-0.22485298776128818,-1.8048276599435495,0.0015739486304067883,-0.6668768742159346,6.199535013509894,1.903038770534446,-0.44746937340768467,-0.5990891820100951,-0.6259635925295699,-0.1448314221100159,-0.9849575837971818,-0.045355992127482335,-0.202992459801417,0.164424854166329,0.1403582178802321,-0.24952128995453746,-0.058392086782451384,1.1375191813341803,-1.26433112001829,-0.27639570047401246,-0.3445845032846204,0.13755044364685398,-0.6400024636964597,5.225437909830123,0.6884758592960891,0.14938320648751832,0.4612467016948572,-0.6746985310089161,-0.29444567768858515,-0.4442604885695383,0.2745297151752222,-1.724404983687509],\"type\":\"box\"},{\"name\":\"SpMax5_Bhv\",\"y\":[0.6505620834915246,0.9123602151979007,1.1007945710326255,1.1626010397464162,0.4852423419725257,1.2078252851467495,0.035009854431424806,0.4174059738720268,-0.5503928776951179,-0.6066719386377561,-0.7453596245321136,0.7329707084432439,0.6214175697890882,-0.6076769218688746,0.6988012785852131,0.6988012785852131,0.7314632335965674,-0.6609410331181574,0.7967871436192713,1.1736558552887186,0.7133735354364336,0.12395087038541494,-0.2946246453754524,-0.34185885723802256,-0.08408065845612014,-0.16146436725224733,0.8108569088549292,0.07420420044504761,0.4420280630344292,0.6224225530202067,-1.0870539231124141,0.5239341963705904,0.4651426773501551,0.7083486192808393,0.5666459836931266,-0.3036694944555204,0.3586144548515915,1.2123477096867834,-0.5252682969171553,-0.9724858347649009,1.207322793531189,0.4586102863478865,-0.2172409365793252,-0.5202433807615632,-0.34587879016249845,1.2344573407713908,0.5671484753086868,-0.4132126666474392,1.3384731051921572,1.1736558552887186,0.028477463429153964,0.34705714769372853,-0.31572929322894144,0.5299640957573009,0.01290022334681735,0.5430288777618426,1.3646026692012407,0.5596111010752977,0.7440255239855488,-0.7297823844497769,-0.3051769693021969,0.5123768892127275,0.5601135926908579,0.4470529791900213,0.5274516376795038,0.2530912155841463,0.5455413358396375,-0.4247699738053022,-0.45944189527889095,0.3887639517851485,1.1736558552887186,1.6912222193147626,0.4591127779634446,0.3686642871627779,1.3706325685879512,1.1309440679661824,0.6184026200957308,0.20183707079710023,-0.5534078273884732,0.2234442102661496,0.5108694143660487,0.7349806749054807,-0.1594544007900105,-0.5066761071414634,-0.9453512875247013,0.02897995504471429,-0.17000672471675501,-0.44738209650546995,-1.1096660458125795,1.129939084735064,-0.6081794134844348,0.5224267215239117,-0.14588712716991073,-0.061468535755954595,-0.30869441061111247,1.106321978803778,0.6505620834915246,0.5631285423842132,0.19731464625706846,0.688751446274029,-0.42326249895862345,0.5048395149793382,0.15912528347456406,-0.18407648995241513,-0.06699594352710478,-1.558391058507004,-0.3745208122493767,0.6977962953540947,-0.435824789347607,-0.059961060909275846,0.7209109096698206,0.55106874361079,-0.44135219711875723,0.8465338135596386,1.1857156540621419,0.5405164196840454,0.16314521639903776,0.7500554233722593,0.5199142634461167,0.5495612687641134,0.9003004164244797,-0.5735074920108438,0.24052892519516494,-1.1584077325218285,0.42996826426100815,0.3937888679407406,0.6249350110980015,-0.3096993938422309,0.7500554233722593,0.6691542732672164,0.7209109096698206,0.29178306998220876,-0.4704967108211958,0.9716542258338942,0.17620999840357943,0.38072408593619894,0.800807076543745,0.11942844584538094,1.2133526929179017,-1.439300545619459,-3.115110083509607,-0.7704842053100763,-0.6116968547933482,-4.56128095308917,-4.553241087240223,-0.26899757298192933,-1.00766024785405,-0.8694750535752529,-0.07302584291381753,-0.26950006459748965,-0.5197408891460028,-1.5789932147449348,-0.17503164087234713,-0.11774759669859053,-0.02629412266680546,-0.18106154025905985,0.007875307191225254,-0.7614393562300106,-1.2594085472492418,-0.4956212915991585,-0.709180228211846,-0.4549194707388592,-2.589503853634616,-0.7353097922209272,-1.054391968101062,-0.7353097922209272,-3.088980519500526,-0.8493753889528822,-0.7177225856763537,-0.6765182732004941,-4.631127287651909],\"type\":\"box\"},{\"name\":\"VE3_Dzi\",\"y\":[0.19721813701844618,0.22711736483600153,-0.036217543810479896,0.10144017805222037,0.37198283051941167,-3.2037947487617777,-3.075381793291529,0.32549844915844167,0.3780560001402793,-2.4287526642010473,0.1366451390798941,0.2920604867802092,0.4822970773028234,0.3844631467176766,-2.6907587709141016,0.20297154146816826,0.5009216220488771,0.13335274213254386,0.3070231281589224,0.3114098325808595,0.47631628428695333,0.3932412928233457,0.24579638809269497,0.4426651451279571,0.3833001489470659,0.33567882475535626,0.2123181589892071,0.4401922944710984,0.4116194999560726,-2.7430628783899196,0.37131250797545473,-0.11575616934430777,0.4239553296695978,0.5036502848426524,0.394591412434849,0.3753249687156067,0.496705459051551,0.45301843078038007,0.37280000817900577,0.24021115643668647,-2.9215629028160444,0.4865582442871997,0.5125563370167796,-2.3634803025621043,0.304976631063591,0.40198390946555407,0.4754967379964618,0.47156007344502576,-0.21517234536890043,0.20667608019166164,0.47740822313064285,0.4279962139805183,-0.026506157131245402,0.4277546136289861,0.48310714906972535,0.45219177859719645,0.4604725122144168,0.454404079855344,0.2589565013585064,0.399508690177798,0.40497549028893776,0.47606284078093425,0.43031036636725295,0.4792154885053394,0.4508203413076167,0.42315946968808005,0.43296797023410694,-2.7231521670665915,-2.346890411756895,-2.534215954906636,0.02637115902173776,0.07235339063246435,0.40810208307347184,0.3903515631285491,0.421247984553899,0.273263031978647,0.36552357406227204,-3.175101154070986,0.3730202908524616,0.4523765318071916,0.45782438287115246,0.4984298223448395,0.4457893692815938,0.17395818160623086,0.44967155532239017,-0.05008350908370885,0.2822709352813613,0.25497483282002026,-2.3309139963541057,-0.15008947420174767,0.19312277419688606,-2.5109038896146783,-2.7525374019794167,-0.273805434602503,0.3109195259851031,0.29477256915770267,0.4879036266369082,-0.1366285448119698,-3.0170589947054824,0.4819394140373198,-2.4477798761996543,0.5158653143804114,0.23038607547437803,0.22379417568698545,0.4739997632693213,-2.299155393282111,0.25780060948058775,-0.2866031473410162,0.41117656597826363,0.4799663444998071,0.48030032145633683,0.45934267527636935,0.3987317792434592,0.34624528718854286,0.31759432785390374,0.4521136137775831,0.38849218787411033,-2.7664270535616193,0.4644778670618767,0.4390150849151034,0.14996868787762432,0.3765566567822413,0.33304016993568136,-2.4477798761996543,0.40028560111213674,0.4313407208076108,0.4728486086531974,0.4409715740363345,0.4767142142777122,0.25022335923988753,0.4751982905033927,0.4942870869053319,0.4765602532693829,0.44631757397170824,0.47157428523041006,0.41033570200969577,0.49404311792290234,0.37620609940942995,-3.079815870331414,0.5665824391549892,0.4889789850643162,0.4818636178486039,0.1255030993386455,0.4210158587259563,0.4321484239436154,0.4559697448785084,0.4353981855348129,0.40734648981720945,0.27665254279278956,0.34565312946419935,0.4572180133614246,0.3807254471616201,0.4412652842676089,0.4490296563492017,0.44011176102058763,0.43636932420273633,0.4046391447015107,0.3483107333310532,0.34675691146237575,0.4253907199934066,0.42844151658922464,0.39993504373932537,0.4402751965525065,0.47442137956905395,0.4786754406607381,0.47497327056814215,0.4625426956187219,0.4613323252301637,0.43415939157548616,0.48280396431486144,0.49066308163234923],\"type\":\"box\"},{\"name\":\"VPC-4\",\"y\":[1.8832389881183964,-0.5723081173038962,0.3582137578714627,0.5598719313511141,0.44515972648375085,0.1700857418889868,0.4813970178674924,-0.16287378608500036,-3.0219725455535036,-0.131460289982861,-0.5005394557971358,-0.14934362858782385,-1.2096373621926202,-0.011806636290442096,0.6634070495903752,-0.4208880068789771,0.45221893909097344,1.568280452292826,0.6624658212427457,-3.0219725455535036,0.6062274274718743,-0.48324438490944105,0.11278846622703241,-0.6497241488964344,0.6141102148832724,1.6300485626060217,-0.5808968259760166,0.3030342459916743,0.22844189944202523,-0.10804723483557324,-0.5783084480200353,0.5244582147715486,0.3806855846711204,0.36574358465249956,1.6100474602188914,-0.47536159749804285,-0.07851619542869348,0.625522608598282,0.22008849785681173,-0.8047915191684187,0.185263048994515,0.44751279735282523,-0.12734241596198095,-0.059809282019553975,0.6251696479679206,-0.616428196099036,0.004076592075808258,0.16585021432465333,4.255369731232011,-3.0219725455535036,0.3812738523883886,-3.0219725455535036,-0.09710545529437851,1.452038751360565,-0.3345303059839572,1.5335726569739827,0.37268514371626826,-0.22734792789763078,-0.06792737651785956,0.6771725141744586,0.6219930022946707,1.8053523423520428,0.926598026296315,-0.10675304585758288,1.566986263314835,0.8909490026298422,1.8997104842019155,-0.2934692193186135,0.15502608832691256,-1.2077549054973609,-0.4301826368118196,-0.9373870626407451,0.4204524823584727,-3.0219725455535036,-0.05239710878197055,0.6772901677179125,-0.879501519261522,1.244380247164774,0.696938309474681,-0.5671313613919332,-0.08063395921085995,0.3629198996096104,0.2999752538618783,-0.4985393455584227,-0.8102035821672894,0.01995982044205861,0.1331425292445236,-0.22499485702855693,0.49163287614796497,0.6848199944989494,-0.7077273458191115,-0.21970044757313997,-0.12863660493997184,0.7876491914774885,0.445865647744473,0.3956275846897407,0.35068393109042534,0.197734324600608,0.4373945926158066,0.6091687660582169,0.016312560594993353,0.9854247980231676,0.4205701359019267,-0.20605263653251005,-0.3210001484867807,-0.10098802222835115,-0.8624417554607348,-0.5470126054613493,0.5141047029476227,-0.027925171743599837,0.4493952540480843,-3.0219725455535036,0.2698559467377293,-0.04557320326165584,0.8307103883815447,1.2893239007640898,-0.12204800650656451,0.5044571123844188,1.4034478379141844,1.4493327198611292,1.3954473969593322,-0.6321937709218324,-0.005100384313580825,0.12843638750637537,0.2479723876553403,0.03125456061361417,-0.19781688849075102,-0.3169999280093546,0.5599895848945681,0.09255205675299516,0.27820934832294275,0.1933811434928206,0.4784556792811498,0.599521175495013,-0.5565425424810998,0.2846802932128966,-0.26735013267189106,-1.0648058502011084,0.1206712536384306,-1.0384514564674785,-2.0560369537985794,-1.030686322599534,-1.2246970157546946,-1.7601382920125095,-1.7456669061677037,1.4513328300998423,-0.6976091410820928,0.22361810416042302,0.21349989942340442,0.5148106242083448,-1.2608166535949823,0.8524762939204802,-0.003100274074867786,0.11231785205321763,-0.09381115607767511,-0.032866620568655455,-0.12098912461548102,1.0583699949644656,-0.42818252657310657,1.0933130973702156,-0.7097274560578245,-0.3187647311611603,-1.1445749526627211,0.3186821672710172,-0.0636918489535261,0.15902630880433863,-2.1823968594678593,-1.067041267526729,-0.7466706687022883,-0.6070159126227395,-1.8968517095057154],\"type\":\"box\"}],                        {\"template\":{\"data\":{\"histogram2dcontour\":[{\"type\":\"histogram2dcontour\",\"colorbar\":{\"outlinewidth\":0,\"ticks\":\"\"},\"colorscale\":[[0.0,\"#0d0887\"],[0.1111111111111111,\"#46039f\"],[0.2222222222222222,\"#7201a8\"],[0.3333333333333333,\"#9c179e\"],[0.4444444444444444,\"#bd3786\"],[0.5555555555555556,\"#d8576b\"],[0.6666666666666666,\"#ed7953\"],[0.7777777777777778,\"#fb9f3a\"],[0.8888888888888888,\"#fdca26\"],[1.0,\"#f0f921\"]]}],\"choropleth\":[{\"type\":\"choropleth\",\"colorbar\":{\"outlinewidth\":0,\"ticks\":\"\"}}],\"histogram2d\":[{\"type\":\"histogram2d\",\"colorbar\":{\"outlinewidth\":0,\"ticks\":\"\"},\"colorscale\":[[0.0,\"#0d0887\"],[0.1111111111111111,\"#46039f\"],[0.2222222222222222,\"#7201a8\"],[0.3333333333333333,\"#9c179e\"],[0.4444444444444444,\"#bd3786\"],[0.5555555555555556,\"#d8576b\"],[0.6666666666666666,\"#ed7953\"],[0.7777777777777778,\"#fb9f3a\"],[0.8888888888888888,\"#fdca26\"],[1.0,\"#f0f921\"]]}],\"heatmap\":[{\"type\":\"heatmap\",\"colorbar\":{\"outlinewidth\":0,\"ticks\":\"\"},\"colorscale\":[[0.0,\"#0d0887\"],[0.1111111111111111,\"#46039f\"],[0.2222222222222222,\"#7201a8\"],[0.3333333333333333,\"#9c179e\"],[0.4444444444444444,\"#bd3786\"],[0.5555555555555556,\"#d8576b\"],[0.6666666666666666,\"#ed7953\"],[0.7777777777777778,\"#fb9f3a\"],[0.8888888888888888,\"#fdca26\"],[1.0,\"#f0f921\"]]}],\"heatmapgl\":[{\"type\":\"heatmapgl\",\"colorbar\":{\"outlinewidth\":0,\"ticks\":\"\"},\"colorscale\":[[0.0,\"#0d0887\"],[0.1111111111111111,\"#46039f\"],[0.2222222222222222,\"#7201a8\"],[0.3333333333333333,\"#9c179e\"],[0.4444444444444444,\"#bd3786\"],[0.5555555555555556,\"#d8576b\"],[0.6666666666666666,\"#ed7953\"],[0.7777777777777778,\"#fb9f3a\"],[0.8888888888888888,\"#fdca26\"],[1.0,\"#f0f921\"]]}],\"contourcarpet\":[{\"type\":\"contourcarpet\",\"colorbar\":{\"outlinewidth\":0,\"ticks\":\"\"}}],\"contour\":[{\"type\":\"contour\",\"colorbar\":{\"outlinewidth\":0,\"ticks\":\"\"},\"colorscale\":[[0.0,\"#0d0887\"],[0.1111111111111111,\"#46039f\"],[0.2222222222222222,\"#7201a8\"],[0.3333333333333333,\"#9c179e\"],[0.4444444444444444,\"#bd3786\"],[0.5555555555555556,\"#d8576b\"],[0.6666666666666666,\"#ed7953\"],[0.7777777777777778,\"#fb9f3a\"],[0.8888888888888888,\"#fdca26\"],[1.0,\"#f0f921\"]]}],\"surface\":[{\"type\":\"surface\",\"colorbar\":{\"outlinewidth\":0,\"ticks\":\"\"},\"colorscale\":[[0.0,\"#0d0887\"],[0.1111111111111111,\"#46039f\"],[0.2222222222222222,\"#7201a8\"],[0.3333333333333333,\"#9c179e\"],[0.4444444444444444,\"#bd3786\"],[0.5555555555555556,\"#d8576b\"],[0.6666666666666666,\"#ed7953\"],[0.7777777777777778,\"#fb9f3a\"],[0.8888888888888888,\"#fdca26\"],[1.0,\"#f0f921\"]]}],\"mesh3d\":[{\"type\":\"mesh3d\",\"colorbar\":{\"outlinewidth\":0,\"ticks\":\"\"}}],\"scatter\":[{\"fillpattern\":{\"fillmode\":\"overlay\",\"size\":10,\"solidity\":0.2},\"type\":\"scatter\"}],\"parcoords\":[{\"type\":\"parcoords\",\"line\":{\"colorbar\":{\"outlinewidth\":0,\"ticks\":\"\"}}}],\"scatterpolargl\":[{\"type\":\"scatterpolargl\",\"marker\":{\"colorbar\":{\"outlinewidth\":0,\"ticks\":\"\"}}}],\"bar\":[{\"error_x\":{\"color\":\"#2a3f5f\"},\"error_y\":{\"color\":\"#2a3f5f\"},\"marker\":{\"line\":{\"color\":\"#E5ECF6\",\"width\":0.5},\"pattern\":{\"fillmode\":\"overlay\",\"size\":10,\"solidity\":0.2}},\"type\":\"bar\"}],\"scattergeo\":[{\"type\":\"scattergeo\",\"marker\":{\"colorbar\":{\"outlinewidth\":0,\"ticks\":\"\"}}}],\"scatterpolar\":[{\"type\":\"scatterpolar\",\"marker\":{\"colorbar\":{\"outlinewidth\":0,\"ticks\":\"\"}}}],\"histogram\":[{\"marker\":{\"pattern\":{\"fillmode\":\"overlay\",\"size\":10,\"solidity\":0.2}},\"type\":\"histogram\"}],\"scattergl\":[{\"type\":\"scattergl\",\"marker\":{\"colorbar\":{\"outlinewidth\":0,\"ticks\":\"\"}}}],\"scatter3d\":[{\"type\":\"scatter3d\",\"line\":{\"colorbar\":{\"outlinewidth\":0,\"ticks\":\"\"}},\"marker\":{\"colorbar\":{\"outlinewidth\":0,\"ticks\":\"\"}}}],\"scattermapbox\":[{\"type\":\"scattermapbox\",\"marker\":{\"colorbar\":{\"outlinewidth\":0,\"ticks\":\"\"}}}],\"scatterternary\":[{\"type\":\"scatterternary\",\"marker\":{\"colorbar\":{\"outlinewidth\":0,\"ticks\":\"\"}}}],\"scattercarpet\":[{\"type\":\"scattercarpet\",\"marker\":{\"colorbar\":{\"outlinewidth\":0,\"ticks\":\"\"}}}],\"carpet\":[{\"aaxis\":{\"endlinecolor\":\"#2a3f5f\",\"gridcolor\":\"white\",\"linecolor\":\"white\",\"minorgridcolor\":\"white\",\"startlinecolor\":\"#2a3f5f\"},\"baxis\":{\"endlinecolor\":\"#2a3f5f\",\"gridcolor\":\"white\",\"linecolor\":\"white\",\"minorgridcolor\":\"white\",\"startlinecolor\":\"#2a3f5f\"},\"type\":\"carpet\"}],\"table\":[{\"cells\":{\"fill\":{\"color\":\"#EBF0F8\"},\"line\":{\"color\":\"white\"}},\"header\":{\"fill\":{\"color\":\"#C8D4E3\"},\"line\":{\"color\":\"white\"}},\"type\":\"table\"}],\"barpolar\":[{\"marker\":{\"line\":{\"color\":\"#E5ECF6\",\"width\":0.5},\"pattern\":{\"fillmode\":\"overlay\",\"size\":10,\"solidity\":0.2}},\"type\":\"barpolar\"}],\"pie\":[{\"automargin\":true,\"type\":\"pie\"}]},\"layout\":{\"autotypenumbers\":\"strict\",\"colorway\":[\"#636efa\",\"#EF553B\",\"#00cc96\",\"#ab63fa\",\"#FFA15A\",\"#19d3f3\",\"#FF6692\",\"#B6E880\",\"#FF97FF\",\"#FECB52\"],\"font\":{\"color\":\"#2a3f5f\"},\"hovermode\":\"closest\",\"hoverlabel\":{\"align\":\"left\"},\"paper_bgcolor\":\"white\",\"plot_bgcolor\":\"#E5ECF6\",\"polar\":{\"bgcolor\":\"#E5ECF6\",\"angularaxis\":{\"gridcolor\":\"white\",\"linecolor\":\"white\",\"ticks\":\"\"},\"radialaxis\":{\"gridcolor\":\"white\",\"linecolor\":\"white\",\"ticks\":\"\"}},\"ternary\":{\"bgcolor\":\"#E5ECF6\",\"aaxis\":{\"gridcolor\":\"white\",\"linecolor\":\"white\",\"ticks\":\"\"},\"baxis\":{\"gridcolor\":\"white\",\"linecolor\":\"white\",\"ticks\":\"\"},\"caxis\":{\"gridcolor\":\"white\",\"linecolor\":\"white\",\"ticks\":\"\"}},\"coloraxis\":{\"colorbar\":{\"outlinewidth\":0,\"ticks\":\"\"}},\"colorscale\":{\"sequential\":[[0.0,\"#0d0887\"],[0.1111111111111111,\"#46039f\"],[0.2222222222222222,\"#7201a8\"],[0.3333333333333333,\"#9c179e\"],[0.4444444444444444,\"#bd3786\"],[0.5555555555555556,\"#d8576b\"],[0.6666666666666666,\"#ed7953\"],[0.7777777777777778,\"#fb9f3a\"],[0.8888888888888888,\"#fdca26\"],[1.0,\"#f0f921\"]],\"sequentialminus\":[[0.0,\"#0d0887\"],[0.1111111111111111,\"#46039f\"],[0.2222222222222222,\"#7201a8\"],[0.3333333333333333,\"#9c179e\"],[0.4444444444444444,\"#bd3786\"],[0.5555555555555556,\"#d8576b\"],[0.6666666666666666,\"#ed7953\"],[0.7777777777777778,\"#fb9f3a\"],[0.8888888888888888,\"#fdca26\"],[1.0,\"#f0f921\"]],\"diverging\":[[0,\"#8e0152\"],[0.1,\"#c51b7d\"],[0.2,\"#de77ae\"],[0.3,\"#f1b6da\"],[0.4,\"#fde0ef\"],[0.5,\"#f7f7f7\"],[0.6,\"#e6f5d0\"],[0.7,\"#b8e186\"],[0.8,\"#7fbc41\"],[0.9,\"#4d9221\"],[1,\"#276419\"]]},\"xaxis\":{\"gridcolor\":\"white\",\"linecolor\":\"white\",\"ticks\":\"\",\"title\":{\"standoff\":15},\"zerolinecolor\":\"white\",\"automargin\":true,\"zerolinewidth\":2},\"yaxis\":{\"gridcolor\":\"white\",\"linecolor\":\"white\",\"ticks\":\"\",\"title\":{\"standoff\":15},\"zerolinecolor\":\"white\",\"automargin\":true,\"zerolinewidth\":2},\"scene\":{\"xaxis\":{\"backgroundcolor\":\"#E5ECF6\",\"gridcolor\":\"white\",\"linecolor\":\"white\",\"showbackground\":true,\"ticks\":\"\",\"zerolinecolor\":\"white\",\"gridwidth\":2},\"yaxis\":{\"backgroundcolor\":\"#E5ECF6\",\"gridcolor\":\"white\",\"linecolor\":\"white\",\"showbackground\":true,\"ticks\":\"\",\"zerolinecolor\":\"white\",\"gridwidth\":2},\"zaxis\":{\"backgroundcolor\":\"#E5ECF6\",\"gridcolor\":\"white\",\"linecolor\":\"white\",\"showbackground\":true,\"ticks\":\"\",\"zerolinecolor\":\"white\",\"gridwidth\":2}},\"shapedefaults\":{\"line\":{\"color\":\"#2a3f5f\"}},\"annotationdefaults\":{\"arrowcolor\":\"#2a3f5f\",\"arrowhead\":0,\"arrowwidth\":1},\"geo\":{\"bgcolor\":\"white\",\"landcolor\":\"#E5ECF6\",\"subunitcolor\":\"white\",\"showland\":true,\"showlakes\":true,\"lakecolor\":\"white\"},\"title\":{\"x\":0.05},\"mapbox\":{\"style\":\"light\"}}},\"showlegend\":false,\"height\":700,\"width\":800},                        {\"responsive\": true}                    ).then(function(){\n",
       "                            \n",
       "var gd = document.getElementById('9766dbef-4e3d-438f-a760-462484bd1662');\n",
       "var x = new MutationObserver(function (mutations, observer) {{\n",
       "        var display = window.getComputedStyle(gd).display;\n",
       "        if (!display || display === 'none') {{\n",
       "            console.log([gd, 'removed!']);\n",
       "            Plotly.purge(gd);\n",
       "            observer.disconnect();\n",
       "        }}\n",
       "}});\n",
       "\n",
       "// Listen for the removal of the full notebook cells\n",
       "var notebookContainer = gd.closest('#notebook-container');\n",
       "if (notebookContainer) {{\n",
       "    x.observe(notebookContainer, {childList: true});\n",
       "}}\n",
       "\n",
       "// Listen for the clearing of the current output cell\n",
       "var outputEl = gd.closest('.output');\n",
       "if (outputEl) {{\n",
       "    x.observe(outputEl, {childList: true});\n",
       "}}\n",
       "\n",
       "                        })                };                });            </script>        </div>"
      ]
     },
     "metadata": {},
     "output_type": "display_data"
    }
   ],
   "source": [
    "import plotly.graph_objects as go\n",
    "\n",
    "standard = (df-df.mean())/df.std()\n",
    "\n",
    "# Create a box plot\n",
    "fig = go.Figure()\n",
    "for i in standard.columns:\n",
    "    fig.add_trace(go.Box(y=standard[str(i)], name=str(i)))\n",
    "fig.update_layout(showlegend=False,height = 700, width=800)\n",
    "fig.show()"
   ]
  },
  {
   "cell_type": "markdown",
   "metadata": {},
   "source": [
    "#### Observation\n",
    "The box plot displays the data distribution characteristics of a __Gaussian (normal) distribution__. A bell-shaped curve is suggested by symmetrical distribution around the median and evenly split quartile boxes. Whiskers equidistant above and below the quartiles suggest normalcy. However, several outliers, especially on the lower whisker, merit caution. Outliers can exist in normal distributions, but their prevalence may test the Gaussian assumption. However, the data's symmetry and central tendency reflect a normal distribution, demonstrating a close resemblance."
   ]
  },
  {
   "cell_type": "markdown",
   "metadata": {},
   "source": [
    "#### 3. Create a summary statistics."
   ]
  },
  {
   "cell_type": "code",
   "execution_count": 11,
   "metadata": {},
   "outputs": [
    {
     "data": {
      "text/html": [
       "<div>\n",
       "<style scoped>\n",
       "    .dataframe tbody tr th:only-of-type {\n",
       "        vertical-align: middle;\n",
       "    }\n",
       "\n",
       "    .dataframe tbody tr th {\n",
       "        vertical-align: top;\n",
       "    }\n",
       "\n",
       "    .dataframe thead th {\n",
       "        text-align: right;\n",
       "    }\n",
       "</style>\n",
       "<table border=\"1\" class=\"dataframe\">\n",
       "  <thead>\n",
       "    <tr style=\"text-align: right;\">\n",
       "      <th></th>\n",
       "      <th>MDEC-23</th>\n",
       "      <th>MATS2v</th>\n",
       "      <th>ATSC8s</th>\n",
       "      <th>VE3_Dt</th>\n",
       "      <th>CrippenMR</th>\n",
       "      <th>SpMax7_Bhe</th>\n",
       "      <th>SpMin1_Bhs</th>\n",
       "      <th>C1SP2</th>\n",
       "      <th>GATS8e</th>\n",
       "      <th>GATS8s</th>\n",
       "      <th>SpMax5_Bhv</th>\n",
       "      <th>VE3_Dzi</th>\n",
       "      <th>VPC-4</th>\n",
       "    </tr>\n",
       "  </thead>\n",
       "  <tbody>\n",
       "    <tr>\n",
       "      <th>count</th>\n",
       "      <td>171.000000</td>\n",
       "      <td>171.000000</td>\n",
       "      <td>171.000000</td>\n",
       "      <td>171.000000</td>\n",
       "      <td>171.000000</td>\n",
       "      <td>171.000000</td>\n",
       "      <td>171.000000</td>\n",
       "      <td>171.000000</td>\n",
       "      <td>171.000000</td>\n",
       "      <td>171.000000</td>\n",
       "      <td>171.000000</td>\n",
       "      <td>171.000000</td>\n",
       "      <td>171.000000</td>\n",
       "    </tr>\n",
       "    <tr>\n",
       "      <th>mean</th>\n",
       "      <td>39.135014</td>\n",
       "      <td>-0.005382</td>\n",
       "      <td>-6.269639</td>\n",
       "      <td>-32.311274</td>\n",
       "      <td>146.236654</td>\n",
       "      <td>3.220797</td>\n",
       "      <td>2.041885</td>\n",
       "      <td>2.760234</td>\n",
       "      <td>1.090043</td>\n",
       "      <td>1.131815</td>\n",
       "      <td>3.425033</td>\n",
       "      <td>-23.920250</td>\n",
       "      <td>2.568535</td>\n",
       "    </tr>\n",
       "    <tr>\n",
       "      <th>std</th>\n",
       "      <td>10.086143</td>\n",
       "      <td>0.081755</td>\n",
       "      <td>30.055317</td>\n",
       "      <td>51.493985</td>\n",
       "      <td>26.937485</td>\n",
       "      <td>0.191441</td>\n",
       "      <td>0.080524</td>\n",
       "      <td>1.551412</td>\n",
       "      <td>0.455048</td>\n",
       "      <td>0.498616</td>\n",
       "      <td>0.199008</td>\n",
       "      <td>42.218482</td>\n",
       "      <td>0.849953</td>\n",
       "    </tr>\n",
       "    <tr>\n",
       "      <th>min</th>\n",
       "      <td>7.861200</td>\n",
       "      <td>-0.152700</td>\n",
       "      <td>-120.803600</td>\n",
       "      <td>-167.741600</td>\n",
       "      <td>0.000000</td>\n",
       "      <td>2.247100</td>\n",
       "      <td>1.870900</td>\n",
       "      <td>0.000000</td>\n",
       "      <td>0.207600</td>\n",
       "      <td>0.231900</td>\n",
       "      <td>2.503400</td>\n",
       "      <td>-159.179600</td>\n",
       "      <td>0.000000</td>\n",
       "    </tr>\n",
       "    <tr>\n",
       "      <th>25%</th>\n",
       "      <td>32.911850</td>\n",
       "      <td>-0.074050</td>\n",
       "      <td>-19.902350</td>\n",
       "      <td>-16.831150</td>\n",
       "      <td>137.735350</td>\n",
       "      <td>3.157700</td>\n",
       "      <td>1.988400</td>\n",
       "      <td>2.000000</td>\n",
       "      <td>0.840100</td>\n",
       "      <td>0.817600</td>\n",
       "      <td>3.334050</td>\n",
       "      <td>-14.401850</td>\n",
       "      <td>2.183700</td>\n",
       "    </tr>\n",
       "    <tr>\n",
       "      <th>50%</th>\n",
       "      <td>39.828400</td>\n",
       "      <td>-0.005500</td>\n",
       "      <td>-5.951200</td>\n",
       "      <td>-8.148000</td>\n",
       "      <td>150.502700</td>\n",
       "      <td>3.260100</td>\n",
       "      <td>2.039900</td>\n",
       "      <td>3.000000</td>\n",
       "      <td>1.022700</td>\n",
       "      <td>1.039100</td>\n",
       "      <td>3.457500</td>\n",
       "      <td>-7.053600</td>\n",
       "      <td>2.647200</td>\n",
       "    </tr>\n",
       "    <tr>\n",
       "      <th>75%</th>\n",
       "      <td>45.469500</td>\n",
       "      <td>0.039500</td>\n",
       "      <td>6.988850</td>\n",
       "      <td>-5.928400</td>\n",
       "      <td>162.921750</td>\n",
       "      <td>3.339450</td>\n",
       "      <td>2.078700</td>\n",
       "      <td>4.000000</td>\n",
       "      <td>1.258300</td>\n",
       "      <td>1.357500</td>\n",
       "      <td>3.549150</td>\n",
       "      <td>-4.702950</td>\n",
       "      <td>2.991850</td>\n",
       "    </tr>\n",
       "    <tr>\n",
       "      <th>max</th>\n",
       "      <td>65.256000</td>\n",
       "      <td>0.284900</td>\n",
       "      <td>93.508200</td>\n",
       "      <td>-2.067100</td>\n",
       "      <td>180.556500</td>\n",
       "      <td>3.464200</td>\n",
       "      <td>2.347500</td>\n",
       "      <td>8.000000</td>\n",
       "      <td>4.299900</td>\n",
       "      <td>4.223000</td>\n",
       "      <td>3.761600</td>\n",
       "      <td>0.000000</td>\n",
       "      <td>6.185400</td>\n",
       "    </tr>\n",
       "  </tbody>\n",
       "</table>\n",
       "</div>"
      ],
      "text/plain": [
       "          MDEC-23      MATS2v      ATSC8s      VE3_Dt   CrippenMR  SpMax7_Bhe  \\\n",
       "count  171.000000  171.000000  171.000000  171.000000  171.000000  171.000000   \n",
       "mean    39.135014   -0.005382   -6.269639  -32.311274  146.236654    3.220797   \n",
       "std     10.086143    0.081755   30.055317   51.493985   26.937485    0.191441   \n",
       "min      7.861200   -0.152700 -120.803600 -167.741600    0.000000    2.247100   \n",
       "25%     32.911850   -0.074050  -19.902350  -16.831150  137.735350    3.157700   \n",
       "50%     39.828400   -0.005500   -5.951200   -8.148000  150.502700    3.260100   \n",
       "75%     45.469500    0.039500    6.988850   -5.928400  162.921750    3.339450   \n",
       "max     65.256000    0.284900   93.508200   -2.067100  180.556500    3.464200   \n",
       "\n",
       "       SpMin1_Bhs       C1SP2      GATS8e      GATS8s  SpMax5_Bhv     VE3_Dzi  \\\n",
       "count  171.000000  171.000000  171.000000  171.000000  171.000000  171.000000   \n",
       "mean     2.041885    2.760234    1.090043    1.131815    3.425033  -23.920250   \n",
       "std      0.080524    1.551412    0.455048    0.498616    0.199008   42.218482   \n",
       "min      1.870900    0.000000    0.207600    0.231900    2.503400 -159.179600   \n",
       "25%      1.988400    2.000000    0.840100    0.817600    3.334050  -14.401850   \n",
       "50%      2.039900    3.000000    1.022700    1.039100    3.457500   -7.053600   \n",
       "75%      2.078700    4.000000    1.258300    1.357500    3.549150   -4.702950   \n",
       "max      2.347500    8.000000    4.299900    4.223000    3.761600    0.000000   \n",
       "\n",
       "            VPC-4  \n",
       "count  171.000000  \n",
       "mean     2.568535  \n",
       "std      0.849953  \n",
       "min      0.000000  \n",
       "25%      2.183700  \n",
       "50%      2.647200  \n",
       "75%      2.991850  \n",
       "max      6.185400  "
      ]
     },
     "execution_count": 11,
     "metadata": {},
     "output_type": "execute_result"
    }
   ],
   "source": [
    "summary = df.describe(include = 'all')\n",
    "summary"
   ]
  },
  {
   "cell_type": "markdown",
   "metadata": {},
   "source": [
    "#### 4. Perform a hypothesis test (Code from scratch).\n",
    "\n",
    "#### Defining the Null and Alternative Hypothesis:<br>\n",
    "The null hypothesis (Ho) is that the mean of MDEC-23 for Group 1 is equal to the mean of MDEC-23 for Group 2. The alternative hypothesis (Ha) is that the mean of MDEC-23 for Group 1 is not equal to the mean of MDEC-23 for Group 2.<br>\n",
    "\n",
    "- Ho: μ1 = μ2\n",
    "- Ha: μ1 ≠ μ2\n",
    "\n",
    "A significance level of α = 0.05 will be used.<br><br>\n",
    "#### Performing the Unpaired Two-Sample t-test:"
   ]
  },
  {
   "cell_type": "code",
   "execution_count": 12,
   "metadata": {},
   "outputs": [
    {
     "name": "stdout",
     "output_type": "stream",
     "text": [
      "t-statistic: 36.5851761726813\n",
      "Critical value: 2.048\n",
      "p-value: 0.0\n",
      "Reject Ho\n"
     ]
    }
   ],
   "source": [
    "# Defining custom functions since numpy should not be used (code from scratch)\n",
    "def cust_sqrt(x):\n",
    "    return x**0.5\n",
    "\n",
    "def cust_linspace(start, stop, num):\n",
    "    delta = (stop-start)/(num - 1)\n",
    "    return [start + i*delta for i in range(num)]\n",
    "\n",
    "def cust_exp(x):\n",
    "    return 2.71828**x\n",
    "\n",
    "def cust_sum(arr):\n",
    "    total = 0\n",
    "    for val in arr:\n",
    "        total += val\n",
    "    return total\n",
    "\n",
    "def cust_zeros_like(arr):\n",
    "    return [0]*len(arr)\n",
    "\n",
    "def cust_abs(x):\n",
    "    if x >= 0:\n",
    "        return x\n",
    "    else:\n",
    "        return -x\n",
    "\n",
    "def cust_argmin(arr):\n",
    "    min_val = arr[0]\n",
    "    min_idx = 0\n",
    "    for i in range(1, len(arr)):\n",
    "        if arr[i] < min_val:\n",
    "            min_val = arr[i]\n",
    "            min_idx = i\n",
    "    return min_idx\n",
    "\n",
    "# Define groups\n",
    "grp1 = df['MDEC-23'][:85]\n",
    "grp2 = df['MDEC-23'][85:]\n",
    "\n",
    "# Mean & variance\n",
    "mean1 = cust_sum(grp1) / len(grp1)\n",
    "mean2 = cust_sum(grp2) / len(grp2)\n",
    "var1 = cust_sum((x - mean1)**2 for x in grp1) / (len(grp1)-1)\n",
    "var2 = cust_sum((x - mean2)**2 for x in grp2) / (len(grp2)-1)\n",
    "\n",
    "# Pooled standard deviation & t-statistic\n",
    "pooled_std = cust_sqrt((var1+var2) / (len(grp1)+len(grp2)-2))\n",
    "t_stat = (mean1-mean2) / (pooled_std*cust_sqrt(1/len(grp1)+1/len(grp2)))\n",
    "\n",
    "df = len(grp1)+len(grp2)-2\n",
    "alpha = 0.05\n",
    "crit_value = 2.048\n",
    "\n",
    "# Approximate CDF of t-distribution\n",
    "def t_cdf(t, df, n=1000):\n",
    "    x = cust_linspace(-10, 10, n)\n",
    "    delta = x[1]-x[0]\n",
    "    y = [(1 / cust_sqrt(2*3.14159)) * cust_exp(-i**2 / 2) for i in x]\n",
    "    cdf = [0]*len(x)\n",
    "    cdf[0] = 0.5 * y[0] * delta\n",
    "    for i in range(1, len(x)):\n",
    "        cdf[i] = cdf[i-1] + 0.5 * (y[i-1]+y[i]) * delta\n",
    "    return cdf[cust_argmin([cust_abs(val-t) for val in x])]\n",
    "\n",
    "# p-value\n",
    "if t_stat >= 0:\n",
    "    p_value = 2*(1-t_cdf(t_stat, df))\n",
    "else:\n",
    "    p_value = 2*t_cdf(t_stat, df)\n",
    "\n",
    "print(\"t-statistic:\", t_stat)\n",
    "print(\"Critical value:\", crit_value)\n",
    "print(\"p-value:\", max(0.0, p_value))\n",
    "\n",
    "# Reject or fail to reject null hypothesis\n",
    "if cust_abs(t_stat) > crit_value:\n",
    "    print(\"Reject Ho\")\n",
    "else:\n",
    "    print(\"Fail to reject Ho\")"
   ]
  },
  {
   "cell_type": "markdown",
   "metadata": {},
   "source": [
    "#### Interpreting the Results:<br>\n",
    "The null hypothesis can be rejected because the estimated t-statistic, 36.5852, is substantially bigger than the crucial value, 2.048. The p-value is 0.0 as well, which is the smallest possible value. There is considerable evidence that Group 1 and Group 2 means are statistically different."
   ]
  }
 ],
 "metadata": {
  "kernelspec": {
   "display_name": "Python 3 (ipykernel)",
   "language": "python",
   "name": "python3"
  },
  "language_info": {
   "codemirror_mode": {
    "name": "ipython",
    "version": 3
   },
   "file_extension": ".py",
   "mimetype": "text/x-python",
   "name": "python",
   "nbconvert_exporter": "python",
   "pygments_lexer": "ipython3",
   "version": "3.10.11"
  }
 },
 "nbformat": 4,
 "nbformat_minor": 4
}
